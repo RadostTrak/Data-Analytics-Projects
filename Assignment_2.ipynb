{
  "cells": [
    {
      "cell_type": "markdown",
      "id": "qtXi8SB2oM89",
      "metadata": {
        "id": "qtXi8SB2oM89"
      },
      "source": [
        "# Import package"
      ]
    },
    {
      "cell_type": "code",
      "execution_count": 1,
      "id": "5e8c23cd",
      "metadata": {
        "id": "5e8c23cd"
      },
      "outputs": [],
      "source": [
        "import pandas as pd\n",
        "import numpy as np\n",
        "import plotly.graph_objects as go\n",
        "import plotly.express as px\n",
        "from sklearn.cluster import AffinityPropagation, DBSCAN, Birch\n",
        "from sklearn.decomposition import PCA\n",
        "import matplotlib.pyplot as plt\n",
        "import matplotlib.patches as mpatches\n",
        "from sklearn.metrics import davies_bouldin_score, calinski_harabasz_score\n",
        "from scipy.spatial.distance import cdist"
      ]
    },
    {
      "cell_type": "code",
      "execution_count": 2,
      "id": "6f964f93",
      "metadata": {
        "colab": {
          "base_uri": "https://localhost:8080/",
          "height": 367
        },
        "id": "6f964f93",
        "lines_to_next_cell": 1,
        "outputId": "4ae399bc-70ce-402a-d0e3-d03c93ec8998"
      },
      "outputs": [
        {
          "name": "stdout",
          "output_type": "stream",
          "text": [
            "       Administrative  Administrative_Duration  Informational  \\\n",
            "count    12330.000000             12330.000000   12330.000000   \n",
            "mean         0.085747                 0.023779       0.020982   \n",
            "std          0.123029                 0.052013       0.052923   \n",
            "min          0.000000                 0.000000       0.000000   \n",
            "25%          0.000000                 0.000000       0.000000   \n",
            "50%          0.037037                 0.002207       0.000000   \n",
            "75%          0.148148                 0.027438       0.000000   \n",
            "max          1.000000                 1.000000       1.000000   \n",
            "\n",
            "       Informational_Duration  ProductRelated  ProductRelated_Duration  \\\n",
            "count            12330.000000    12330.000000             12330.000000   \n",
            "mean                 0.013522        0.045009                 0.018676   \n",
            "std                  0.055209        0.063086                 0.029913   \n",
            "min                  0.000000        0.000000                 0.000000   \n",
            "25%                  0.000000        0.009929                 0.002878   \n",
            "50%                  0.000000        0.025532                 0.009362   \n",
            "75%                  0.000000        0.053901                 0.022887   \n",
            "max                  1.000000        1.000000                 1.000000   \n",
            "\n",
            "        BounceRates     ExitRates    PageValues    SpecialDay  \\\n",
            "count  12330.000000  12330.000000  12330.000000  12330.000000   \n",
            "mean       0.110957      0.215364      0.016279      0.061427   \n",
            "std        0.242442      0.242983      0.051328      0.198917   \n",
            "min        0.000000      0.000000      0.000000      0.000000   \n",
            "25%        0.000000      0.071429      0.000000      0.000000   \n",
            "50%        0.015562      0.125782      0.000000      0.000000   \n",
            "75%        0.084063      0.250000      0.000000      0.000000   \n",
            "max        1.000000      1.000000      1.000000      1.000000   \n",
            "\n",
            "       OperatingSystems       Browser        Region   TrafficType  \n",
            "count      12330.000000  12330.000000  12330.000000  12330.000000  \n",
            "mean           0.160572      0.113091      0.268421      0.161557  \n",
            "std            0.130189      0.143106      0.300199      0.211851  \n",
            "min            0.000000      0.000000      0.000000      0.000000  \n",
            "25%            0.142857      0.083333      0.000000      0.052632  \n",
            "50%            0.142857      0.083333      0.250000      0.052632  \n",
            "75%            0.285714      0.083333      0.375000      0.157895  \n",
            "max            1.000000      1.000000      1.000000      1.000000  \n"
          ]
        }
      ],
      "source": [
        "# Normalization function\n",
        "def normalize(dataColumn):\n",
        "    min_value = min(dataColumn)\n",
        "    max_value = max(dataColumn)\n",
        "\n",
        "    normalized_data = [(x-min_value)/(max_value - min_value) for x in dataColumn]\n",
        "\n",
        "    return normalized_data\n",
        "\n",
        "# Import data\n",
        "shoppers_data = pd.read_csv(\"online_shoppers_intention.csv\")\n",
        "\n",
        "# Normalize when applicable\n",
        "float_shoppers_data = shoppers_data.select_dtypes(\"float\")\n",
        "\n",
        "for i in float_shoppers_data.columns:\n",
        "    shoppers_data[i] = normalize(float_shoppers_data[i])\n",
        "\n",
        "int_shoppers_data = shoppers_data.select_dtypes(\"int\")\n",
        "\n",
        "for i in int_shoppers_data.columns:\n",
        "    shoppers_data[i] = normalize(int_shoppers_data[i])\n",
        "\n",
        "print(shoppers_data.describe())"
      ]
    },
    {
      "cell_type": "code",
      "execution_count": 3,
      "id": "32f84ce6",
      "metadata": {
        "id": "32f84ce6"
      },
      "outputs": [
        {
          "name": "stdout",
          "output_type": "stream",
          "text": [
            "       Administrative  Administrative_Duration  Informational  \\\n",
            "count    12330.000000             12330.000000   12330.000000   \n",
            "mean         0.085747                 0.023779       0.020982   \n",
            "std          0.123029                 0.052013       0.052923   \n",
            "min          0.000000                 0.000000       0.000000   \n",
            "25%          0.000000                 0.000000       0.000000   \n",
            "50%          0.037037                 0.002207       0.000000   \n",
            "75%          0.148148                 0.027438       0.000000   \n",
            "max          1.000000                 1.000000       1.000000   \n",
            "\n",
            "       Informational_Duration  ProductRelated  ProductRelated_Duration  \\\n",
            "count            12330.000000    12330.000000             12330.000000   \n",
            "mean                 0.013522        0.045009                 0.018676   \n",
            "std                  0.055209        0.063086                 0.029913   \n",
            "min                  0.000000        0.000000                 0.000000   \n",
            "25%                  0.000000        0.009929                 0.002878   \n",
            "50%                  0.000000        0.025532                 0.009362   \n",
            "75%                  0.000000        0.053901                 0.022887   \n",
            "max                  1.000000        1.000000                 1.000000   \n",
            "\n",
            "        BounceRates     ExitRates    PageValues    SpecialDay  \\\n",
            "count  12330.000000  12330.000000  12330.000000  12330.000000   \n",
            "mean       0.110957      0.215364      0.016279      0.061427   \n",
            "std        0.242442      0.242983      0.051328      0.198917   \n",
            "min        0.000000      0.000000      0.000000      0.000000   \n",
            "25%        0.000000      0.071429      0.000000      0.000000   \n",
            "50%        0.015562      0.125782      0.000000      0.000000   \n",
            "75%        0.084063      0.250000      0.000000      0.000000   \n",
            "max        1.000000      1.000000      1.000000      1.000000   \n",
            "\n",
            "       OperatingSystems       Browser        Region   TrafficType  \\\n",
            "count      12330.000000  12330.000000  12330.000000  12330.000000   \n",
            "mean           0.160572      0.113091      0.268421      0.161557   \n",
            "std            0.130189      0.143106      0.300199      0.211851   \n",
            "min            0.000000      0.000000      0.000000      0.000000   \n",
            "25%            0.142857      0.083333      0.000000      0.052632   \n",
            "50%            0.142857      0.083333      0.250000      0.052632   \n",
            "75%            0.285714      0.083333      0.375000      0.157895   \n",
            "max            1.000000      1.000000      1.000000      1.000000   \n",
            "\n",
            "            Weekend       Revenue  \n",
            "count  12330.000000  12330.000000  \n",
            "mean       0.232603      0.154745  \n",
            "std        0.422509      0.361676  \n",
            "min        0.000000      0.000000  \n",
            "25%        0.000000      0.000000  \n",
            "50%        0.000000      0.000000  \n",
            "75%        0.000000      0.000000  \n",
            "max        1.000000      1.000000  \n"
          ]
        }
      ],
      "source": [
        "# Taking the relevant values for machine learning\n",
        "columns_to_drop = ['Month', 'VisitorType']\n",
        "numerical_shoppers_data = shoppers_data.drop(columns=columns_to_drop, errors='ignore')\n",
        "\n",
        "# Recoding boolean values\n",
        "numerical_shoppers_data['Weekend'] = numerical_shoppers_data['Weekend'].map({True: 1, False: 0})\n",
        "numerical_shoppers_data['Revenue'] = numerical_shoppers_data['Revenue'].map({True: 1, False: 0})\n",
        "\n",
        "print(numerical_shoppers_data.describe())"
      ]
    },
    {
      "cell_type": "markdown",
      "id": "NefjskAWpJqq",
      "metadata": {
        "id": "NefjskAWpJqq"
      },
      "source": [
        "# Part 1"
      ]
    },
    {
      "cell_type": "markdown",
      "id": "wyKk7CDDpM0g",
      "metadata": {
        "id": "wyKk7CDDpM0g"
      },
      "source": [
        "## 1.2 Comparison between browser 13 and other browsers"
      ]
    },
    {
      "cell_type": "code",
      "execution_count": 4,
      "id": "6e12e9d2",
      "metadata": {
        "colab": {
          "base_uri": "https://localhost:8080/",
          "height": 207
        },
        "id": "6e12e9d2",
        "outputId": "f50452c9-529d-4fd3-9dff-8f494f59b978"
      },
      "outputs": [
        {
          "data": {
            "application/vnd.plotly.v1+json": {
              "config": {
                "plotlyServerURL": "https://plot.ly"
              },
              "data": [
                {
                  "alignmentgroup": "True",
                  "hovertemplate": "Variable=%{x}<br>Value=%{y}<br>index=%{marker.color}<extra></extra>",
                  "legendgroup": "",
                  "marker": {
                    "color": [
                      0,
                      1,
                      0,
                      1,
                      0,
                      1,
                      0,
                      1,
                      0,
                      1,
                      0,
                      1,
                      0,
                      1,
                      0,
                      1,
                      0,
                      1,
                      0,
                      1,
                      0,
                      1,
                      0,
                      1
                    ],
                    "coloraxis": "coloraxis",
                    "pattern": {
                      "shape": ""
                    }
                  },
                  "name": "",
                  "offsetgroup": "",
                  "orientation": "v",
                  "showlegend": false,
                  "textposition": "auto",
                  "type": "bar",
                  "x": [
                    "Administrative Mean",
                    "Administrative Mean",
                    "Administrative_Duration Mean",
                    "Administrative_Duration Mean",
                    "Informational Mean",
                    "Informational Mean",
                    "Informational_Duration Mean",
                    "Informational_Duration Mean",
                    "ProductRelated Mean",
                    "ProductRelated Mean",
                    "ProductRelated_Duration Mean",
                    "ProductRelated_Duration Mean",
                    "BounceRates Mean",
                    "BounceRates Mean",
                    "ExitRates Mean",
                    "ExitRates Mean",
                    "PageValues Mean",
                    "PageValues Mean",
                    "SpecialDay Mean",
                    "SpecialDay Mean",
                    "Weekend Mean",
                    "Weekend Mean",
                    "Revenue Mean",
                    "Revenue Mean"
                  ],
                  "xaxis": "x",
                  "y": [
                    0.0649666059502125,
                    0.08585021568964839,
                    0.021689306378839854,
                    0.02378931113901626,
                    0.009562841530054645,
                    0.021038796967968048,
                    0.0018504481841016963,
                    0.01357993068416022,
                    0.02111382397395651,
                    0.04512797924076653,
                    0.010932466594886772,
                    0.018714134192916478,
                    0.171864073852459,
                    0.11065407918453012,
                    0.26421240590163936,
                    0.2151211203476241,
                    0.07261161271996233,
                    0.015999215200803604,
                    0,
                    0.061732822560925917,
                    0.03278688524590164,
                    0.2335968701605673,
                    0.26229508196721313,
                    0.1542097970494743
                  ],
                  "yaxis": "y"
                }
              ],
              "layout": {
                "barmode": "group",
                "coloraxis": {
                  "colorbar": {
                    "title": {
                      "text": "index"
                    }
                  },
                  "colorscale": [
                    [
                      0,
                      "#0d0887"
                    ],
                    [
                      0.1111111111111111,
                      "#46039f"
                    ],
                    [
                      0.2222222222222222,
                      "#7201a8"
                    ],
                    [
                      0.3333333333333333,
                      "#9c179e"
                    ],
                    [
                      0.4444444444444444,
                      "#bd3786"
                    ],
                    [
                      0.5555555555555556,
                      "#d8576b"
                    ],
                    [
                      0.6666666666666666,
                      "#ed7953"
                    ],
                    [
                      0.7777777777777778,
                      "#fb9f3a"
                    ],
                    [
                      0.8888888888888888,
                      "#fdca26"
                    ],
                    [
                      1,
                      "#f0f921"
                    ]
                  ]
                },
                "legend": {
                  "tracegroupgap": 0
                },
                "template": {
                  "data": {
                    "bar": [
                      {
                        "error_x": {
                          "color": "#2a3f5f"
                        },
                        "error_y": {
                          "color": "#2a3f5f"
                        },
                        "marker": {
                          "line": {
                            "color": "#E5ECF6",
                            "width": 0.5
                          },
                          "pattern": {
                            "fillmode": "overlay",
                            "size": 10,
                            "solidity": 0.2
                          }
                        },
                        "type": "bar"
                      }
                    ],
                    "barpolar": [
                      {
                        "marker": {
                          "line": {
                            "color": "#E5ECF6",
                            "width": 0.5
                          },
                          "pattern": {
                            "fillmode": "overlay",
                            "size": 10,
                            "solidity": 0.2
                          }
                        },
                        "type": "barpolar"
                      }
                    ],
                    "carpet": [
                      {
                        "aaxis": {
                          "endlinecolor": "#2a3f5f",
                          "gridcolor": "white",
                          "linecolor": "white",
                          "minorgridcolor": "white",
                          "startlinecolor": "#2a3f5f"
                        },
                        "baxis": {
                          "endlinecolor": "#2a3f5f",
                          "gridcolor": "white",
                          "linecolor": "white",
                          "minorgridcolor": "white",
                          "startlinecolor": "#2a3f5f"
                        },
                        "type": "carpet"
                      }
                    ],
                    "choropleth": [
                      {
                        "colorbar": {
                          "outlinewidth": 0,
                          "ticks": ""
                        },
                        "type": "choropleth"
                      }
                    ],
                    "contour": [
                      {
                        "colorbar": {
                          "outlinewidth": 0,
                          "ticks": ""
                        },
                        "colorscale": [
                          [
                            0,
                            "#0d0887"
                          ],
                          [
                            0.1111111111111111,
                            "#46039f"
                          ],
                          [
                            0.2222222222222222,
                            "#7201a8"
                          ],
                          [
                            0.3333333333333333,
                            "#9c179e"
                          ],
                          [
                            0.4444444444444444,
                            "#bd3786"
                          ],
                          [
                            0.5555555555555556,
                            "#d8576b"
                          ],
                          [
                            0.6666666666666666,
                            "#ed7953"
                          ],
                          [
                            0.7777777777777778,
                            "#fb9f3a"
                          ],
                          [
                            0.8888888888888888,
                            "#fdca26"
                          ],
                          [
                            1,
                            "#f0f921"
                          ]
                        ],
                        "type": "contour"
                      }
                    ],
                    "contourcarpet": [
                      {
                        "colorbar": {
                          "outlinewidth": 0,
                          "ticks": ""
                        },
                        "type": "contourcarpet"
                      }
                    ],
                    "heatmap": [
                      {
                        "colorbar": {
                          "outlinewidth": 0,
                          "ticks": ""
                        },
                        "colorscale": [
                          [
                            0,
                            "#0d0887"
                          ],
                          [
                            0.1111111111111111,
                            "#46039f"
                          ],
                          [
                            0.2222222222222222,
                            "#7201a8"
                          ],
                          [
                            0.3333333333333333,
                            "#9c179e"
                          ],
                          [
                            0.4444444444444444,
                            "#bd3786"
                          ],
                          [
                            0.5555555555555556,
                            "#d8576b"
                          ],
                          [
                            0.6666666666666666,
                            "#ed7953"
                          ],
                          [
                            0.7777777777777778,
                            "#fb9f3a"
                          ],
                          [
                            0.8888888888888888,
                            "#fdca26"
                          ],
                          [
                            1,
                            "#f0f921"
                          ]
                        ],
                        "type": "heatmap"
                      }
                    ],
                    "heatmapgl": [
                      {
                        "colorbar": {
                          "outlinewidth": 0,
                          "ticks": ""
                        },
                        "colorscale": [
                          [
                            0,
                            "#0d0887"
                          ],
                          [
                            0.1111111111111111,
                            "#46039f"
                          ],
                          [
                            0.2222222222222222,
                            "#7201a8"
                          ],
                          [
                            0.3333333333333333,
                            "#9c179e"
                          ],
                          [
                            0.4444444444444444,
                            "#bd3786"
                          ],
                          [
                            0.5555555555555556,
                            "#d8576b"
                          ],
                          [
                            0.6666666666666666,
                            "#ed7953"
                          ],
                          [
                            0.7777777777777778,
                            "#fb9f3a"
                          ],
                          [
                            0.8888888888888888,
                            "#fdca26"
                          ],
                          [
                            1,
                            "#f0f921"
                          ]
                        ],
                        "type": "heatmapgl"
                      }
                    ],
                    "histogram": [
                      {
                        "marker": {
                          "pattern": {
                            "fillmode": "overlay",
                            "size": 10,
                            "solidity": 0.2
                          }
                        },
                        "type": "histogram"
                      }
                    ],
                    "histogram2d": [
                      {
                        "colorbar": {
                          "outlinewidth": 0,
                          "ticks": ""
                        },
                        "colorscale": [
                          [
                            0,
                            "#0d0887"
                          ],
                          [
                            0.1111111111111111,
                            "#46039f"
                          ],
                          [
                            0.2222222222222222,
                            "#7201a8"
                          ],
                          [
                            0.3333333333333333,
                            "#9c179e"
                          ],
                          [
                            0.4444444444444444,
                            "#bd3786"
                          ],
                          [
                            0.5555555555555556,
                            "#d8576b"
                          ],
                          [
                            0.6666666666666666,
                            "#ed7953"
                          ],
                          [
                            0.7777777777777778,
                            "#fb9f3a"
                          ],
                          [
                            0.8888888888888888,
                            "#fdca26"
                          ],
                          [
                            1,
                            "#f0f921"
                          ]
                        ],
                        "type": "histogram2d"
                      }
                    ],
                    "histogram2dcontour": [
                      {
                        "colorbar": {
                          "outlinewidth": 0,
                          "ticks": ""
                        },
                        "colorscale": [
                          [
                            0,
                            "#0d0887"
                          ],
                          [
                            0.1111111111111111,
                            "#46039f"
                          ],
                          [
                            0.2222222222222222,
                            "#7201a8"
                          ],
                          [
                            0.3333333333333333,
                            "#9c179e"
                          ],
                          [
                            0.4444444444444444,
                            "#bd3786"
                          ],
                          [
                            0.5555555555555556,
                            "#d8576b"
                          ],
                          [
                            0.6666666666666666,
                            "#ed7953"
                          ],
                          [
                            0.7777777777777778,
                            "#fb9f3a"
                          ],
                          [
                            0.8888888888888888,
                            "#fdca26"
                          ],
                          [
                            1,
                            "#f0f921"
                          ]
                        ],
                        "type": "histogram2dcontour"
                      }
                    ],
                    "mesh3d": [
                      {
                        "colorbar": {
                          "outlinewidth": 0,
                          "ticks": ""
                        },
                        "type": "mesh3d"
                      }
                    ],
                    "parcoords": [
                      {
                        "line": {
                          "colorbar": {
                            "outlinewidth": 0,
                            "ticks": ""
                          }
                        },
                        "type": "parcoords"
                      }
                    ],
                    "pie": [
                      {
                        "automargin": true,
                        "type": "pie"
                      }
                    ],
                    "scatter": [
                      {
                        "fillpattern": {
                          "fillmode": "overlay",
                          "size": 10,
                          "solidity": 0.2
                        },
                        "type": "scatter"
                      }
                    ],
                    "scatter3d": [
                      {
                        "line": {
                          "colorbar": {
                            "outlinewidth": 0,
                            "ticks": ""
                          }
                        },
                        "marker": {
                          "colorbar": {
                            "outlinewidth": 0,
                            "ticks": ""
                          }
                        },
                        "type": "scatter3d"
                      }
                    ],
                    "scattercarpet": [
                      {
                        "marker": {
                          "colorbar": {
                            "outlinewidth": 0,
                            "ticks": ""
                          }
                        },
                        "type": "scattercarpet"
                      }
                    ],
                    "scattergeo": [
                      {
                        "marker": {
                          "colorbar": {
                            "outlinewidth": 0,
                            "ticks": ""
                          }
                        },
                        "type": "scattergeo"
                      }
                    ],
                    "scattergl": [
                      {
                        "marker": {
                          "colorbar": {
                            "outlinewidth": 0,
                            "ticks": ""
                          }
                        },
                        "type": "scattergl"
                      }
                    ],
                    "scattermapbox": [
                      {
                        "marker": {
                          "colorbar": {
                            "outlinewidth": 0,
                            "ticks": ""
                          }
                        },
                        "type": "scattermapbox"
                      }
                    ],
                    "scatterpolar": [
                      {
                        "marker": {
                          "colorbar": {
                            "outlinewidth": 0,
                            "ticks": ""
                          }
                        },
                        "type": "scatterpolar"
                      }
                    ],
                    "scatterpolargl": [
                      {
                        "marker": {
                          "colorbar": {
                            "outlinewidth": 0,
                            "ticks": ""
                          }
                        },
                        "type": "scatterpolargl"
                      }
                    ],
                    "scatterternary": [
                      {
                        "marker": {
                          "colorbar": {
                            "outlinewidth": 0,
                            "ticks": ""
                          }
                        },
                        "type": "scatterternary"
                      }
                    ],
                    "surface": [
                      {
                        "colorbar": {
                          "outlinewidth": 0,
                          "ticks": ""
                        },
                        "colorscale": [
                          [
                            0,
                            "#0d0887"
                          ],
                          [
                            0.1111111111111111,
                            "#46039f"
                          ],
                          [
                            0.2222222222222222,
                            "#7201a8"
                          ],
                          [
                            0.3333333333333333,
                            "#9c179e"
                          ],
                          [
                            0.4444444444444444,
                            "#bd3786"
                          ],
                          [
                            0.5555555555555556,
                            "#d8576b"
                          ],
                          [
                            0.6666666666666666,
                            "#ed7953"
                          ],
                          [
                            0.7777777777777778,
                            "#fb9f3a"
                          ],
                          [
                            0.8888888888888888,
                            "#fdca26"
                          ],
                          [
                            1,
                            "#f0f921"
                          ]
                        ],
                        "type": "surface"
                      }
                    ],
                    "table": [
                      {
                        "cells": {
                          "fill": {
                            "color": "#EBF0F8"
                          },
                          "line": {
                            "color": "white"
                          }
                        },
                        "header": {
                          "fill": {
                            "color": "#C8D4E3"
                          },
                          "line": {
                            "color": "white"
                          }
                        },
                        "type": "table"
                      }
                    ]
                  },
                  "layout": {
                    "annotationdefaults": {
                      "arrowcolor": "#2a3f5f",
                      "arrowhead": 0,
                      "arrowwidth": 1
                    },
                    "autotypenumbers": "strict",
                    "coloraxis": {
                      "colorbar": {
                        "outlinewidth": 0,
                        "ticks": ""
                      }
                    },
                    "colorscale": {
                      "diverging": [
                        [
                          0,
                          "#8e0152"
                        ],
                        [
                          0.1,
                          "#c51b7d"
                        ],
                        [
                          0.2,
                          "#de77ae"
                        ],
                        [
                          0.3,
                          "#f1b6da"
                        ],
                        [
                          0.4,
                          "#fde0ef"
                        ],
                        [
                          0.5,
                          "#f7f7f7"
                        ],
                        [
                          0.6,
                          "#e6f5d0"
                        ],
                        [
                          0.7,
                          "#b8e186"
                        ],
                        [
                          0.8,
                          "#7fbc41"
                        ],
                        [
                          0.9,
                          "#4d9221"
                        ],
                        [
                          1,
                          "#276419"
                        ]
                      ],
                      "sequential": [
                        [
                          0,
                          "#0d0887"
                        ],
                        [
                          0.1111111111111111,
                          "#46039f"
                        ],
                        [
                          0.2222222222222222,
                          "#7201a8"
                        ],
                        [
                          0.3333333333333333,
                          "#9c179e"
                        ],
                        [
                          0.4444444444444444,
                          "#bd3786"
                        ],
                        [
                          0.5555555555555556,
                          "#d8576b"
                        ],
                        [
                          0.6666666666666666,
                          "#ed7953"
                        ],
                        [
                          0.7777777777777778,
                          "#fb9f3a"
                        ],
                        [
                          0.8888888888888888,
                          "#fdca26"
                        ],
                        [
                          1,
                          "#f0f921"
                        ]
                      ],
                      "sequentialminus": [
                        [
                          0,
                          "#0d0887"
                        ],
                        [
                          0.1111111111111111,
                          "#46039f"
                        ],
                        [
                          0.2222222222222222,
                          "#7201a8"
                        ],
                        [
                          0.3333333333333333,
                          "#9c179e"
                        ],
                        [
                          0.4444444444444444,
                          "#bd3786"
                        ],
                        [
                          0.5555555555555556,
                          "#d8576b"
                        ],
                        [
                          0.6666666666666666,
                          "#ed7953"
                        ],
                        [
                          0.7777777777777778,
                          "#fb9f3a"
                        ],
                        [
                          0.8888888888888888,
                          "#fdca26"
                        ],
                        [
                          1,
                          "#f0f921"
                        ]
                      ]
                    },
                    "colorway": [
                      "#636efa",
                      "#EF553B",
                      "#00cc96",
                      "#ab63fa",
                      "#FFA15A",
                      "#19d3f3",
                      "#FF6692",
                      "#B6E880",
                      "#FF97FF",
                      "#FECB52"
                    ],
                    "font": {
                      "color": "#2a3f5f"
                    },
                    "geo": {
                      "bgcolor": "white",
                      "lakecolor": "white",
                      "landcolor": "#E5ECF6",
                      "showlakes": true,
                      "showland": true,
                      "subunitcolor": "white"
                    },
                    "hoverlabel": {
                      "align": "left"
                    },
                    "hovermode": "closest",
                    "mapbox": {
                      "style": "light"
                    },
                    "paper_bgcolor": "white",
                    "plot_bgcolor": "#E5ECF6",
                    "polar": {
                      "angularaxis": {
                        "gridcolor": "white",
                        "linecolor": "white",
                        "ticks": ""
                      },
                      "bgcolor": "#E5ECF6",
                      "radialaxis": {
                        "gridcolor": "white",
                        "linecolor": "white",
                        "ticks": ""
                      }
                    },
                    "scene": {
                      "xaxis": {
                        "backgroundcolor": "#E5ECF6",
                        "gridcolor": "white",
                        "gridwidth": 2,
                        "linecolor": "white",
                        "showbackground": true,
                        "ticks": "",
                        "zerolinecolor": "white"
                      },
                      "yaxis": {
                        "backgroundcolor": "#E5ECF6",
                        "gridcolor": "white",
                        "gridwidth": 2,
                        "linecolor": "white",
                        "showbackground": true,
                        "ticks": "",
                        "zerolinecolor": "white"
                      },
                      "zaxis": {
                        "backgroundcolor": "#E5ECF6",
                        "gridcolor": "white",
                        "gridwidth": 2,
                        "linecolor": "white",
                        "showbackground": true,
                        "ticks": "",
                        "zerolinecolor": "white"
                      }
                    },
                    "shapedefaults": {
                      "line": {
                        "color": "#2a3f5f"
                      }
                    },
                    "ternary": {
                      "aaxis": {
                        "gridcolor": "white",
                        "linecolor": "white",
                        "ticks": ""
                      },
                      "baxis": {
                        "gridcolor": "white",
                        "linecolor": "white",
                        "ticks": ""
                      },
                      "bgcolor": "#E5ECF6",
                      "caxis": {
                        "gridcolor": "white",
                        "linecolor": "white",
                        "ticks": ""
                      }
                    },
                    "title": {
                      "x": 0.05
                    },
                    "xaxis": {
                      "automargin": true,
                      "gridcolor": "white",
                      "linecolor": "white",
                      "ticks": "",
                      "title": {
                        "standoff": 15
                      },
                      "zerolinecolor": "white",
                      "zerolinewidth": 2
                    },
                    "yaxis": {
                      "automargin": true,
                      "gridcolor": "white",
                      "linecolor": "white",
                      "ticks": "",
                      "title": {
                        "standoff": 15
                      },
                      "zerolinecolor": "white",
                      "zerolinewidth": 2
                    }
                  }
                },
                "title": {
                  "text": "Browser 13 compared to other Browsers in different characteristics"
                },
                "xaxis": {
                  "anchor": "y",
                  "domain": [
                    0,
                    1
                  ],
                  "tickfont": {
                    "family": "Arial Black",
                    "size": 14
                  },
                  "title": {
                    "text": "Characteristics"
                  }
                },
                "yaxis": {
                  "anchor": "x",
                  "domain": [
                    0,
                    1
                  ],
                  "tickfont": {
                    "family": "Arial Black",
                    "size": 14
                  },
                  "title": {
                    "text": "Mean Value"
                  }
                }
              }
            }
          },
          "metadata": {},
          "output_type": "display_data"
        }
      ],
      "source": [
        "b13_shoppers = shoppers_data.query('Browser == 1')\n",
        "other_shoppers = shoppers_data.query('Browser != 1')\n",
        "\n",
        "df = {\n",
        "    \"Administrative Mean\": [b13_shoppers[\"Administrative\"].mean(), other_shoppers[\"Administrative\"].mean()],\n",
        "    \"Administrative_Duration Mean\": [b13_shoppers[\"Administrative_Duration\"].mean(), other_shoppers[\"Administrative_Duration\"].mean()],\n",
        "    \"Informational Mean\": [b13_shoppers[\"Informational\"].mean(), other_shoppers[\"Informational\"].mean()],\n",
        "    \"Informational_Duration Mean\": [b13_shoppers[\"Informational_Duration\"].mean(), other_shoppers[\"Informational_Duration\"].mean()],\n",
        "    \"ProductRelated Mean\": [b13_shoppers[\"ProductRelated\"].mean(), other_shoppers[\"ProductRelated\"].mean()],\n",
        "    \"ProductRelated_Duration Mean\": [b13_shoppers[\"ProductRelated_Duration\"].mean(), other_shoppers[\"ProductRelated_Duration\"].mean()],\n",
        "    \"BounceRates Mean\": [b13_shoppers[\"BounceRates\"].mean(), other_shoppers[\"BounceRates\"].mean()],\n",
        "    \"ExitRates Mean\": [b13_shoppers[\"ExitRates\"].mean(), other_shoppers[\"ExitRates\"].mean()],\n",
        "    \"PageValues Mean\": [b13_shoppers[\"PageValues\"].mean(), other_shoppers[\"PageValues\"].mean()],\n",
        "    \"SpecialDay Mean\": [b13_shoppers[\"SpecialDay\"].mean(), other_shoppers[\"SpecialDay\"].mean()],\n",
        "    # \"OperatingSystems Mean\": [b13_shoppers[\"OperatingSystems\"].mean(), other_shoppers[\"OperatingSystems\"].mean()],\n",
        "    # \"Region Mean\": [b13_shoppers[\"Region\"].mean(), other_shoppers[\"Region\"].mean()],\n",
        "    # \"TrafficType Mean\": [b13_shoppers[\"TrafficType\"].mean(), other_shoppers[\"TrafficType\"].mean()],\n",
        "    \"Weekend Mean\": [b13_shoppers[\"Weekend\"].mean(), other_shoppers[\"Weekend\"].mean()],\n",
        "    \"Revenue Mean\": [b13_shoppers[\"Revenue\"].mean(), other_shoppers[\"Revenue\"].mean()],\n",
        "    }\n",
        "\n",
        "comparison_shoppers = pd.DataFrame(data=df)\n",
        "comparison_shoppers_melted = comparison_shoppers.melt(var_name='Variable', value_name='Value', ignore_index=False)\n",
        "comparison_shoppers_melted = comparison_shoppers_melted.reset_index()\n",
        "\n",
        "comparison_fig = px.bar(\n",
        "    data_frame=comparison_shoppers_melted,\n",
        "    x=\"Variable\",\n",
        "    y=\"Value\",\n",
        "    color=\"index\",\n",
        "    barmode=\"group\",\n",
        "    title = \"Browser 13 compared to other Browsers in different characteristics\",\n",
        "    )\n",
        "\n",
        "comparison_fig.update_layout(\n",
        "    xaxis=dict(tickfont=dict(family='Arial Black', size=14)),\n",
        "    yaxis=dict(tickfont=dict(family='Arial Black', size=14)),\n",
        "    xaxis_title = \"Characteristics\",\n",
        "    yaxis_title = \"Mean Value\"\n",
        "    )\n",
        "\n",
        "comparison_fig.show()"
      ]
    },
    {
      "cell_type": "code",
      "execution_count": 5,
      "id": "08cca239",
      "metadata": {
        "colab": {
          "base_uri": "https://localhost:8080/",
          "height": 207
        },
        "id": "08cca239",
        "outputId": "0636e132-f6de-40e7-fc77-07e24467b409"
      },
      "outputs": [
        {
          "name": "stdout",
          "output_type": "stream",
          "text": [
            "Explained Variance Ratio: [0.33289688 0.21253354]\n"
          ]
        }
      ],
      "source": [
        "# Apply PCA on data\n",
        "X = numerical_shoppers_data.drop(columns=['Revenue'])\n",
        "y = numerical_shoppers_data['Revenue']\n",
        "pca = PCA(n_components=2)\n",
        "X_pca = pca.fit_transform(X)\n",
        "\n",
        "pca_df = pd.DataFrame(data=X_pca, columns=[f'Principal Component {i}' for i in range(1, 3)])\n",
        "\n",
        "explained_variance = pca.explained_variance_ratio_\n",
        "print(\"Explained Variance Ratio:\", explained_variance)"
      ]
    },
    {
      "cell_type": "code",
      "execution_count": 6,
      "id": "c7c5719a",
      "metadata": {
        "id": "c7c5719a"
      },
      "outputs": [
        {
          "data": {
            "image/png": "[encoded data removed]",
            "text/plain": [
              "<Figure size 640x480 with 1 Axes>"
            ]
          },
          "metadata": {},
          "output_type": "display_data"
        },
        {
          "data": {
            "image/png": "[encoded data removed]",
            "text/plain": [
              "<Figure size 640x480 with 1 Axes>"
            ]
          },
          "metadata": {},
          "output_type": "display_data"
        }
      ],
      "source": [
        "# Visualise explained variance\n",
        "plt.bar([f'PC {i}' for i in range(1, 3)],\n",
        "        explained_variance, color='lightblue')\n",
        "plt.title('Explained Variance by Principal Components')\n",
        "plt.xlabel('Principal Components')\n",
        "plt.ylabel('Explained Variance Ratio')\n",
        "plt.show()\n",
        "\n",
        "colors = ['red' if label == 0 else 'purple' for label in y]\n",
        "plt.scatter(x=pca_df['Principal Component 1'], y=pca_df['Principal Component 2'],\n",
        "            c=colors)\n",
        "plt.title('Principal Components 1 vs 2')\n",
        "plt.xlabel('Principal Component 1')\n",
        "plt.ylabel('Principal Component 2')\n",
        "\n",
        "Viewer = mpatches.Patch(color='red', label='Revenue=0 (Viewer)')\n",
        "Buyer = mpatches.Patch(color='purple', label='Revenue=1(Buyer)')\n",
        "\n",
        "plt.legend(handles=[Viewer, Buyer])\n",
        "plt.show()"
      ]
    },
    {
      "cell_type": "markdown",
      "id": "bS-u4b0SvYzL",
      "metadata": {
        "id": "bS-u4b0SvYzL"
      },
      "source": [
        "# Part 3"
      ]
    },
    {
      "cell_type": "markdown",
      "id": "00e7dd1c",
      "metadata": {
        "id": "00e7dd1c"
      },
      "source": [
        "## 3.1 Affinity Propagation Clustering"
      ]
    },
    {
      "cell_type": "code",
      "execution_count": 7,
      "id": "Oarax9VArQfx",
      "metadata": {
        "id": "Oarax9VArQfx"
      },
      "outputs": [],
      "source": [
        "# data_scaled_df is preprocessed dataset\n",
        "clustering = AffinityPropagation(random_state=5).fit(pca_df)\n",
        "\n",
        "# Labels\n",
        "labels = clustering.labels_\n",
        "\n",
        "# visualzation\n",
        "plt.figure(figsize=(10, 6))\n",
        "scatter = plt.scatter(pca_df['Principal Component 1'], pca_df['Principal Component 2'], c=labels, cmap='viridis')\n",
        "plt.colorbar(scatter)\n",
        "plt.title(\"Affinity Propagation Clustering (PC1 vs PC2)\")\n",
        "plt.xlabel('Principal Component 1')\n",
        "plt.ylabel('Principal Component 2')\n",
        "\n",
        "plt.show()\n"
      ]
    },
    {
      "cell_type": "markdown",
      "id": "3d8872b6",
      "metadata": {
        "id": "3d8872b6"
      },
      "source": [
        "## 3.2 DBSCAN Clustering"
      ]
    },
    {
      "cell_type": "code",
      "execution_count": null,
      "id": "0ab6b070",
      "metadata": {
        "colab": {
          "base_uri": "https://localhost:8080/",
          "height": 190
        },
        "id": "0ab6b070",
        "outputId": "1e5d72e1-a3d3-44b6-f839-40d8e460a547"
      },
      "outputs": [
        {
          "ename": "NameError",
          "evalue": "name 'pca_df' is not defined",
          "output_type": "error",
          "traceback": [
            "\u001b[0;31m---------------------------------------------------------------------------\u001b[0m",
            "\u001b[0;31mNameError\u001b[0m                                 Traceback (most recent call last)",
            "\u001b[0;32m<ipython-input-6-cacb05788039>\u001b[0m in \u001b[0;36m<cell line: 1>\u001b[0;34m()\u001b[0m\n\u001b[0;32m----> 1\u001b[0;31m \u001b[0mX\u001b[0m \u001b[0;34m=\u001b[0m \u001b[0mpca_df\u001b[0m\u001b[0;34m[\u001b[0m\u001b[0;34m[\u001b[0m\u001b[0;34m'Principal Component 1'\u001b[0m\u001b[0;34m,\u001b[0m \u001b[0;34m'Principal Component 2'\u001b[0m\u001b[0;34m]\u001b[0m\u001b[0;34m]\u001b[0m\u001b[0;34m\u001b[0m\u001b[0;34m\u001b[0m\u001b[0m\n\u001b[0m\u001b[1;32m      2\u001b[0m \u001b[0mdbscan\u001b[0m \u001b[0;34m=\u001b[0m \u001b[0mDBSCAN\u001b[0m\u001b[0;34m(\u001b[0m\u001b[0meps\u001b[0m\u001b[0;34m=\u001b[0m\u001b[0;36m0.4\u001b[0m\u001b[0;34m,\u001b[0m \u001b[0mmin_samples\u001b[0m\u001b[0;34m=\u001b[0m\u001b[0;36m2\u001b[0m\u001b[0;34m)\u001b[0m\u001b[0;34m.\u001b[0m\u001b[0mfit\u001b[0m\u001b[0;34m(\u001b[0m\u001b[0mX\u001b[0m\u001b[0;34m)\u001b[0m\u001b[0;34m\u001b[0m\u001b[0;34m\u001b[0m\u001b[0m\n\u001b[1;32m      3\u001b[0m \u001b[0;31m# Labels\u001b[0m\u001b[0;34m\u001b[0m\u001b[0;34m\u001b[0m\u001b[0m\n\u001b[1;32m      4\u001b[0m \u001b[0mlabels_dbscan\u001b[0m \u001b[0;34m=\u001b[0m \u001b[0mdbscan\u001b[0m\u001b[0;34m.\u001b[0m\u001b[0mlabels_\u001b[0m\u001b[0;34m\u001b[0m\u001b[0;34m\u001b[0m\u001b[0m\n",
            "\u001b[0;31mNameError\u001b[0m: name 'pca_df' is not defined"
          ]
        }
      ],
      "source": [
        "X = pca_df[['Principal Component 1', 'Principal Component 2']]\n",
        "dbscan = DBSCAN(eps=0.4, min_samples=2).fit(X)\n",
        "\n",
        "# Labels\n",
        "labels_dbscan = dbscan.labels_\n",
        "\n",
        "plt.figure(figsize=(10, 6))\n",
        "scatter = plt.scatter(X['Principal Component 1'], X['Principal Component 2'], c=labels_dbscan, cmap='viridis')\n",
        "# plt.colorbar(scatter)\n",
        "plt.title(\"DBSCAN Clustering (Principal Component 1 vs principal Component 2)\")\n",
        "plt.xlabel('Principal Component 1')\n",
        "plt.ylabel('Principal Component 2')\n",
        "plt.show()"
      ]
    },
    {
      "cell_type": "markdown",
      "id": "79a90023",
      "metadata": {
        "id": "79a90023"
      },
      "source": [
        "## 3.3 Birch Clustering"
      ]
    },
    {
      "cell_type": "code",
      "execution_count": null,
      "id": "adbbb600",
      "metadata": {
        "id": "adbbb600"
      },
      "outputs": [],
      "source": [
        "birch = Birch(n_clusters=3, threshold=0.5)\n",
        "birch.fit(X)\n",
        "\n",
        "# Get cluster labels\n",
        "labels_birch = birch.labels_\n",
        "\n",
        "# Visualize\n",
        "plt.figure(figsize=(10, 6))\n",
        "scatter = plt.scatter(X['Principal Component 1'], X['Principal Component 2'], c=labels_birch, cmap='viridis')\n",
        "\n",
        "plt.title(\"BIRCH Clustering (Principal Component 1 vs Principal Componenet 2)\")\n",
        "plt.xlabel('Principal Component 1')\n",
        "plt.ylabel('Principal Component 2')\n",
        "plt.show()"
      ]
    },
    {
      "cell_type": "markdown",
      "id": "BcyzdUXbvjuu",
      "metadata": {
        "id": "BcyzdUXbvjuu"
      },
      "source": [
        "# Part 4"
      ]
    },
    {
      "cell_type": "markdown",
      "id": "24be9f08",
      "metadata": {
        "id": "24be9f08"
      },
      "source": [
        "## 4.1 Silhouette Score"
      ]
    },
    {
      "cell_type": "code",
      "execution_count": null,
      "id": "4f3c0754",
      "metadata": {
        "id": "4f3c0754",
        "lines_to_next_cell": 1
      },
      "outputs": [],
      "source": [
        "def euclidean_distance(point1, point2):\n",
        "    return np.sqrt(np.sum((point1 - point2) ** 2))\n",
        "\n",
        "def silhouette_score(points, labels):\n",
        "    n = len(points)\n",
        "    unique_clusters = set(labels)\n",
        "\n",
        "    silhouette_scores = []\n",
        "\n",
        "    for i in range(n):\n",
        "        current_point = points[i]\n",
        "        current_cluster = labels[i]\n",
        "\n",
        "        # Intra-cluster distance: average distance to all other points in the same cluster\n",
        "        same_cluster_points = [points[j] for j in range(n) if labels[j] == current_cluster and j != i]\n",
        "        if same_cluster_points:\n",
        "            a_i = sum(euclidean_distance(current_point, p) for p in same_cluster_points) / len(same_cluster_points)\n",
        "        else:\n",
        "            a_i = 0  # When there's no other point in the same cluster\n",
        "\n",
        "        # Inter-cluster distance: minimum average distance to points in any other cluster\n",
        "        b_i = float('inf')\n",
        "        for other_cluster in unique_clusters:\n",
        "            if other_cluster == current_cluster:\n",
        "                continue\n",
        "            other_cluster_points = [points[j] for j in range(n) if labels[j] == other_cluster]\n",
        "            if other_cluster_points:\n",
        "                avg_distance = sum(euclidean_distance(current_point, p) for p in other_cluster_points) / len(other_cluster_points)\n",
        "                b_i = min(b_i, avg_distance)\n",
        "\n",
        "        # Calculate silhouette score for point i\n",
        "        if a_i == 0 and b_i == 0:\n",
        "            silhouette = 0\n",
        "        else:\n",
        "            silhouette = (b_i - a_i) / max(a_i, b_i)\n",
        "        silhouette_scores.append(silhouette)\n",
        "\n",
        "    # Average silhouette score for all points\n",
        "    overall_silhouette_score = sum(silhouette_scores) / n\n",
        "    return overall_silhouette_score\n",
        "\n",
        "print(f\"Silhouette Score for DBSCAN: {silhouette_score(X.values, labels_dbscan)}\")\n",
        "print(f\"Silhouette Score for BIRCH: {silhouette_score(X.values, labels_birch)}\")"
      ]
    },
    {
      "cell_type": "markdown",
      "id": "Q3eJUOqTtEVl",
      "metadata": {
        "id": "Q3eJUOqTtEVl"
      },
      "source": [
        "## 4.2 Davies-Bouldin Score"
      ]
    },
    {
      "cell_type": "code",
      "execution_count": null,
      "id": "3977a89b",
      "metadata": {
        "id": "3977a89b",
        "lines_to_next_cell": 1
      },
      "outputs": [],
      "source": [
        "def evaluate_davies_bouldin(X, labels_dbscan, labels_birch):\n",
        "    score_dbscan = davies_bouldin_score(X, labels_dbscan)\n",
        "    score_birch = davies_bouldin_score(X, labels_birch)\n",
        "\n",
        "    print(f\"Davies-Bouldin Score for DBSCAN: {score_dbscan}\")\n",
        "    print(f\"Davies-Bouldin Score for BIRCH: {score_birch}\")\n",
        "    return [score_dbscan, score_birch]\n",
        "\n",
        "X = pca_df[['Principal Component 1', 'Principal Component 2']]\n",
        "evaluate_davies_bouldin(X, labels_dbscan, labels_birch)"
      ]
    },
    {
      "cell_type": "markdown",
      "id": "8f410d32",
      "metadata": {
        "id": "8f410d32"
      },
      "source": [
        "##4.3 Calsinki-Harabasz Index"
      ]
    },
    {
      "cell_type": "code",
      "execution_count": null,
      "id": "98875a27",
      "metadata": {
        "id": "98875a27",
        "lines_to_next_cell": 1
      },
      "outputs": [],
      "source": [
        "# Make a function to evaluate three models in Task 3 at once\n",
        "def evaluate_calinski_harabasz(X, labels_dbscan, labels_birch):\n",
        "    score_dbscan = calinski_harabasz_score(X, labels_dbscan)\n",
        "    score_birch = calinski_harabasz_score(X, labels_birch)\n",
        "\n",
        "    print(f\"Calinski-Harabasz Score for DBSCAN: {score_dbscan}\")\n",
        "    print(f\"Calinski-Harabasz Score for BIRCH: {score_birch}\")\n",
        "    return [score_dbscan, score_birch]\n",
        "\n",
        "## change the X to the clustering variable\n",
        "X = pca_df[['Principal Component 1', 'Principal Component 2']]\n",
        "evaluate_calinski_harabasz(X, labels_dbscan, labels_birch)"
      ]
    },
    {
      "cell_type": "markdown",
      "id": "Aa_fU5r6tdtS",
      "metadata": {
        "id": "Aa_fU5r6tdtS"
      },
      "source": [
        "## Comparison Chart for Evaluation"
      ]
    },
    {
      "cell_type": "code",
      "execution_count": null,
      "id": "hRZpBqUPtoUP",
      "metadata": {
        "id": "hRZpBqUPtoUP"
      },
      "outputs": [],
      "source": [
        "silhouette_metrics = ['Silhouette Score']\n",
        "db_metrics = ['Davies-Bouldin Score']\n",
        "ch_metrics = ['Calinski Harabasz Index']\n",
        "scores = [\n",
        "    [silhouette_score(X.values, labels_dbscan), silhouette_score(X.values, labels_birch)],\n",
        "    [(evaluate_davies_bouldin(X, labels_dbscan, labels_birch))],\n",
        "    [(evaluate_calinski_harabasz(X, labels_dbscan, labels_birch))]\n",
        "]\n",
        "\n",
        "evaluation_fig_silhouette = go.Figure(data=[\n",
        "    go.Bar(name='DBSCAN', x=silhouette_metrics, y=[scores[0][0][0]]),\n",
        "    go.Bar(name='BIRCH', x=silhouette_metrics, y=[scores[0][0][1]])\n",
        "])\n",
        "\n",
        "evaluation_fig_silhouette.update_layout(\n",
        "    title='Comparison of Clustering Performance Metrics',\n",
        "    xaxis_title='Silhouette Score',\n",
        "    yaxis_title='Score',\n",
        "    barmode='group'\n",
        ")\n",
        "\n",
        "evaluation_fig_silhouette.show()\n",
        "\n",
        "evaluation_fig_db = go.Figure(data=[\n",
        "    go.Bar(name='DBSCAN', x=db_metrics, y=[scores[1][0][0]]),\n",
        "    go.Bar(name='BIRCH', x=db_metrics, y=[scores[1][0][1]])\n",
        "])\n",
        "\n",
        "evaluation_fig_db.update_layout(\n",
        "    title='Comparison of Clustering Performance Metrics',\n",
        "    xaxis_title='Davies Bouldin Score',\n",
        "    yaxis_title='Score',\n",
        "    barmode='group'\n",
        ")\n",
        "\n",
        "evaluation_fig_db.show()\n",
        "\n",
        "evaluation_fig_ch = go.Figure(data=[\n",
        "    go.Bar(name='DBSCAN', x=ch_metrics, y=[scores[2][0][0]]),\n",
        "    go.Bar(name='BIRCH', x=ch_metrics, y=[scores[2][0][1]])\n",
        "])\n",
        "\n",
        "evaluation_fig_ch.update_layout(\n",
        "    title='Comparison of Clustering Performance Metrics',\n",
        "    xaxis_title='Calsinki Harabasz Index',\n",
        "    yaxis_title='Score',\n",
        "    barmode='group'\n",
        ")\n",
        "\n",
        "evaluation_fig_ch.show()"
      ]
    },
    {
      "cell_type": "markdown",
      "id": "PrwGB5vLuLFf",
      "metadata": {
        "id": "PrwGB5vLuLFf"
      },
      "source": [
        "# 5. Distance Functions"
      ]
    },
    {
      "cell_type": "markdown",
      "id": "9a6cbe16",
      "metadata": {
        "id": "9a6cbe16"
      },
      "source": [
        "## 5.1 Eucledian Distance"
      ]
    },
    {
      "cell_type": "code",
      "execution_count": null,
      "id": "65aec394",
      "metadata": {
        "id": "65aec394"
      },
      "outputs": [],
      "source": [
        "X = pca_df[['Principal Component 1', 'Principal Component 2']]\n",
        "# euclidean_X = cdist (X, X, metric=euclidean_distance)\n",
        "\n",
        "dbscan = DBSCAN(eps=0.01, min_samples=2, metric=euclidean_distance).fit(X)\n",
        "# Labels\n",
        "euclidean_labels_dbscan = dbscan.labels_\n",
        "\n",
        "# Visualize\n",
        "plt.figure(figsize=(10, 6))\n",
        "scatter = plt.scatter(X['Principal Component 1'], X['Principal Component 2'], c=euclidean_labels_dbscan, cmap='viridis')\n",
        "\n",
        "plt.title(\"DBSCAN Clustering with Euclidean Distance (Principal Component 1 vs principal Component 2)\")\n",
        "plt.xlabel('Principal Component 1')\n",
        "plt.ylabel('Principal Component 2')\n",
        "plt.show()"
      ]
    },
    {
      "cell_type": "markdown",
      "id": "f4aea41b",
      "metadata": {
        "id": "f4aea41b"
      },
      "source": [
        "## 5.2 Manhattan Distance"
      ]
    },
    {
      "cell_type": "code",
      "execution_count": null,
      "id": "caf319c3",
      "metadata": {
        "id": "caf319c3",
        "lines_to_next_cell": 1
      },
      "outputs": [],
      "source": [
        "def manhattan_distance(point1, point2):\n",
        "    distance = 0\n",
        "    for x1, x2 in zip(point1, point2):\n",
        "        distance += abs(x1 - x2)\n",
        "    return distance\n",
        "\n",
        "X = pca_df[['Principal Component 1', 'Principal Component 2']]\n",
        "\n",
        "dbscan = DBSCAN(eps=0.01, min_samples=2, metric=manhattan_distance).fit(X)\n",
        "# Labels\n",
        "manhattan_labels_dbscan = dbscan.labels_\n",
        "\n",
        "# Visualize\n",
        "plt.figure(figsize=(10, 6))\n",
        "scatter = plt.scatter(X['Principal Component 1'], X['Principal Component 2'], c=manhattan_labels_dbscan, cmap='viridis')\n",
        "plt.title(\"DBSCAN Clustering with Manhattan Distance (Principal Component 1 vs principal Component 2)\")\n",
        "plt.xlabel('Principal Component 1')\n",
        "plt.ylabel('Principal Component 2')\n",
        "plt.show()\n"
      ]
    },
    {
      "cell_type": "markdown",
      "id": "MhQeDqImud5X",
      "metadata": {
        "id": "MhQeDqImud5X"
      },
      "source": [
        "## 5.3 Cosine Similarity\n",
        "\n"
      ]
    },
    {
      "cell_type": "code",
      "execution_count": null,
      "id": "bb27cb77",
      "metadata": {
        "id": "bb27cb77",
        "lines_to_next_cell": 1
      },
      "outputs": [],
      "source": [
        "def cosine_similarity_distance(point1, point2):\n",
        "    vec1 = np.array(point1)\n",
        "    vec2 = np.array(point2)\n",
        "    dot_product = np.dot(vec1, vec2)\n",
        "    magnitude_vec1 = np.linalg.norm(vec1)\n",
        "    magnitude_vec2 = np.linalg.norm(vec2)\n",
        "    cosine_sim = dot_product / (magnitude_vec1 * magnitude_vec2)\n",
        "    return 1- cosine_sim\n",
        "\n",
        "X = pca_df[['Principal Component 1', 'Principal Component 2']]\n",
        "\n",
        "dbscan = DBSCAN(eps=0.01, min_samples=2, metric=cosine_similarity_distance).fit(X)\n",
        "# Labels\n",
        "cosine_labels_dbscan = dbscan.labels_\n",
        "\n",
        "# Visualize\n",
        "plt.figure(figsize=(10, 6))\n",
        "scatter = plt.scatter(X['Principal Component 1'], X['Principal Component 2'], c=cosine_labels_dbscan, cmap='viridis')\n",
        "\n",
        "plt.title(\"DBSCAN Clustering with Cosine Similarity Distance (Principal Component 1 vs principal Component 2)\")\n",
        "plt.xlabel('Principal Component 1')\n",
        "plt.ylabel('Principal Component 2')\n",
        "plt.show()"
      ]
    },
    {
      "cell_type": "markdown",
      "id": "9dc540bc",
      "metadata": {
        "id": "9dc540bc"
      },
      "source": [
        "## 5.4 Evaluation"
      ]
    },
    {
      "cell_type": "code",
      "execution_count": null,
      "id": "84a0ab8f",
      "metadata": {
        "id": "84a0ab8f"
      },
      "outputs": [],
      "source": [
        "print(f\"Davies-Bouldin Score for DBSCAN with Eucledian Distance: {davies_bouldin_score(X, euclidean_labels_dbscan)}\")\n",
        "print(f\"Davies-Bouldin Score for DBSCAN with Manhattan Distance: {davies_bouldin_score(X, manhattan_labels_dbscan)}\")\n",
        "print(f\"Davies-Bouldin Score for DBSCAN with Cosine Distance: {davies_bouldin_score(X, cosine_labels_dbscan)}\")\n",
        "\n",
        "distances = ['Eucledian', 'Manhattan', 'Cosine Similarity']\n",
        "db_values = [davies_bouldin_score(X, euclidean_labels_dbscan), davies_bouldin_score(X, manhattan_labels_dbscan), davies_bouldin_score(X, cosine_labels_dbscan)]\n",
        "\n",
        "distance_comparison_fig = go.Figure(data=[\n",
        "    go.Bar(\n",
        "        x=distances,\n",
        "        y=db_values,\n",
        "        text=[f\"{db:.2f}\" for db in db_values],\n",
        "        textposition='auto'\n",
        "    )\n",
        "])\n",
        "\n",
        "distance_comparison_fig.update_layout(\n",
        "    title='Comparison of Davies-Bouldin Scores for Different Distance Metrics',\n",
        "    xaxis_title='Distance Metric',\n",
        "    yaxis_title='Davies-Bouldin Score',\n",
        "    yaxis=dict(range=[0, max(db_values) * 1.1])\n",
        ")\n",
        "\n",
        "distance_comparison_fig.show()"
      ]
    }
  ],
  "metadata": {
    "colab": {
      "provenance": []
    },
    "jupytext": {
      "cell_metadata_filter": "-all",
      "main_language": "python",
      "notebook_metadata_filter": "-all"
    },
    "kernelspec": {
      "display_name": "Python 3",
      "name": "python3"
    },
    "language_info": {
      "codemirror_mode": {
        "name": "ipython",
        "version": 3
      },
      "file_extension": ".py",
      "mimetype": "text/x-python",
      "name": "python",
      "nbconvert_exporter": "python",
      "pygments_lexer": "ipython3",
      "version": "3.12.1"
    }
  },
  "nbformat": 4,
  "nbformat_minor": 5
}
