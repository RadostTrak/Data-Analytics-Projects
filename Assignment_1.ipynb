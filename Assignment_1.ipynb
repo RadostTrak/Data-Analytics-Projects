{
 "cells": [
  {
   "cell_type": "markdown",
   "id": "4b4cead8-543c-4b82-b15c-b26eafe0485b",
   "metadata": {
    "jp-MarkdownHeadingCollapsed": true
   },
   "source": [
    "# Task 1\n",
    "import dataset (with pandas)"
   ]
  },
  {
   "cell_type": "code",
   "execution_count": 2,
   "id": "3f887343-c1f3-4229-af52-47ebf6dd3585",
   "metadata": {},
   "outputs": [],
   "source": [
    "import pandas as pd"
   ]
  },
  {
   "cell_type": "code",
   "execution_count": 3,
   "id": "37048ee4-c42e-49f2-a561-39b2c6314f45",
   "metadata": {},
   "outputs": [
    {
     "data": {
      "text/html": [
       "<div>\n",
       "<style scoped>\n",
       "    .dataframe tbody tr th:only-of-type {\n",
       "        vertical-align: middle;\n",
       "    }\n",
       "\n",
       "    .dataframe tbody tr th {\n",
       "        vertical-align: top;\n",
       "    }\n",
       "\n",
       "    .dataframe thead th {\n",
       "        text-align: right;\n",
       "    }\n",
       "</style>\n",
       "<table border=\"1\" class=\"dataframe\">\n",
       "  <thead>\n",
       "    <tr style=\"text-align: right;\">\n",
       "      <th></th>\n",
       "      <th>BA</th>\n",
       "      <th>Age</th>\n",
       "      <th>Shape</th>\n",
       "      <th>Margin</th>\n",
       "      <th>Density</th>\n",
       "      <th>Severity</th>\n",
       "    </tr>\n",
       "  </thead>\n",
       "  <tbody>\n",
       "    <tr>\n",
       "      <th>0</th>\n",
       "      <td>5.0</td>\n",
       "      <td>67.0</td>\n",
       "      <td>3.0</td>\n",
       "      <td>5.0</td>\n",
       "      <td>3.0</td>\n",
       "      <td>1</td>\n",
       "    </tr>\n",
       "    <tr>\n",
       "      <th>1</th>\n",
       "      <td>4.0</td>\n",
       "      <td>43.0</td>\n",
       "      <td>1.0</td>\n",
       "      <td>1.0</td>\n",
       "      <td>NaN</td>\n",
       "      <td>1</td>\n",
       "    </tr>\n",
       "    <tr>\n",
       "      <th>2</th>\n",
       "      <td>5.0</td>\n",
       "      <td>58.0</td>\n",
       "      <td>4.0</td>\n",
       "      <td>5.0</td>\n",
       "      <td>3.0</td>\n",
       "      <td>1</td>\n",
       "    </tr>\n",
       "    <tr>\n",
       "      <th>3</th>\n",
       "      <td>4.0</td>\n",
       "      <td>28.0</td>\n",
       "      <td>1.0</td>\n",
       "      <td>1.0</td>\n",
       "      <td>3.0</td>\n",
       "      <td>0</td>\n",
       "    </tr>\n",
       "    <tr>\n",
       "      <th>4</th>\n",
       "      <td>5.0</td>\n",
       "      <td>74.0</td>\n",
       "      <td>1.0</td>\n",
       "      <td>5.0</td>\n",
       "      <td>NaN</td>\n",
       "      <td>1</td>\n",
       "    </tr>\n",
       "  </tbody>\n",
       "</table>\n",
       "</div>"
      ],
      "text/plain": [
       "    BA   Age  Shape  Margin  Density  Severity\n",
       "0  5.0  67.0    3.0     5.0      3.0         1\n",
       "1  4.0  43.0    1.0     1.0      NaN         1\n",
       "2  5.0  58.0    4.0     5.0      3.0         1\n",
       "3  4.0  28.0    1.0     1.0      3.0         0\n",
       "4  5.0  74.0    1.0     5.0      NaN         1"
      ]
     },
     "execution_count": 3,
     "metadata": {},
     "output_type": "execute_result"
    }
   ],
   "source": [
    "# import the dataset\n",
    "base='mammographic_masses_data.csv'\n",
    "mydata = pd.read_csv(base)\n",
    "# make dataset in pandas DataFrame\n",
    "df = pd.DataFrame(data=mydata)\n",
    "# display the first 5 row of the dataset\n",
    "df.head()"
   ]
  },
  {
   "cell_type": "markdown",
   "id": "42d1f1fb-e34b-4930-871d-3b244b0ebd76",
   "metadata": {
    "jp-MarkdownHeadingCollapsed": true
   },
   "source": [
    "# Task 2 \n",
    "dataset with summary statistics and visualizations"
   ]
  },
  {
   "cell_type": "markdown",
   "id": "440fceee-9722-46e6-bbaa-a089a7be4f32",
   "metadata": {
    "jp-MarkdownHeadingCollapsed": true
   },
   "source": [
    "## 2.1 initial look\n",
    "get the summary statistics of every variable.\n",
    "<https://pandas.pydata.org/docs/reference/api/pandas.DataFrame.info.html>"
   ]
  },
  {
   "cell_type": "code",
   "execution_count": 4,
   "id": "866d536d-9cd0-4e45-aeb7-85b051ac3008",
   "metadata": {},
   "outputs": [
    {
     "name": "stdout",
     "output_type": "stream",
     "text": [
      "<class 'pandas.core.frame.DataFrame'>\n",
      "RangeIndex: 961 entries, 0 to 960\n",
      "Data columns (total 6 columns):\n",
      " #   Column    Non-Null Count  Dtype  \n",
      "---  ------    --------------  -----  \n",
      " 0   BA        959 non-null    float64\n",
      " 1   Age       956 non-null    float64\n",
      " 2   Shape     930 non-null    float64\n",
      " 3   Margin    913 non-null    float64\n",
      " 4   Density   885 non-null    float64\n",
      " 5   Severity  961 non-null    int64  \n",
      "dtypes: float64(5), int64(1)\n",
      "memory usage: 45.2 KB\n"
     ]
    }
   ],
   "source": [
    "# get the information of every columns\n",
    "# it will count the non-null data of each variables\n",
    "## ->　if the count are not the same, meaning some value missing\n",
    "df.info()"
   ]
  },
  {
   "cell_type": "code",
   "execution_count": 5,
   "id": "dc28605e-3790-468b-beb8-f5fceca2b5f5",
   "metadata": {},
   "outputs": [
    {
     "name": "stdout",
     "output_type": "stream",
     "text": [
      "               BA         Age       Shape      Margin     Density    Severity\n",
      "count  959.000000  956.000000  930.000000  913.000000  885.000000  961.000000\n",
      "mean     4.300313   55.487448    2.721505    2.796276    2.910734    0.463059\n",
      "std      0.683469   14.480131    1.242792    1.566546    0.380444    0.498893\n",
      "min      0.000000   18.000000    1.000000    1.000000    1.000000    0.000000\n",
      "25%      4.000000   45.000000    2.000000    1.000000    3.000000    0.000000\n",
      "50%      4.000000   57.000000    3.000000    3.000000    3.000000    0.000000\n",
      "75%      5.000000   66.000000    4.000000    4.000000    3.000000    1.000000\n",
      "max      6.000000   96.000000    4.000000    5.000000    4.000000    1.000000\n"
     ]
    }
   ],
   "source": [
    "# descriptive statistics summary\n",
    "# shows mean, median, standard deviation, minumum value, maximum value, 1st 2nd and 3rd quantile\n",
    "# excluding NaN values\n",
    "summary = df.describe(include='all')\n",
    "print(summary)"
   ]
  },
  {
   "cell_type": "markdown",
   "id": "3e61cc4d-b6b0-4114-97bc-c84945878f85",
   "metadata": {
    "jp-MarkdownHeadingCollapsed": true
   },
   "source": [
    "## 2.2 loc function"
   ]
  },
  {
   "cell_type": "code",
   "execution_count": 6,
   "id": "31e7ab05-ccdc-4ccf-9668-bd02c4b7d0e9",
   "metadata": {},
   "outputs": [
    {
     "data": {
      "text/html": [
       "<div>\n",
       "<style scoped>\n",
       "    .dataframe tbody tr th:only-of-type {\n",
       "        vertical-align: middle;\n",
       "    }\n",
       "\n",
       "    .dataframe tbody tr th {\n",
       "        vertical-align: top;\n",
       "    }\n",
       "\n",
       "    .dataframe thead th {\n",
       "        text-align: right;\n",
       "    }\n",
       "</style>\n",
       "<table border=\"1\" class=\"dataframe\">\n",
       "  <thead>\n",
       "    <tr style=\"text-align: right;\">\n",
       "      <th></th>\n",
       "      <th>BA</th>\n",
       "      <th>Age</th>\n",
       "      <th>Shape</th>\n",
       "      <th>Margin</th>\n",
       "      <th>Density</th>\n",
       "      <th>Severity</th>\n",
       "    </tr>\n",
       "  </thead>\n",
       "  <tbody>\n",
       "    <tr>\n",
       "      <th>0</th>\n",
       "      <td>5.0</td>\n",
       "      <td>67.0</td>\n",
       "      <td>3.0</td>\n",
       "      <td>5.0</td>\n",
       "      <td>3.0</td>\n",
       "      <td>1</td>\n",
       "    </tr>\n",
       "    <tr>\n",
       "      <th>1</th>\n",
       "      <td>4.0</td>\n",
       "      <td>43.0</td>\n",
       "      <td>1.0</td>\n",
       "      <td>1.0</td>\n",
       "      <td>NaN</td>\n",
       "      <td>1</td>\n",
       "    </tr>\n",
       "    <tr>\n",
       "      <th>2</th>\n",
       "      <td>5.0</td>\n",
       "      <td>58.0</td>\n",
       "      <td>4.0</td>\n",
       "      <td>5.0</td>\n",
       "      <td>3.0</td>\n",
       "      <td>1</td>\n",
       "    </tr>\n",
       "    <tr>\n",
       "      <th>4</th>\n",
       "      <td>5.0</td>\n",
       "      <td>74.0</td>\n",
       "      <td>1.0</td>\n",
       "      <td>5.0</td>\n",
       "      <td>NaN</td>\n",
       "      <td>1</td>\n",
       "    </tr>\n",
       "    <tr>\n",
       "      <th>8</th>\n",
       "      <td>5.0</td>\n",
       "      <td>57.0</td>\n",
       "      <td>1.0</td>\n",
       "      <td>5.0</td>\n",
       "      <td>3.0</td>\n",
       "      <td>1</td>\n",
       "    </tr>\n",
       "    <tr>\n",
       "      <th>...</th>\n",
       "      <td>...</td>\n",
       "      <td>...</td>\n",
       "      <td>...</td>\n",
       "      <td>...</td>\n",
       "      <td>...</td>\n",
       "      <td>...</td>\n",
       "    </tr>\n",
       "    <tr>\n",
       "      <th>951</th>\n",
       "      <td>5.0</td>\n",
       "      <td>67.0</td>\n",
       "      <td>4.0</td>\n",
       "      <td>5.0</td>\n",
       "      <td>3.0</td>\n",
       "      <td>1</td>\n",
       "    </tr>\n",
       "    <tr>\n",
       "      <th>952</th>\n",
       "      <td>4.0</td>\n",
       "      <td>68.0</td>\n",
       "      <td>4.0</td>\n",
       "      <td>4.0</td>\n",
       "      <td>3.0</td>\n",
       "      <td>1</td>\n",
       "    </tr>\n",
       "    <tr>\n",
       "      <th>955</th>\n",
       "      <td>4.0</td>\n",
       "      <td>52.0</td>\n",
       "      <td>4.0</td>\n",
       "      <td>4.0</td>\n",
       "      <td>3.0</td>\n",
       "      <td>1</td>\n",
       "    </tr>\n",
       "    <tr>\n",
       "      <th>957</th>\n",
       "      <td>4.0</td>\n",
       "      <td>56.0</td>\n",
       "      <td>4.0</td>\n",
       "      <td>5.0</td>\n",
       "      <td>3.0</td>\n",
       "      <td>1</td>\n",
       "    </tr>\n",
       "    <tr>\n",
       "      <th>959</th>\n",
       "      <td>5.0</td>\n",
       "      <td>66.0</td>\n",
       "      <td>4.0</td>\n",
       "      <td>5.0</td>\n",
       "      <td>3.0</td>\n",
       "      <td>1</td>\n",
       "    </tr>\n",
       "  </tbody>\n",
       "</table>\n",
       "<p>445 rows × 6 columns</p>\n",
       "</div>"
      ],
      "text/plain": [
       "      BA   Age  Shape  Margin  Density  Severity\n",
       "0    5.0  67.0    3.0     5.0      3.0         1\n",
       "1    4.0  43.0    1.0     1.0      NaN         1\n",
       "2    5.0  58.0    4.0     5.0      3.0         1\n",
       "4    5.0  74.0    1.0     5.0      NaN         1\n",
       "8    5.0  57.0    1.0     5.0      3.0         1\n",
       "..   ...   ...    ...     ...      ...       ...\n",
       "951  5.0  67.0    4.0     5.0      3.0         1\n",
       "952  4.0  68.0    4.0     4.0      3.0         1\n",
       "955  4.0  52.0    4.0     4.0      3.0         1\n",
       "957  4.0  56.0    4.0     5.0      3.0         1\n",
       "959  5.0  66.0    4.0     5.0      3.0         1\n",
       "\n",
       "[445 rows x 6 columns]"
      ]
     },
     "execution_count": 6,
     "metadata": {},
     "output_type": "execute_result"
    }
   ],
   "source": [
    "# all the data where the severity is 1.\n",
    "df.loc[mydata['Severity']==1]"
   ]
  },
  {
   "cell_type": "code",
   "execution_count": 7,
   "id": "25357517-876c-4067-8a01-644f14e28fa9",
   "metadata": {},
   "outputs": [
    {
     "data": {
      "text/plain": [
       "0      5.0\n",
       "1      1.0\n",
       "2      5.0\n",
       "4      5.0\n",
       "8      5.0\n",
       "      ... \n",
       "951    5.0\n",
       "952    4.0\n",
       "955    4.0\n",
       "957    5.0\n",
       "959    5.0\n",
       "Name: Margin, Length: 445, dtype: float64"
      ]
     },
     "execution_count": 7,
     "metadata": {},
     "output_type": "execute_result"
    }
   ],
   "source": [
    "# the margin attribute of every instance of the data where the severity is 1.\n",
    "df.loc[mydata['Severity']==1, 'Margin']\n",
    "## other method: \n",
    "## Sev1=mydata.loc[mydata[\"Severity\"]==1]\n",
    "## print(Sev1[\"Margin\"])"
   ]
  },
  {
   "cell_type": "markdown",
   "id": "c8d8d0a7-3be3-4302-a712-ba8bbc62539d",
   "metadata": {},
   "source": [
    "## 2.3 three visualization"
   ]
  },
  {
   "cell_type": "code",
   "execution_count": 8,
   "id": "2689c48a-a85a-457a-9191-bd44bb2570f1",
   "metadata": {},
   "outputs": [],
   "source": [
    "import plotly\n",
    "import matplotlib.pyplot as plt"
   ]
  },
  {
   "cell_type": "code",
   "execution_count": 9,
   "id": "87786575-abdc-4695-ad43-cd1f65248659",
   "metadata": {},
   "outputs": [
    {
     "data": {
      "image/png": "[encoded data removed]",
      "text/plain": [
       "<Figure size 640x480 with 1 Axes>"
      ]
     },
     "metadata": {},
     "output_type": "display_data"
    }
   ],
   "source": [
    "# first visualization, distribution plots, frequency of the variable\n",
    "# show the frequency of the certain variable\n",
    "plt.hist(df['Age'], bins=20,  color='lightblue',  edgecolor='black')\n",
    "plt.title('Distribution of Age')\n",
    "plt.xlabel('Age')\n",
    "plt.ylabel('Frequency')\n",
    "plt.show()"
   ]
  },
  {
   "cell_type": "code",
   "execution_count": 10,
   "id": "b5346c73-6773-4cf8-b8d7-15b20101898c",
   "metadata": {},
   "outputs": [
    {
     "data": {
      "image/png": "[encoded data removed]",
      "text/plain": [
       "<Figure size 640x480 with 1 Axes>"
      ]
     },
     "metadata": {},
     "output_type": "display_data"
    }
   ],
   "source": [
    "# second visualization, scatterplots\n",
    "# show the relationship between two varibles\n",
    "## it could also show the distribution of the certain variables\n",
    "x = df['Age']\n",
    "y = df['Density']\n",
    "plot  = plt.scatter(x, y)\n",
    "plt.xlabel('Age')\n",
    "plt.ylabel('Density')\n",
    "plt.title('Age vs Density')\n",
    "plt.show()"
   ]
  },
  {
   "cell_type": "code",
   "execution_count": 11,
   "id": "e66494dc-5f0d-4bfe-ba56-c859cc67bd39",
   "metadata": {},
   "outputs": [
    {
     "data": {
      "image/png": "[encoded data removed]",
      "text/plain": [
       "<Figure size 640x480 with 1 Axes>"
      ]
     },
     "metadata": {},
     "output_type": "display_data"
    }
   ],
   "source": [
    "# third visualization, boxplot\n",
    "# show the statistics value of the (selected) variable age\n",
    "# df.boxplot(grid=False)\n",
    "df.boxplot(column=['Age'], grid=False)\n",
    "plt.title('Boxplot of Age')\n",
    "plt.ylabel('Age')\n",
    "plt.show()"
   ]
  },
  {
   "cell_type": "code",
   "execution_count": 12,
   "id": "91bd5689-088f-44dd-910a-7e5792c465bc",
   "metadata": {},
   "outputs": [
    {
     "data": {
      "application/vnd.plotly.v1+json": {
       "config": {
        "plotlyServerURL": "https://plot.ly"
       },
       "data": [
        {
         "hovertemplate": "Age=%{x}<br>BA=%{y}<br>Severity=%{marker.color}<extra></extra>",
         "legendgroup": "",
         "marker": {
          "color": [
           1,
           1,
           1,
           0,
           1,
           0,
           0,
           0,
           1,
           1,
           1,
           1,
           0,
           0,
           0,
           0,
           0,
           1,
           1,
           0,
           1,
           1,
           0,
           1,
           1,
           1,
           0,
           0,
           1,
           0,
           0,
           1,
           1,
           0,
           0,
           0,
           0,
           1,
           1,
           0,
           0,
           0,
           0,
           0,
           1,
           1,
           1,
           0,
           0,
           1,
           0,
           1,
           0,
           0,
           1,
           0,
           0,
           0,
           0,
           1,
           1,
           1,
           0,
           0,
           1,
           0,
           0,
           1,
           0,
           0,
           0,
           1,
           0,
           1,
           1,
           0,
           1,
           0,
           1,
           0,
           0,
           1,
           1,
           0,
           1,
           0,
           1,
           0,
           0,
           1,
           1,
           1,
           0,
           1,
           0,
           1,
           0,
           0,
           0,
           0,
           0,
           0,
           0,
           0,
           0,
           0,
           1,
           0,
           0,
           1,
           0,
           1,
           0,
           0,
           0,
           0,
           0,
           0,
           1,
           0,
           1,
           0,
           0,
           0,
           0,
           0,
           0,
           0,
           0,
           1,
           1,
           1,
           0,
           0,
           1,
           1,
           1,
           1,
           0,
           1,
           1,
           0,
           0,
           0,
           0,
           1,
           1,
           1,
           1,
           0,
           1,
           1,
           0,
           0,
           0,
           0,
           1,
           0,
           0,
           1,
           1,
           0,
           0,
           0,
           0,
           1,
           1,
           0,
           1,
           1,
           0,
           0,
           0,
           0,
           0,
           1,
           0,
           0,
           0,
           1,
           0,
           0,
           0,
           0,
           1,
           1,
           1,
           0,
           1,
           1,
           0,
           1,
           0,
           1,
           0,
           1,
           0,
           1,
           0,
           0,
           0,
           0,
           1,
           0,
           0,
           1,
           0,
           1,
           0,
           0,
           0,
           0,
           1,
           1,
           1,
           0,
           0,
           0,
           0,
           0,
           0,
           0,
           1,
           1,
           1,
           0,
           1,
           0,
           0,
           0,
           0,
           1,
           1,
           0,
           1,
           0,
           0,
           0,
           1,
           0,
           1,
           0,
           0,
           0,
           1,
           0,
           0,
           1,
           0,
           0,
           0,
           1,
           0,
           1,
           1,
           0,
           1,
           1,
           1,
           1,
           1,
           0,
           0,
           0,
           1,
           0,
           1,
           0,
           1,
           1,
           1,
           1,
           1,
           0,
           1,
           0,
           1,
           0,
           1,
           0,
           1,
           0,
           0,
           1,
           1,
           1,
           0,
           0,
           1,
           0,
           1,
           0,
           1,
           1,
           0,
           1,
           0,
           1,
           0,
           1,
           1,
           0,
           0,
           0,
           0,
           0,
           0,
           0,
           0,
           0,
           1,
           1,
           1,
           1,
           0,
           1,
           0,
           0,
           0,
           1,
           1,
           1,
           0,
           1,
           0,
           0,
           0,
           0,
           1,
           1,
           1,
           0,
           1,
           1,
           0,
           1,
           1,
           1,
           1,
           0,
           1,
           1,
           0,
           0,
           0,
           1,
           0,
           1,
           0,
           0,
           1,
           1,
           0,
           0,
           1,
           0,
           0,
           1,
           1,
           0,
           1,
           1,
           0,
           1,
           0,
           0,
           0,
           1,
           1,
           1,
           1,
           0,
           0,
           0,
           1,
           1,
           0,
           1,
           0,
           1,
           0,
           1,
           1,
           0,
           0,
           1,
           0,
           0,
           0,
           0,
           1,
           1,
           0,
           0,
           0,
           1,
           1,
           0,
           0,
           1,
           0,
           1,
           0,
           1,
           1,
           1,
           1,
           0,
           0,
           1,
           0,
           1,
           0,
           1,
           1,
           1,
           0,
           1,
           1,
           1,
           1,
           0,
           0,
           0,
           1,
           0,
           1,
           0,
           1,
           1,
           0,
           1,
           0,
           1,
           1,
           1,
           1,
           1,
           0,
           1,
           1,
           1,
           0,
           1,
           1,
           1,
           0,
           0,
           1,
           1,
           1,
           0,
           0,
           1,
           0,
           0,
           1,
           1,
           1,
           0,
           0,
           0,
           1,
           0,
           0,
           0,
           1,
           1,
           0,
           1,
           0,
           1,
           0,
           0,
           0,
           0,
           0,
           0,
           1,
           0,
           1,
           0,
           0,
           0,
           0,
           0,
           0,
           1,
           1,
           0,
           1,
           1,
           1,
           1,
           1,
           1,
           1,
           0,
           0,
           1,
           0,
           1,
           0,
           0,
           0,
           0,
           1,
           1,
           1,
           1,
           0,
           0,
           1,
           1,
           1,
           0,
           0,
           1,
           0,
           0,
           1,
           1,
           1,
           0,
           0,
           1,
           1,
           1,
           0,
           1,
           0,
           0,
           0,
           0,
           0,
           1,
           0,
           1,
           1,
           0,
           0,
           0,
           0,
           1,
           1,
           0,
           0,
           1,
           1,
           1,
           1,
           0,
           0,
           0,
           1,
           0,
           0,
           1,
           0,
           1,
           1,
           0,
           0,
           0,
           1,
           1,
           0,
           0,
           0,
           1,
           0,
           0,
           0,
           0,
           0,
           1,
           0,
           0,
           1,
           0,
           0,
           0,
           0,
           1,
           0,
           0,
           0,
           0,
           1,
           1,
           0,
           1,
           1,
           0,
           0,
           0,
           1,
           0,
           1,
           1,
           0,
           1,
           1,
           1,
           0,
           1,
           1,
           0,
           0,
           1,
           1,
           1,
           0,
           1,
           1,
           0,
           1,
           0,
           1,
           0,
           0,
           0,
           0,
           1,
           1,
           0,
           1,
           0,
           0,
           0,
           0,
           0,
           0,
           1,
           0,
           1,
           0,
           0,
           0,
           1,
           1,
           0,
           1,
           0,
           0,
           0,
           1,
           0,
           0,
           1,
           0,
           1,
           0,
           1,
           0,
           1,
           1,
           0,
           0,
           1,
           1,
           0,
           1,
           1,
           1,
           0,
           0,
           0,
           1,
           0,
           1,
           1,
           1,
           1,
           1,
           1,
           1,
           1,
           1,
           0,
           0,
           0,
           0,
           1,
           1,
           1,
           1,
           1,
           1,
           1,
           0,
           0,
           1,
           1,
           0,
           0,
           0,
           1,
           0,
           1,
           1,
           1,
           0,
           1,
           0,
           1,
           0,
           0,
           1,
           0,
           0,
           0,
           1,
           1,
           0,
           0,
           0,
           1,
           1,
           0,
           0,
           0,
           1,
           0,
           1,
           0,
           1,
           1,
           0,
           0,
           1,
           1,
           0,
           0,
           0,
           0,
           0,
           1,
           0,
           0,
           0,
           0,
           0,
           0,
           0,
           0,
           1,
           0,
           1,
           0,
           0,
           0,
           1,
           1,
           0,
           0,
           1,
           1,
           1,
           1,
           0,
           1,
           1,
           1,
           0,
           1,
           1,
           0,
           0,
           1,
           0,
           0,
           1,
           0,
           1,
           0,
           0,
           0,
           0,
           0,
           0,
           0,
           1,
           1,
           0,
           1,
           0,
           1,
           1,
           0,
           0,
           1,
           1,
           0,
           0,
           1,
           1,
           1,
           0,
           1,
           1,
           1,
           0,
           0,
           0,
           1,
           1,
           0,
           1,
           0,
           1,
           1,
           1,
           0,
           1,
           0,
           0,
           0,
           0,
           0,
           1,
           0,
           0,
           1,
           1,
           0,
           1,
           1,
           0,
           1,
           1,
           0,
           1,
           1,
           0,
           1,
           0,
           1,
           0,
           0,
           0,
           0,
           1,
           0,
           0,
           0,
           0,
           0,
           1,
           0,
           0,
           1,
           0,
           0,
           1,
           0,
           1,
           0,
           1,
           1,
           1,
           1,
           1,
           1,
           1,
           0,
           1,
           0,
           0,
           0,
           1,
           0,
           1,
           1,
           0,
           0,
           0,
           0,
           1,
           0,
           1,
           1,
           0,
           1,
           1,
           1,
           0,
           1,
           1,
           1,
           1,
           1,
           1,
           0,
           0,
           1,
           0,
           1,
           0,
           1,
           1,
           1,
           0,
           1,
           1,
           0,
           0,
           1,
           1,
           0,
           1,
           0,
           1,
           0,
           1,
           0,
           0,
           1,
           0,
           0,
           0,
           1,
           0,
           1,
           1,
           0,
           1,
           0,
           1,
           0,
           0,
           1,
           0,
           0,
           0,
           1,
           0,
           0,
           0,
           0,
           1,
           0,
           1,
           0,
           1,
           0,
           0,
           0,
           1,
           0,
           1,
           1,
           1,
           0,
           0,
           1,
           0,
           1,
           0,
           1,
           0
          ],
          "coloraxis": "coloraxis",
          "symbol": "circle"
         },
         "mode": "markers",
         "name": "",
         "orientation": "v",
         "showlegend": false,
         "type": "scatter",
         "x": [
          67,
          43,
          58,
          28,
          74,
          65,
          70,
          42,
          57,
          60,
          76,
          42,
          64,
          36,
          60,
          54,
          52,
          59,
          54,
          40,
          66,
          56,
          43,
          42,
          59,
          75,
          66,
          63,
          45,
          55,
          46,
          54,
          57,
          39,
          81,
          77,
          60,
          67,
          48,
          55,
          59,
          78,
          50,
          61,
          62,
          44,
          64,
          23,
          42,
          67,
          74,
          80,
          23,
          63,
          53,
          43,
          49,
          51,
          45,
          59,
          52,
          60,
          57,
          57,
          74,
          25,
          49,
          72,
          45,
          64,
          73,
          68,
          52,
          66,
          70,
          25,
          74,
          64,
          60,
          67,
          67,
          44,
          68,
          57,
          51,
          33,
          58,
          36,
          63,
          62,
          73,
          80,
          67,
          59,
          60,
          54,
          40,
          47,
          62,
          33,
          59,
          65,
          58,
          29,
          58,
          54,
          44,
          34,
          57,
          33,
          45,
          71,
          59,
          56,
          40,
          56,
          45,
          57,
          55,
          84,
          51,
          43,
          24,
          66,
          33,
          59,
          76,
          40,
          52,
          40,
          67,
          75,
          86,
          60,
          66,
          46,
          59,
          65,
          53,
          67,
          80,
          55,
          48,
          47,
          50,
          62,
          63,
          63,
          71,
          41,
          57,
          71,
          66,
          47,
          34,
          59,
          55,
          51,
          62,
          58,
          67,
          41,
          23,
          53,
          42,
          87,
          68,
          64,
          54,
          86,
          21,
          39,
          53,
          44,
          54,
          63,
          62,
          45,
          71,
          49,
          49,
          66,
          19,
          35,
          71,
          74,
          37,
          67,
          81,
          59,
          34,
          79,
          60,
          41,
          50,
          85,
          46,
          66,
          73,
          55,
          49,
          49,
          51,
          48,
          58,
          72,
          46,
          43,
          52,
          66,
          46,
          69,
          59,
          43,
          76,
          46,
          59,
          57,
          43,
          45,
          43,
          45,
          57,
          79,
          54,
          40,
          63,
          55,
          52,
          38,
          72,
          80,
          76,
          62,
          64,
          42,
          60,
          64,
          63,
          24,
          72,
          63,
          46,
          33,
          76,
          36,
          40,
          58,
          43,
          42,
          32,
          57,
          37,
          70,
          56,
          76,
          73,
          77,
          67,
          71,
          65,
          43,
          40,
          49,
          76,
          55,
          72,
          53,
          75,
          61,
          67,
          55,
          66,
          76,
          57,
          71,
          70,
          35,
          79,
          63,
          40,
          41,
          47,
          68,
          64,
          65,
          73,
          39,
          55,
          53,
          66,
          43,
          44,
          77,
          62,
          80,
          33,
          50,
          71,
          46,
          49,
          53,
          46,
          57,
          54,
          54,
          49,
          47,
          40,
          45,
          50,
          54,
          67,
          77,
          66,
          71,
          36,
          69,
          48,
          64,
          71,
          60,
          24,
          34,
          79,
          45,
          37,
          42,
          72,
          60,
          85,
          51,
          54,
          55,
          64,
          67,
          75,
          87,
          46,
          59,
          46,
          61,
          44,
          32,
          62,
          59,
          61,
          78,
          42,
          45,
          34,
          39,
          27,
          43,
          83,
          36,
          37,
          56,
          55,
          46,
          88,
          71,
          41,
          49,
          51,
          39,
          46,
          52,
          58,
          67,
          80,
          46,
          43,
          45,
          68,
          54,
          44,
          74,
          55,
          49,
          49,
          50,
          52,
          45,
          66,
          68,
          72,
          64,
          49,
          44,
          74,
          58,
          77,
          49,
          34,
          60,
          69,
          53,
          46,
          74,
          58,
          68,
          46,
          61,
          70,
          37,
          65,
          67,
          69,
          76,
          65,
          72,
          62,
          42,
          66,
          48,
          35,
          60,
          67,
          78,
          66,
          26,
          48,
          31,
          43,
          72,
          66,
          56,
          58,
          33,
          37,
          36,
          39,
          39,
          83,
          68,
          63,
          78,
          38,
          46,
          60,
          56,
          33,
          null,
          69,
          66,
          72,
          29,
          54,
          80,
          68,
          35,
          57,
          null,
          50,
          32,
          69,
          71,
          87,
          40,
          31,
          64,
          55,
          18,
          50,
          53,
          84,
          80,
          32,
          77,
          38,
          54,
          63,
          61,
          52,
          36,
          41,
          59,
          51,
          36,
          40,
          49,
          37,
          46,
          63,
          28,
          47,
          42,
          44,
          49,
          47,
          52,
          53,
          83,
          50,
          63,
          82,
          54,
          50,
          80,
          45,
          59,
          28,
          31,
          41,
          21,
          44,
          49,
          71,
          75,
          38,
          60,
          87,
          70,
          55,
          21,
          50,
          76,
          23,
          68,
          62,
          65,
          73,
          38,
          57,
          65,
          67,
          61,
          56,
          71,
          49,
          55,
          44,
          58,
          27,
          73,
          34,
          63,
          50,
          62,
          21,
          49,
          36,
          45,
          67,
          21,
          57,
          66,
          71,
          69,
          80,
          27,
          38,
          23,
          70,
          46,
          61,
          65,
          60,
          83,
          40,
          59,
          53,
          76,
          79,
          38,
          61,
          56,
          44,
          64,
          66,
          50,
          46,
          39,
          60,
          55,
          40,
          26,
          84,
          41,
          63,
          65,
          49,
          56,
          65,
          54,
          36,
          49,
          59,
          75,
          59,
          59,
          28,
          53,
          57,
          77,
          85,
          59,
          59,
          65,
          54,
          46,
          63,
          53,
          56,
          66,
          66,
          55,
          44,
          86,
          47,
          59,
          66,
          61,
          46,
          69,
          93,
          39,
          44,
          45,
          51,
          56,
          66,
          61,
          64,
          57,
          79,
          57,
          44,
          31,
          63,
          64,
          47,
          68,
          30,
          43,
          56,
          46,
          67,
          52,
          67,
          47,
          58,
          28,
          43,
          57,
          68,
          64,
          64,
          62,
          38,
          68,
          41,
          35,
          68,
          55,
          67,
          51,
          40,
          73,
          58,
          51,
          50,
          59,
          60,
          27,
          54,
          56,
          53,
          54,
          79,
          67,
          64,
          70,
          55,
          65,
          45,
          57,
          49,
          24,
          52,
          50,
          35,
          null,
          64,
          40,
          66,
          64,
          52,
          43,
          56,
          72,
          51,
          79,
          22,
          73,
          53,
          59,
          46,
          66,
          50,
          58,
          55,
          62,
          60,
          57,
          57,
          41,
          71,
          32,
          57,
          19,
          62,
          67,
          50,
          65,
          40,
          71,
          68,
          68,
          29,
          53,
          66,
          60,
          76,
          58,
          96,
          70,
          34,
          59,
          45,
          65,
          59,
          21,
          43,
          53,
          65,
          64,
          53,
          51,
          59,
          56,
          60,
          22,
          25,
          76,
          69,
          58,
          62,
          56,
          64,
          32,
          48,
          59,
          52,
          63,
          67,
          61,
          59,
          52,
          35,
          77,
          71,
          63,
          38,
          72,
          76,
          53,
          67,
          69,
          54,
          35,
          68,
          68,
          67,
          39,
          44,
          33,
          60,
          58,
          31,
          23,
          56,
          69,
          63,
          65,
          44,
          62,
          67,
          56,
          52,
          43,
          41,
          42,
          46,
          55,
          58,
          87,
          66,
          72,
          60,
          83,
          31,
          53,
          64,
          31,
          62,
          56,
          58,
          67,
          75,
          65,
          74,
          59,
          57,
          76,
          63,
          44,
          42,
          35,
          65,
          70,
          48,
          74,
          40,
          63,
          60,
          86,
          27,
          71,
          85,
          51,
          72,
          52,
          66,
          71,
          42,
          64,
          41,
          50,
          30,
          67,
          62,
          46,
          35,
          53,
          59,
          19,
          86,
          72,
          37,
          46,
          45,
          48,
          58,
          42,
          56,
          47,
          49,
          76,
          62,
          64,
          53,
          70,
          55,
          34,
          76,
          39,
          23,
          19,
          65,
          57,
          41,
          36,
          62,
          69,
          41,
          51,
          50,
          47,
          54,
          52,
          30,
          48,
          null,
          65,
          50,
          65,
          66,
          41,
          72,
          42,
          80,
          45,
          41,
          72,
          60,
          67,
          55,
          61,
          55,
          52,
          42,
          63,
          62,
          46,
          65,
          57,
          66,
          45,
          77,
          35,
          50,
          57,
          74,
          59,
          51,
          42,
          35,
          42,
          43,
          62,
          27,
          null,
          57,
          59,
          40,
          20,
          74,
          22,
          57,
          57,
          55,
          62,
          54,
          71,
          65,
          68,
          64,
          54,
          48,
          58,
          58,
          70,
          70,
          59,
          57,
          53,
          54,
          53,
          71,
          67,
          68,
          56,
          35,
          52,
          47,
          56,
          64,
          66,
          62
         ],
         "xaxis": "x",
         "y": [
          5,
          4,
          5,
          4,
          5,
          4,
          4,
          5,
          5,
          5,
          5,
          3,
          4,
          4,
          4,
          4,
          3,
          4,
          4,
          4,
          null,
          5,
          4,
          5,
          4,
          5,
          2,
          5,
          5,
          5,
          4,
          5,
          5,
          4,
          4,
          4,
          4,
          5,
          4,
          4,
          4,
          4,
          4,
          4,
          5,
          5,
          5,
          4,
          2,
          5,
          4,
          5,
          4,
          4,
          4,
          4,
          4,
          5,
          4,
          5,
          5,
          5,
          4,
          3,
          5,
          4,
          4,
          5,
          4,
          4,
          4,
          5,
          5,
          5,
          5,
          4,
          5,
          4,
          5,
          5,
          4,
          5,
          3,
          4,
          5,
          4,
          5,
          5,
          4,
          5,
          4,
          4,
          4,
          5,
          5,
          5,
          4,
          4,
          5,
          4,
          5,
          4,
          4,
          4,
          4,
          4,
          4,
          3,
          4,
          5,
          4,
          5,
          5,
          4,
          4,
          4,
          4,
          4,
          5,
          5,
          5,
          4,
          4,
          4,
          5,
          4,
          4,
          4,
          4,
          5,
          5,
          5,
          5,
          4,
          5,
          5,
          4,
          5,
          4,
          5,
          5,
          4,
          4,
          4,
          4,
          5,
          5,
          4,
          4,
          4,
          5,
          5,
          4,
          4,
          3,
          4,
          5,
          4,
          4,
          4,
          5,
          4,
          4,
          4,
          4,
          5,
          4,
          4,
          5,
          5,
          4,
          4,
          4,
          4,
          4,
          5,
          4,
          4,
          5,
          5,
          4,
          5,
          4,
          4,
          4,
          5,
          5,
          4,
          5,
          5,
          4,
          5,
          5,
          4,
          4,
          5,
          4,
          5,
          4,
          4,
          4,
          3,
          4,
          2,
          4,
          5,
          4,
          4,
          null,
          4,
          4,
          4,
          2,
          5,
          5,
          4,
          4,
          4,
          5,
          3,
          3,
          4,
          5,
          5,
          5,
          4,
          5,
          2,
          4,
          4,
          3,
          5,
          5,
          4,
          5,
          5,
          3,
          4,
          4,
          4,
          5,
          4,
          4,
          3,
          5,
          4,
          4,
          5,
          4,
          3,
          4,
          5,
          4,
          4,
          5,
          3,
          5,
          5,
          5,
          5,
          5,
          4,
          4,
          4,
          5,
          4,
          5,
          3,
          5,
          5,
          5,
          5,
          5,
          2,
          4,
          5,
          5,
          4,
          5,
          4,
          5,
          4,
          4,
          4,
          4,
          4,
          4,
          4,
          5,
          5,
          5,
          4,
          5,
          4,
          4,
          5,
          4,
          4,
          4,
          5,
          5,
          4,
          3,
          4,
          4,
          4,
          2,
          4,
          4,
          4,
          4,
          5,
          4,
          4,
          4,
          4,
          4,
          4,
          4,
          4,
          4,
          5,
          4,
          5,
          4,
          4,
          4,
          4,
          4,
          5,
          5,
          4,
          5,
          5,
          4,
          5,
          5,
          5,
          4,
          4,
          5,
          5,
          4,
          4,
          4,
          5,
          4,
          5,
          5,
          4,
          5,
          5,
          4,
          4,
          5,
          4,
          4,
          4,
          5,
          5,
          4,
          5,
          4,
          5,
          3,
          4,
          4,
          5,
          5,
          4,
          5,
          3,
          3,
          4,
          5,
          4,
          4,
          5,
          5,
          4,
          4,
          5,
          5,
          4,
          4,
          4,
          4,
          5,
          2,
          3,
          5,
          5,
          4,
          4,
          4,
          5,
          5,
          4,
          3,
          5,
          4,
          5,
          5,
          5,
          5,
          5,
          3,
          4,
          5,
          5,
          4,
          5,
          4,
          5,
          5,
          5,
          4,
          5,
          5,
          5,
          4,
          4,
          4,
          4,
          5,
          5,
          5,
          4,
          5,
          5,
          4,
          5,
          4,
          4,
          5,
          4,
          5,
          5,
          4,
          5,
          5,
          5,
          4,
          4,
          4,
          5,
          4,
          4,
          5,
          5,
          5,
          4,
          4,
          5,
          4,
          4,
          1,
          4,
          5,
          3,
          4,
          4,
          5,
          4,
          3,
          4,
          5,
          5,
          4,
          5,
          4,
          5,
          4,
          4,
          4,
          4,
          4,
          4,
          5,
          4,
          5,
          4,
          4,
          4,
          4,
          4,
          4,
          4,
          5,
          4,
          5,
          5,
          4,
          5,
          4,
          5,
          4,
          4,
          4,
          5,
          5,
          5,
          4,
          4,
          4,
          4,
          5,
          5,
          5,
          5,
          4,
          4,
          5,
          4,
          5,
          3,
          4,
          5,
          4,
          3,
          4,
          5,
          5,
          4,
          2,
          5,
          5,
          5,
          5,
          5,
          4,
          4,
          4,
          1,
          4,
          5,
          4,
          5,
          4,
          4,
          3,
          4,
          4,
          4,
          5,
          4,
          4,
          5,
          4,
          5,
          6,
          3,
          4,
          4,
          5,
          4,
          4,
          5,
          4,
          5,
          5,
          2,
          4,
          4,
          5,
          5,
          4,
          4,
          4,
          4,
          4,
          4,
          4,
          4,
          4,
          5,
          4,
          4,
          5,
          4,
          4,
          2,
          4,
          4,
          5,
          4,
          4,
          5,
          4,
          5,
          5,
          5,
          4,
          5,
          5,
          5,
          5,
          4,
          5,
          4,
          4,
          5,
          4,
          4,
          4,
          5,
          5,
          4,
          4,
          5,
          5,
          5,
          5,
          5,
          3,
          4,
          5,
          4,
          5,
          4,
          4,
          4,
          4,
          5,
          4,
          5,
          5,
          4,
          4,
          4,
          4,
          4,
          5,
          5,
          4,
          5,
          4,
          4,
          4,
          5,
          4,
          4,
          5,
          4,
          4,
          4,
          5,
          4,
          4,
          5,
          4,
          5,
          4,
          4,
          4,
          5,
          5,
          4,
          2,
          5,
          4,
          4,
          3,
          5,
          6,
          4,
          5,
          4,
          5,
          4,
          5,
          5,
          5,
          4,
          5,
          5,
          5,
          4,
          5,
          4,
          4,
          4,
          4,
          5,
          5,
          5,
          5,
          4,
          5,
          5,
          4,
          4,
          6,
          4,
          4,
          4,
          4,
          4,
          4,
          5,
          4,
          4,
          4,
          4,
          4,
          5,
          4,
          6,
          4,
          4,
          4,
          4,
          4,
          5,
          4,
          4,
          4,
          6,
          6,
          4,
          4,
          4,
          5,
          4,
          5,
          4,
          5,
          5,
          4,
          4,
          4,
          5,
          4,
          4,
          3,
          4,
          4,
          4,
          4,
          4,
          4,
          4,
          4,
          4,
          4,
          6,
          5,
          4,
          5,
          4,
          4,
          4,
          5,
          5,
          4,
          4,
          5,
          5,
          5,
          5,
          4,
          5,
          5,
          5,
          4,
          5,
          4,
          4,
          4,
          5,
          4,
          2,
          5,
          4,
          4,
          3,
          4,
          4,
          4,
          4,
          4,
          3,
          5,
          4,
          6,
          4,
          4,
          4,
          4,
          4,
          4,
          4,
          4,
          4,
          3,
          5,
          5,
          5,
          4,
          1,
          5,
          5,
          4,
          4,
          4,
          5,
          5,
          4,
          5,
          4,
          5,
          5,
          5,
          4,
          4,
          4,
          4,
          4,
          4,
          4,
          5,
          4,
          4,
          4,
          6,
          4,
          5,
          5,
          4,
          4,
          5,
          4,
          6,
          5,
          4,
          5,
          4,
          4,
          4,
          4,
          4,
          4,
          5,
          4,
          4,
          4,
          4,
          4,
          5,
          4,
          4,
          4,
          4,
          4,
          4,
          4,
          4,
          4,
          4,
          5,
          5,
          5,
          5,
          4,
          5,
          4,
          5,
          4,
          2,
          4,
          5,
          4,
          5,
          4,
          4,
          4,
          4,
          3,
          5,
          4,
          4,
          5,
          4,
          3,
          5,
          4,
          4,
          5,
          5,
          6,
          5,
          4,
          4,
          0,
          4,
          4,
          4,
          5,
          4,
          4,
          4,
          4,
          4,
          5,
          4,
          4,
          4,
          4,
          4,
          4,
          4,
          4,
          4,
          4,
          4,
          4,
          4,
          4,
          4,
          4,
          4,
          4,
          4,
          5,
          4,
          4,
          5,
          4,
          5,
          4,
          4,
          4,
          4,
          4,
          4,
          4,
          4,
          4,
          4,
          4,
          4,
          4,
          5,
          4,
          5,
          4,
          4,
          4,
          4,
          4,
          1,
          5,
          4,
          4,
          4,
          4,
          4,
          4,
          4,
          5,
          4
         ],
         "yaxis": "y"
        }
       ],
       "layout": {
        "coloraxis": {
         "colorbar": {
          "title": {
           "text": "Severity"
          }
         },
         "colorscale": [
          [
           0,
           "#0d0887"
          ],
          [
           0.1111111111111111,
           "#46039f"
          ],
          [
           0.2222222222222222,
           "#7201a8"
          ],
          [
           0.3333333333333333,
           "#9c179e"
          ],
          [
           0.4444444444444444,
           "#bd3786"
          ],
          [
           0.5555555555555556,
           "#d8576b"
          ],
          [
           0.6666666666666666,
           "#ed7953"
          ],
          [
           0.7777777777777778,
           "#fb9f3a"
          ],
          [
           0.8888888888888888,
           "#fdca26"
          ],
          [
           1,
           "#f0f921"
          ]
         ]
        },
        "legend": {
         "tracegroupgap": 0
        },
        "template": {
         "data": {
          "bar": [
           {
            "error_x": {
             "color": "#2a3f5f"
            },
            "error_y": {
             "color": "#2a3f5f"
            },
            "marker": {
             "line": {
              "color": "#E5ECF6",
              "width": 0.5
             },
             "pattern": {
              "fillmode": "overlay",
              "size": 10,
              "solidity": 0.2
             }
            },
            "type": "bar"
           }
          ],
          "barpolar": [
           {
            "marker": {
             "line": {
              "color": "#E5ECF6",
              "width": 0.5
             },
             "pattern": {
              "fillmode": "overlay",
              "size": 10,
              "solidity": 0.2
             }
            },
            "type": "barpolar"
           }
          ],
          "carpet": [
           {
            "aaxis": {
             "endlinecolor": "#2a3f5f",
             "gridcolor": "white",
             "linecolor": "white",
             "minorgridcolor": "white",
             "startlinecolor": "#2a3f5f"
            },
            "baxis": {
             "endlinecolor": "#2a3f5f",
             "gridcolor": "white",
             "linecolor": "white",
             "minorgridcolor": "white",
             "startlinecolor": "#2a3f5f"
            },
            "type": "carpet"
           }
          ],
          "choropleth": [
           {
            "colorbar": {
             "outlinewidth": 0,
             "ticks": ""
            },
            "type": "choropleth"
           }
          ],
          "contour": [
           {
            "colorbar": {
             "outlinewidth": 0,
             "ticks": ""
            },
            "colorscale": [
             [
              0,
              "#0d0887"
             ],
             [
              0.1111111111111111,
              "#46039f"
             ],
             [
              0.2222222222222222,
              "#7201a8"
             ],
             [
              0.3333333333333333,
              "#9c179e"
             ],
             [
              0.4444444444444444,
              "#bd3786"
             ],
             [
              0.5555555555555556,
              "#d8576b"
             ],
             [
              0.6666666666666666,
              "#ed7953"
             ],
             [
              0.7777777777777778,
              "#fb9f3a"
             ],
             [
              0.8888888888888888,
              "#fdca26"
             ],
             [
              1,
              "#f0f921"
             ]
            ],
            "type": "contour"
           }
          ],
          "contourcarpet": [
           {
            "colorbar": {
             "outlinewidth": 0,
             "ticks": ""
            },
            "type": "contourcarpet"
           }
          ],
          "heatmap": [
           {
            "colorbar": {
             "outlinewidth": 0,
             "ticks": ""
            },
            "colorscale": [
             [
              0,
              "#0d0887"
             ],
             [
              0.1111111111111111,
              "#46039f"
             ],
             [
              0.2222222222222222,
              "#7201a8"
             ],
             [
              0.3333333333333333,
              "#9c179e"
             ],
             [
              0.4444444444444444,
              "#bd3786"
             ],
             [
              0.5555555555555556,
              "#d8576b"
             ],
             [
              0.6666666666666666,
              "#ed7953"
             ],
             [
              0.7777777777777778,
              "#fb9f3a"
             ],
             [
              0.8888888888888888,
              "#fdca26"
             ],
             [
              1,
              "#f0f921"
             ]
            ],
            "type": "heatmap"
           }
          ],
          "heatmapgl": [
           {
            "colorbar": {
             "outlinewidth": 0,
             "ticks": ""
            },
            "colorscale": [
             [
              0,
              "#0d0887"
             ],
             [
              0.1111111111111111,
              "#46039f"
             ],
             [
              0.2222222222222222,
              "#7201a8"
             ],
             [
              0.3333333333333333,
              "#9c179e"
             ],
             [
              0.4444444444444444,
              "#bd3786"
             ],
             [
              0.5555555555555556,
              "#d8576b"
             ],
             [
              0.6666666666666666,
              "#ed7953"
             ],
             [
              0.7777777777777778,
              "#fb9f3a"
             ],
             [
              0.8888888888888888,
              "#fdca26"
             ],
             [
              1,
              "#f0f921"
             ]
            ],
            "type": "heatmapgl"
           }
          ],
          "histogram": [
           {
            "marker": {
             "pattern": {
              "fillmode": "overlay",
              "size": 10,
              "solidity": 0.2
             }
            },
            "type": "histogram"
           }
          ],
          "histogram2d": [
           {
            "colorbar": {
             "outlinewidth": 0,
             "ticks": ""
            },
            "colorscale": [
             [
              0,
              "#0d0887"
             ],
             [
              0.1111111111111111,
              "#46039f"
             ],
             [
              0.2222222222222222,
              "#7201a8"
             ],
             [
              0.3333333333333333,
              "#9c179e"
             ],
             [
              0.4444444444444444,
              "#bd3786"
             ],
             [
              0.5555555555555556,
              "#d8576b"
             ],
             [
              0.6666666666666666,
              "#ed7953"
             ],
             [
              0.7777777777777778,
              "#fb9f3a"
             ],
             [
              0.8888888888888888,
              "#fdca26"
             ],
             [
              1,
              "#f0f921"
             ]
            ],
            "type": "histogram2d"
           }
          ],
          "histogram2dcontour": [
           {
            "colorbar": {
             "outlinewidth": 0,
             "ticks": ""
            },
            "colorscale": [
             [
              0,
              "#0d0887"
             ],
             [
              0.1111111111111111,
              "#46039f"
             ],
             [
              0.2222222222222222,
              "#7201a8"
             ],
             [
              0.3333333333333333,
              "#9c179e"
             ],
             [
              0.4444444444444444,
              "#bd3786"
             ],
             [
              0.5555555555555556,
              "#d8576b"
             ],
             [
              0.6666666666666666,
              "#ed7953"
             ],
             [
              0.7777777777777778,
              "#fb9f3a"
             ],
             [
              0.8888888888888888,
              "#fdca26"
             ],
             [
              1,
              "#f0f921"
             ]
            ],
            "type": "histogram2dcontour"
           }
          ],
          "mesh3d": [
           {
            "colorbar": {
             "outlinewidth": 0,
             "ticks": ""
            },
            "type": "mesh3d"
           }
          ],
          "parcoords": [
           {
            "line": {
             "colorbar": {
              "outlinewidth": 0,
              "ticks": ""
             }
            },
            "type": "parcoords"
           }
          ],
          "pie": [
           {
            "automargin": true,
            "type": "pie"
           }
          ],
          "scatter": [
           {
            "fillpattern": {
             "fillmode": "overlay",
             "size": 10,
             "solidity": 0.2
            },
            "type": "scatter"
           }
          ],
          "scatter3d": [
           {
            "line": {
             "colorbar": {
              "outlinewidth": 0,
              "ticks": ""
             }
            },
            "marker": {
             "colorbar": {
              "outlinewidth": 0,
              "ticks": ""
             }
            },
            "type": "scatter3d"
           }
          ],
          "scattercarpet": [
           {
            "marker": {
             "colorbar": {
              "outlinewidth": 0,
              "ticks": ""
             }
            },
            "type": "scattercarpet"
           }
          ],
          "scattergeo": [
           {
            "marker": {
             "colorbar": {
              "outlinewidth": 0,
              "ticks": ""
             }
            },
            "type": "scattergeo"
           }
          ],
          "scattergl": [
           {
            "marker": {
             "colorbar": {
              "outlinewidth": 0,
              "ticks": ""
             }
            },
            "type": "scattergl"
           }
          ],
          "scattermapbox": [
           {
            "marker": {
             "colorbar": {
              "outlinewidth": 0,
              "ticks": ""
             }
            },
            "type": "scattermapbox"
           }
          ],
          "scatterpolar": [
           {
            "marker": {
             "colorbar": {
              "outlinewidth": 0,
              "ticks": ""
             }
            },
            "type": "scatterpolar"
           }
          ],
          "scatterpolargl": [
           {
            "marker": {
             "colorbar": {
              "outlinewidth": 0,
              "ticks": ""
             }
            },
            "type": "scatterpolargl"
           }
          ],
          "scatterternary": [
           {
            "marker": {
             "colorbar": {
              "outlinewidth": 0,
              "ticks": ""
             }
            },
            "type": "scatterternary"
           }
          ],
          "surface": [
           {
            "colorbar": {
             "outlinewidth": 0,
             "ticks": ""
            },
            "colorscale": [
             [
              0,
              "#0d0887"
             ],
             [
              0.1111111111111111,
              "#46039f"
             ],
             [
              0.2222222222222222,
              "#7201a8"
             ],
             [
              0.3333333333333333,
              "#9c179e"
             ],
             [
              0.4444444444444444,
              "#bd3786"
             ],
             [
              0.5555555555555556,
              "#d8576b"
             ],
             [
              0.6666666666666666,
              "#ed7953"
             ],
             [
              0.7777777777777778,
              "#fb9f3a"
             ],
             [
              0.8888888888888888,
              "#fdca26"
             ],
             [
              1,
              "#f0f921"
             ]
            ],
            "type": "surface"
           }
          ],
          "table": [
           {
            "cells": {
             "fill": {
              "color": "#EBF0F8"
             },
             "line": {
              "color": "white"
             }
            },
            "header": {
             "fill": {
              "color": "#C8D4E3"
             },
             "line": {
              "color": "white"
             }
            },
            "type": "table"
           }
          ]
         },
         "layout": {
          "annotationdefaults": {
           "arrowcolor": "#2a3f5f",
           "arrowhead": 0,
           "arrowwidth": 1
          },
          "autotypenumbers": "strict",
          "coloraxis": {
           "colorbar": {
            "outlinewidth": 0,
            "ticks": ""
           }
          },
          "colorscale": {
           "diverging": [
            [
             0,
             "#8e0152"
            ],
            [
             0.1,
             "#c51b7d"
            ],
            [
             0.2,
             "#de77ae"
            ],
            [
             0.3,
             "#f1b6da"
            ],
            [
             0.4,
             "#fde0ef"
            ],
            [
             0.5,
             "#f7f7f7"
            ],
            [
             0.6,
             "#e6f5d0"
            ],
            [
             0.7,
             "#b8e186"
            ],
            [
             0.8,
             "#7fbc41"
            ],
            [
             0.9,
             "#4d9221"
            ],
            [
             1,
             "#276419"
            ]
           ],
           "sequential": [
            [
             0,
             "#0d0887"
            ],
            [
             0.1111111111111111,
             "#46039f"
            ],
            [
             0.2222222222222222,
             "#7201a8"
            ],
            [
             0.3333333333333333,
             "#9c179e"
            ],
            [
             0.4444444444444444,
             "#bd3786"
            ],
            [
             0.5555555555555556,
             "#d8576b"
            ],
            [
             0.6666666666666666,
             "#ed7953"
            ],
            [
             0.7777777777777778,
             "#fb9f3a"
            ],
            [
             0.8888888888888888,
             "#fdca26"
            ],
            [
             1,
             "#f0f921"
            ]
           ],
           "sequentialminus": [
            [
             0,
             "#0d0887"
            ],
            [
             0.1111111111111111,
             "#46039f"
            ],
            [
             0.2222222222222222,
             "#7201a8"
            ],
            [
             0.3333333333333333,
             "#9c179e"
            ],
            [
             0.4444444444444444,
             "#bd3786"
            ],
            [
             0.5555555555555556,
             "#d8576b"
            ],
            [
             0.6666666666666666,
             "#ed7953"
            ],
            [
             0.7777777777777778,
             "#fb9f3a"
            ],
            [
             0.8888888888888888,
             "#fdca26"
            ],
            [
             1,
             "#f0f921"
            ]
           ]
          },
          "colorway": [
           "#636efa",
           "#EF553B",
           "#00cc96",
           "#ab63fa",
           "#FFA15A",
           "#19d3f3",
           "#FF6692",
           "#B6E880",
           "#FF97FF",
           "#FECB52"
          ],
          "font": {
           "color": "#2a3f5f"
          },
          "geo": {
           "bgcolor": "white",
           "lakecolor": "white",
           "landcolor": "#E5ECF6",
           "showlakes": true,
           "showland": true,
           "subunitcolor": "white"
          },
          "hoverlabel": {
           "align": "left"
          },
          "hovermode": "closest",
          "mapbox": {
           "style": "light"
          },
          "paper_bgcolor": "white",
          "plot_bgcolor": "#E5ECF6",
          "polar": {
           "angularaxis": {
            "gridcolor": "white",
            "linecolor": "white",
            "ticks": ""
           },
           "bgcolor": "#E5ECF6",
           "radialaxis": {
            "gridcolor": "white",
            "linecolor": "white",
            "ticks": ""
           }
          },
          "scene": {
           "xaxis": {
            "backgroundcolor": "#E5ECF6",
            "gridcolor": "white",
            "gridwidth": 2,
            "linecolor": "white",
            "showbackground": true,
            "ticks": "",
            "zerolinecolor": "white"
           },
           "yaxis": {
            "backgroundcolor": "#E5ECF6",
            "gridcolor": "white",
            "gridwidth": 2,
            "linecolor": "white",
            "showbackground": true,
            "ticks": "",
            "zerolinecolor": "white"
           },
           "zaxis": {
            "backgroundcolor": "#E5ECF6",
            "gridcolor": "white",
            "gridwidth": 2,
            "linecolor": "white",
            "showbackground": true,
            "ticks": "",
            "zerolinecolor": "white"
           }
          },
          "shapedefaults": {
           "line": {
            "color": "#2a3f5f"
           }
          },
          "ternary": {
           "aaxis": {
            "gridcolor": "white",
            "linecolor": "white",
            "ticks": ""
           },
           "baxis": {
            "gridcolor": "white",
            "linecolor": "white",
            "ticks": ""
           },
           "bgcolor": "#E5ECF6",
           "caxis": {
            "gridcolor": "white",
            "linecolor": "white",
            "ticks": ""
           }
          },
          "title": {
           "x": 0.05
          },
          "xaxis": {
           "automargin": true,
           "gridcolor": "white",
           "linecolor": "white",
           "ticks": "",
           "title": {
            "standoff": 15
           },
           "zerolinecolor": "white",
           "zerolinewidth": 2
          },
          "yaxis": {
           "automargin": true,
           "gridcolor": "white",
           "linecolor": "white",
           "ticks": "",
           "title": {
            "standoff": 15
           },
           "zerolinecolor": "white",
           "zerolinewidth": 2
          }
         }
        },
        "title": {
         "text": "BA level by Age"
        },
        "xaxis": {
         "anchor": "y",
         "domain": [
          0,
          1
         ],
         "title": {
          "text": "Age"
         }
        },
        "yaxis": {
         "anchor": "x",
         "domain": [
          0,
          1
         ],
         "title": {
          "text": "BA"
         }
        }
       }
      }
     },
     "metadata": {},
     "output_type": "display_data"
    }
   ],
   "source": [
    "# fourth visualizeation, scatterplot\n",
    "# Scatterplot between age and BA level, with color representing Severity level\n",
    "import plotly.express as px\n",
    "ageBA = px.scatter(df, x=\"Age\", y=\"BA\", color='Severity', title = 'BA level by Age')\n",
    "ageBA.show()"
   ]
  },
  {
   "cell_type": "code",
   "execution_count": 13,
   "id": "9b070337-cca3-4c95-b30f-386420491bbf",
   "metadata": {},
   "outputs": [
    {
     "data": {
      "application/vnd.plotly.v1+json": {
       "config": {
        "plotlyServerURL": "https://plot.ly"
       },
       "data": [
        {
         "coloraxis": "coloraxis",
         "hovertemplate": "Shape=%{x}<br>Margin=%{y}<br>count=%{z}<extra></extra>",
         "name": "",
         "type": "histogram2d",
         "x": [
          3,
          1,
          4,
          1,
          1,
          1,
          null,
          1,
          1,
          null,
          1,
          2,
          1,
          3,
          2,
          1,
          3,
          2,
          1,
          1,
          null,
          4,
          1,
          4,
          2,
          4,
          1,
          3,
          4,
          4,
          1,
          4,
          4,
          1,
          1,
          3,
          2,
          3,
          4,
          3,
          2,
          1,
          1,
          2,
          3,
          2,
          4,
          1,
          null,
          4,
          2,
          3,
          1,
          2,
          null,
          3,
          2,
          2,
          2,
          2,
          4,
          4,
          2,
          2,
          4,
          2,
          1,
          4,
          2,
          2,
          2,
          4,
          4,
          4,
          null,
          1,
          1,
          1,
          4,
          2,
          4,
          4,
          1,
          null,
          4,
          1,
          4,
          1,
          1,
          1,
          3,
          4,
          1,
          2,
          1,
          4,
          1,
          2,
          4,
          2,
          2,
          2,
          4,
          2,
          1,
          1,
          1,
          2,
          1,
          4,
          4,
          4,
          4,
          2,
          3,
          1,
          2,
          2,
          3,
          4,
          4,
          1,
          2,
          1,
          4,
          4,
          2,
          1,
          null,
          4,
          4,
          4,
          4,
          2,
          4,
          4,
          4,
          4,
          1,
          3,
          4,
          2,
          1,
          1,
          2,
          4,
          4,
          4,
          4,
          1,
          4,
          4,
          1,
          2,
          4,
          3,
          2,
          null,
          2,
          4,
          4,
          2,
          3,
          null,
          2,
          4,
          1,
          1,
          3,
          4,
          2,
          1,
          4,
          4,
          1,
          4,
          2,
          2,
          4,
          4,
          4,
          4,
          1,
          1,
          3,
          4,
          4,
          1,
          3,
          4,
          1,
          4,
          3,
          1,
          1,
          4,
          1,
          4,
          3,
          1,
          2,
          4,
          4,
          4,
          4,
          4,
          2,
          4,
          4,
          2,
          1,
          3,
          1,
          2,
          4,
          1,
          2,
          1,
          4,
          2,
          2,
          2,
          4,
          4,
          2,
          3,
          4,
          1,
          2,
          1,
          4,
          4,
          4,
          3,
          4,
          4,
          null,
          4,
          4,
          2,
          4,
          2,
          1,
          1,
          4,
          2,
          2,
          1,
          2,
          1,
          1,
          4,
          1,
          4,
          4,
          null,
          4,
          4,
          4,
          4,
          4,
          1,
          2,
          2,
          4,
          4,
          4,
          4,
          4,
          4,
          4,
          4,
          4,
          1,
          4,
          3,
          4,
          4,
          1,
          2,
          1,
          1,
          2,
          1,
          4,
          4,
          4,
          4,
          4,
          3,
          4,
          3,
          4,
          4,
          2,
          4,
          4,
          4,
          1,
          4,
          4,
          1,
          2,
          1,
          3,
          1,
          2,
          3,
          1,
          1,
          4,
          4,
          4,
          4,
          4,
          2,
          2,
          4,
          1,
          4,
          4,
          4,
          1,
          4,
          1,
          1,
          2,
          1,
          4,
          4,
          3,
          1,
          4,
          4,
          4,
          4,
          4,
          4,
          4,
          2,
          4,
          1,
          1,
          1,
          1,
          4,
          4,
          4,
          4,
          1,
          2,
          4,
          3,
          1,
          4,
          2,
          2,
          3,
          4,
          3,
          4,
          4,
          2,
          4,
          1,
          1,
          2,
          4,
          4,
          4,
          4,
          1,
          1,
          1,
          4,
          4,
          2,
          4,
          4,
          4,
          1,
          4,
          3,
          1,
          1,
          4,
          2,
          null,
          null,
          null,
          4,
          4,
          2,
          3,
          null,
          4,
          4,
          2,
          3,
          4,
          1,
          4,
          4,
          2,
          4,
          4,
          4,
          4,
          3,
          4,
          4,
          4,
          4,
          4,
          4,
          4,
          1,
          4,
          4,
          4,
          1,
          1,
          1,
          1,
          4,
          2,
          1,
          4,
          4,
          2,
          1,
          4,
          2,
          4,
          4,
          4,
          3,
          4,
          2,
          4,
          4,
          2,
          1,
          4,
          1,
          1,
          1,
          1,
          4,
          4,
          4,
          2,
          3,
          4,
          1,
          4,
          4,
          4,
          4,
          2,
          1,
          1,
          4,
          1,
          2,
          1,
          4,
          4,
          1,
          3,
          1,
          4,
          1,
          1,
          1,
          1,
          null,
          1,
          4,
          1,
          4,
          1,
          2,
          1,
          1,
          2,
          2,
          2,
          4,
          4,
          4,
          4,
          1,
          3,
          4,
          4,
          null,
          1,
          4,
          4,
          2,
          4,
          2,
          1,
          2,
          3,
          3,
          4,
          4,
          4,
          2,
          1,
          4,
          4,
          4,
          1,
          1,
          4,
          1,
          null,
          4,
          1,
          4,
          2,
          1,
          4,
          2,
          2,
          4,
          2,
          2,
          null,
          2,
          4,
          2,
          4,
          2,
          null,
          2,
          2,
          3,
          2,
          3,
          2,
          4,
          1,
          2,
          4,
          4,
          3,
          4,
          2,
          2,
          2,
          null,
          4,
          2,
          4,
          4,
          4,
          4,
          null,
          3,
          4,
          1,
          2,
          3,
          2,
          2,
          3,
          3,
          3,
          1,
          1,
          3,
          4,
          2,
          1,
          3,
          2,
          1,
          null,
          1,
          2,
          4,
          1,
          1,
          4,
          4,
          4,
          4,
          4,
          4,
          4,
          4,
          4,
          4,
          4,
          1,
          3,
          2,
          4,
          4,
          1,
          1,
          4,
          4,
          1,
          1,
          3,
          4,
          4,
          4,
          4,
          null,
          1,
          1,
          1,
          4,
          2,
          3,
          2,
          4,
          4,
          3,
          2,
          4,
          2,
          4,
          2,
          4,
          1,
          4,
          4,
          1,
          4,
          1,
          2,
          2,
          4,
          4,
          2,
          4,
          2,
          1,
          2,
          4,
          2,
          2,
          4,
          4,
          4,
          2,
          2,
          2,
          4,
          4,
          4,
          1,
          4,
          null,
          null,
          null,
          4,
          3,
          2,
          4,
          1,
          4,
          2,
          1,
          4,
          3,
          1,
          4,
          3,
          4,
          4,
          1,
          2,
          1,
          2,
          1,
          3,
          4,
          4,
          4,
          4,
          4,
          1,
          4,
          3,
          4,
          4,
          2,
          2,
          3,
          2,
          4,
          4,
          4,
          1,
          1,
          2,
          1,
          4,
          1,
          2,
          2,
          2,
          2,
          1,
          2,
          4,
          4,
          2,
          2,
          4,
          4,
          1,
          1,
          2,
          4,
          3,
          4,
          2,
          3,
          4,
          2,
          2,
          3,
          4,
          1,
          2,
          2,
          1,
          2,
          2,
          4,
          1,
          2,
          2,
          2,
          1,
          2,
          3,
          4,
          2,
          4,
          4,
          1,
          2,
          null,
          4,
          1,
          4,
          4,
          4,
          4,
          4,
          4,
          3,
          4,
          4,
          2,
          4,
          4,
          3,
          4,
          2,
          1,
          2,
          4,
          4,
          2,
          1,
          2,
          1,
          null,
          1,
          1,
          1,
          4,
          2,
          1,
          1,
          2,
          3,
          4,
          2,
          3,
          1,
          4,
          3,
          1,
          4,
          4,
          4,
          2,
          4,
          4,
          4,
          2,
          2,
          2,
          4,
          4,
          2,
          4,
          1,
          4,
          3,
          3,
          2,
          4,
          3,
          1,
          1,
          3,
          3,
          4,
          2,
          1,
          1,
          null,
          1,
          4,
          4,
          1,
          4,
          4,
          3,
          4,
          4,
          2,
          4,
          2,
          4,
          2,
          2,
          1,
          1,
          4,
          2,
          1,
          1,
          2,
          3,
          2,
          2,
          2,
          3,
          1,
          4,
          4,
          1,
          2,
          2,
          4,
          2,
          4,
          4,
          4,
          4,
          4,
          4,
          4,
          1,
          1,
          1,
          4,
          2,
          4,
          4,
          3,
          2,
          3,
          2,
          3,
          4,
          4,
          4,
          1,
          4,
          4,
          2,
          1,
          4,
          4,
          3,
          3,
          1,
          4,
          2,
          1,
          3,
          4,
          4,
          2,
          3,
          3,
          4,
          1,
          4,
          4,
          1,
          2,
          3,
          4,
          1,
          4,
          1,
          4,
          4,
          3,
          4,
          1,
          3,
          2,
          1,
          2,
          4,
          2,
          4,
          4,
          2,
          3,
          1,
          4,
          1,
          4,
          4,
          2,
          2,
          1,
          1,
          3,
          4,
          1,
          2,
          4,
          4,
          3,
          1,
          1,
          2,
          2,
          4,
          4,
          2,
          4,
          4,
          4,
          2,
          2,
          4,
          2,
          4,
          4,
          4,
          3
         ],
         "xaxis": "x",
         "xbingroup": "x",
         "y": [
          5,
          1,
          5,
          1,
          5,
          null,
          null,
          null,
          5,
          5,
          4,
          1,
          null,
          1,
          1,
          1,
          4,
          1,
          1,
          null,
          null,
          3,
          null,
          4,
          4,
          5,
          1,
          null,
          5,
          4,
          5,
          4,
          4,
          1,
          1,
          null,
          1,
          4,
          5,
          4,
          1,
          1,
          1,
          1,
          5,
          4,
          5,
          1,
          null,
          5,
          1,
          5,
          1,
          1,
          5,
          4,
          1,
          4,
          1,
          null,
          3,
          3,
          5,
          1,
          4,
          1,
          1,
          3,
          1,
          1,
          1,
          3,
          5,
          4,
          4,
          1,
          1,
          1,
          3,
          4,
          5,
          4,
          1,
          4,
          null,
          null,
          4,
          null,
          1,
          5,
          4,
          4,
          1,
          1,
          null,
          4,
          1,
          1,
          4,
          1,
          null,
          null,
          4,
          null,
          1,
          1,
          1,
          1,
          1,
          4,
          4,
          4,
          4,
          1,
          4,
          1,
          1,
          1,
          4,
          5,
          4,
          1,
          1,
          1,
          4,
          3,
          3,
          1,
          4,
          5,
          4,
          3,
          4,
          null,
          4,
          5,
          4,
          4,
          1,
          5,
          5,
          1,
          1,
          1,
          1,
          5,
          4,
          null,
          4,
          1,
          4,
          4,
          1,
          4,
          4,
          4,
          null,
          null,
          1,
          null,
          4,
          1,
          1,
          4,
          1,
          5,
          1,
          1,
          5,
          5,
          1,
          1,
          4,
          4,
          1,
          5,
          1,
          1,
          5,
          4,
          4,
          4,
          1,
          1,
          3,
          5,
          4,
          null,
          4,
          4,
          1,
          3,
          1,
          1,
          1,
          4,
          1,
          4,
          1,
          1,
          1,
          4,
          5,
          4,
          5,
          5,
          3,
          3,
          4,
          1,
          1,
          1,
          1,
          1,
          5,
          1,
          4,
          1,
          5,
          1,
          1,
          1,
          5,
          4,
          1,
          4,
          4,
          null,
          1,
          1,
          3,
          3,
          3,
          1,
          5,
          5,
          3,
          5,
          4,
          1,
          4,
          1,
          1,
          1,
          4,
          3,
          1,
          5,
          1,
          1,
          1,
          4,
          1,
          4,
          2,
          3,
          4,
          5,
          4,
          3,
          4,
          1,
          1,
          1,
          2,
          4,
          5,
          3,
          4,
          5,
          4,
          2,
          4,
          1,
          4,
          1,
          5,
          2,
          null,
          1,
          4,
          1,
          1,
          1,
          3,
          4,
          3,
          3,
          5,
          4,
          4,
          1,
          5,
          4,
          4,
          4,
          4,
          5,
          null,
          4,
          5,
          1,
          1,
          1,
          1,
          null,
          1,
          1,
          1,
          1,
          5,
          4,
          1,
          4,
          3,
          null,
          3,
          4,
          1,
          4,
          2,
          3,
          1,
          5,
          1,
          1,
          1,
          1,
          4,
          5,
          5,
          1,
          5,
          3,
          4,
          5,
          3,
          4,
          4,
          1,
          3,
          1,
          4,
          1,
          1,
          5,
          1,
          4,
          5,
          2,
          1,
          3,
          1,
          1,
          4,
          1,
          1,
          1,
          4,
          null,
          4,
          4,
          1,
          4,
          1,
          3,
          1,
          4,
          4,
          5,
          4,
          null,
          null,
          1,
          4,
          4,
          3,
          3,
          5,
          4,
          1,
          3,
          5,
          1,
          1,
          4,
          1,
          null,
          3,
          4,
          4,
          4,
          3,
          1,
          null,
          3,
          3,
          1,
          4,
          4,
          1,
          4,
          3,
          4,
          3,
          4,
          5,
          4,
          4,
          4,
          3,
          2,
          2,
          4,
          3,
          4,
          1,
          4,
          2,
          4,
          1,
          1,
          1,
          1,
          3,
          4,
          1,
          4,
          5,
          4,
          1,
          3,
          3,
          4,
          4,
          5,
          4,
          4,
          3,
          3,
          4,
          3,
          1,
          5,
          5,
          4,
          3,
          1,
          5,
          4,
          3,
          1,
          null,
          4,
          1,
          3,
          5,
          5,
          5,
          null,
          1,
          1,
          5,
          1,
          1,
          1,
          5,
          3,
          1,
          4,
          1,
          5,
          1,
          1,
          1,
          1,
          null,
          1,
          4,
          1,
          3,
          1,
          3,
          1,
          1,
          1,
          1,
          1,
          5,
          4,
          5,
          5,
          1,
          3,
          4,
          4,
          5,
          1,
          4,
          5,
          4,
          4,
          1,
          1,
          1,
          1,
          4,
          4,
          5,
          5,
          1,
          3,
          5,
          4,
          5,
          1,
          1,
          5,
          1,
          null,
          null,
          null,
          5,
          3,
          1,
          5,
          4,
          4,
          4,
          4,
          2,
          null,
          1,
          4,
          1,
          5,
          1,
          4,
          1,
          1,
          1,
          null,
          1,
          1,
          5,
          1,
          1,
          5,
          4,
          4,
          5,
          1,
          1,
          1,
          5,
          3,
          3,
          5,
          3,
          5,
          4,
          4,
          4,
          4,
          4,
          4,
          4,
          1,
          1,
          4,
          3,
          3,
          1,
          1,
          null,
          5,
          1,
          1,
          2,
          2,
          1,
          1,
          1,
          2,
          4,
          1,
          1,
          4,
          4,
          4,
          2,
          4,
          4,
          5,
          4,
          3,
          3,
          4,
          5,
          3,
          1,
          5,
          4,
          1,
          1,
          4,
          5,
          1,
          1,
          4,
          5,
          5,
          5,
          3,
          5,
          1,
          5,
          3,
          5,
          2,
          4,
          4,
          4,
          5,
          3,
          4,
          4,
          1,
          1,
          1,
          4,
          1,
          5,
          5,
          1,
          5,
          1,
          1,
          1,
          5,
          4,
          1,
          5,
          1,
          1,
          4,
          5,
          4,
          4,
          4,
          1,
          4,
          1,
          1,
          1,
          4,
          4,
          3,
          1,
          4,
          4,
          4,
          null,
          3,
          5,
          1,
          3,
          1,
          5,
          4,
          4,
          3,
          3,
          2,
          3,
          3,
          2,
          4,
          1,
          1,
          1,
          1,
          1,
          3,
          3,
          1,
          4,
          4,
          3,
          4,
          4,
          null,
          4,
          4,
          1,
          1,
          4,
          1,
          4,
          4,
          3,
          1,
          1,
          4,
          1,
          3,
          1,
          1,
          1,
          1,
          1,
          1,
          4,
          5,
          5,
          3,
          4,
          4,
          3,
          1,
          1,
          1,
          4,
          null,
          4,
          1,
          4,
          4,
          1,
          1,
          1,
          4,
          1,
          1,
          1,
          1,
          1,
          4,
          4,
          1,
          4,
          1,
          1,
          1,
          1,
          null,
          4,
          1,
          3,
          4,
          1,
          1,
          4,
          4,
          1,
          4,
          4,
          4,
          5,
          3,
          4,
          3,
          3,
          3,
          1,
          3,
          3,
          3,
          5,
          4,
          1,
          1,
          3,
          4,
          4,
          1,
          1,
          1,
          4,
          1,
          1,
          1,
          5,
          1,
          1,
          1,
          1,
          3,
          4,
          1,
          4,
          1,
          3,
          4,
          1,
          4,
          4,
          4,
          1,
          3,
          3,
          4,
          1,
          1,
          3,
          4,
          4,
          1,
          4,
          4,
          5,
          4,
          2,
          1,
          4,
          2,
          4,
          1,
          1,
          null,
          3,
          1,
          1,
          1,
          3,
          1,
          4,
          3,
          1,
          5,
          4,
          3,
          3,
          4,
          1,
          5,
          1,
          4,
          2,
          1,
          1,
          1,
          4,
          1,
          1,
          1,
          1,
          1,
          1,
          1,
          1,
          1,
          1,
          5,
          4,
          1,
          4,
          1,
          4,
          5,
          5,
          4,
          3,
          2,
          4,
          4,
          4,
          1,
          1,
          1,
          5,
          1,
          4,
          5,
          3,
          1,
          1,
          4,
          2,
          4,
          5,
          4,
          1,
          4,
          4,
          4,
          1,
          5,
          3,
          3,
          2,
          1,
          4,
          4,
          1,
          3,
          5,
          3,
          1,
          4,
          4,
          4,
          1,
          4,
          5,
          1,
          1,
          3,
          5,
          1,
          5,
          1,
          5,
          4,
          1,
          5,
          1,
          4,
          4,
          1,
          1,
          4,
          1,
          3,
          4,
          1,
          2,
          1,
          3,
          1,
          3,
          3,
          1,
          1,
          1,
          1,
          3,
          4,
          1,
          4,
          4,
          3,
          4,
          1,
          4,
          1,
          4,
          5,
          4,
          1,
          4,
          5,
          4,
          4,
          1,
          4,
          1,
          5,
          5,
          5,
          3
         ],
         "yaxis": "y",
         "ybingroup": "y"
        }
       ],
       "layout": {
        "coloraxis": {
         "colorbar": {
          "title": {
           "text": "count"
          }
         },
         "colorscale": [
          [
           0,
           "#0d0887"
          ],
          [
           0.1111111111111111,
           "#46039f"
          ],
          [
           0.2222222222222222,
           "#7201a8"
          ],
          [
           0.3333333333333333,
           "#9c179e"
          ],
          [
           0.4444444444444444,
           "#bd3786"
          ],
          [
           0.5555555555555556,
           "#d8576b"
          ],
          [
           0.6666666666666666,
           "#ed7953"
          ],
          [
           0.7777777777777778,
           "#fb9f3a"
          ],
          [
           0.8888888888888888,
           "#fdca26"
          ],
          [
           1,
           "#f0f921"
          ]
         ]
        },
        "legend": {
         "tracegroupgap": 0
        },
        "template": {
         "data": {
          "bar": [
           {
            "error_x": {
             "color": "#2a3f5f"
            },
            "error_y": {
             "color": "#2a3f5f"
            },
            "marker": {
             "line": {
              "color": "#E5ECF6",
              "width": 0.5
             },
             "pattern": {
              "fillmode": "overlay",
              "size": 10,
              "solidity": 0.2
             }
            },
            "type": "bar"
           }
          ],
          "barpolar": [
           {
            "marker": {
             "line": {
              "color": "#E5ECF6",
              "width": 0.5
             },
             "pattern": {
              "fillmode": "overlay",
              "size": 10,
              "solidity": 0.2
             }
            },
            "type": "barpolar"
           }
          ],
          "carpet": [
           {
            "aaxis": {
             "endlinecolor": "#2a3f5f",
             "gridcolor": "white",
             "linecolor": "white",
             "minorgridcolor": "white",
             "startlinecolor": "#2a3f5f"
            },
            "baxis": {
             "endlinecolor": "#2a3f5f",
             "gridcolor": "white",
             "linecolor": "white",
             "minorgridcolor": "white",
             "startlinecolor": "#2a3f5f"
            },
            "type": "carpet"
           }
          ],
          "choropleth": [
           {
            "colorbar": {
             "outlinewidth": 0,
             "ticks": ""
            },
            "type": "choropleth"
           }
          ],
          "contour": [
           {
            "colorbar": {
             "outlinewidth": 0,
             "ticks": ""
            },
            "colorscale": [
             [
              0,
              "#0d0887"
             ],
             [
              0.1111111111111111,
              "#46039f"
             ],
             [
              0.2222222222222222,
              "#7201a8"
             ],
             [
              0.3333333333333333,
              "#9c179e"
             ],
             [
              0.4444444444444444,
              "#bd3786"
             ],
             [
              0.5555555555555556,
              "#d8576b"
             ],
             [
              0.6666666666666666,
              "#ed7953"
             ],
             [
              0.7777777777777778,
              "#fb9f3a"
             ],
             [
              0.8888888888888888,
              "#fdca26"
             ],
             [
              1,
              "#f0f921"
             ]
            ],
            "type": "contour"
           }
          ],
          "contourcarpet": [
           {
            "colorbar": {
             "outlinewidth": 0,
             "ticks": ""
            },
            "type": "contourcarpet"
           }
          ],
          "heatmap": [
           {
            "colorbar": {
             "outlinewidth": 0,
             "ticks": ""
            },
            "colorscale": [
             [
              0,
              "#0d0887"
             ],
             [
              0.1111111111111111,
              "#46039f"
             ],
             [
              0.2222222222222222,
              "#7201a8"
             ],
             [
              0.3333333333333333,
              "#9c179e"
             ],
             [
              0.4444444444444444,
              "#bd3786"
             ],
             [
              0.5555555555555556,
              "#d8576b"
             ],
             [
              0.6666666666666666,
              "#ed7953"
             ],
             [
              0.7777777777777778,
              "#fb9f3a"
             ],
             [
              0.8888888888888888,
              "#fdca26"
             ],
             [
              1,
              "#f0f921"
             ]
            ],
            "type": "heatmap"
           }
          ],
          "heatmapgl": [
           {
            "colorbar": {
             "outlinewidth": 0,
             "ticks": ""
            },
            "colorscale": [
             [
              0,
              "#0d0887"
             ],
             [
              0.1111111111111111,
              "#46039f"
             ],
             [
              0.2222222222222222,
              "#7201a8"
             ],
             [
              0.3333333333333333,
              "#9c179e"
             ],
             [
              0.4444444444444444,
              "#bd3786"
             ],
             [
              0.5555555555555556,
              "#d8576b"
             ],
             [
              0.6666666666666666,
              "#ed7953"
             ],
             [
              0.7777777777777778,
              "#fb9f3a"
             ],
             [
              0.8888888888888888,
              "#fdca26"
             ],
             [
              1,
              "#f0f921"
             ]
            ],
            "type": "heatmapgl"
           }
          ],
          "histogram": [
           {
            "marker": {
             "pattern": {
              "fillmode": "overlay",
              "size": 10,
              "solidity": 0.2
             }
            },
            "type": "histogram"
           }
          ],
          "histogram2d": [
           {
            "colorbar": {
             "outlinewidth": 0,
             "ticks": ""
            },
            "colorscale": [
             [
              0,
              "#0d0887"
             ],
             [
              0.1111111111111111,
              "#46039f"
             ],
             [
              0.2222222222222222,
              "#7201a8"
             ],
             [
              0.3333333333333333,
              "#9c179e"
             ],
             [
              0.4444444444444444,
              "#bd3786"
             ],
             [
              0.5555555555555556,
              "#d8576b"
             ],
             [
              0.6666666666666666,
              "#ed7953"
             ],
             [
              0.7777777777777778,
              "#fb9f3a"
             ],
             [
              0.8888888888888888,
              "#fdca26"
             ],
             [
              1,
              "#f0f921"
             ]
            ],
            "type": "histogram2d"
           }
          ],
          "histogram2dcontour": [
           {
            "colorbar": {
             "outlinewidth": 0,
             "ticks": ""
            },
            "colorscale": [
             [
              0,
              "#0d0887"
             ],
             [
              0.1111111111111111,
              "#46039f"
             ],
             [
              0.2222222222222222,
              "#7201a8"
             ],
             [
              0.3333333333333333,
              "#9c179e"
             ],
             [
              0.4444444444444444,
              "#bd3786"
             ],
             [
              0.5555555555555556,
              "#d8576b"
             ],
             [
              0.6666666666666666,
              "#ed7953"
             ],
             [
              0.7777777777777778,
              "#fb9f3a"
             ],
             [
              0.8888888888888888,
              "#fdca26"
             ],
             [
              1,
              "#f0f921"
             ]
            ],
            "type": "histogram2dcontour"
           }
          ],
          "mesh3d": [
           {
            "colorbar": {
             "outlinewidth": 0,
             "ticks": ""
            },
            "type": "mesh3d"
           }
          ],
          "parcoords": [
           {
            "line": {
             "colorbar": {
              "outlinewidth": 0,
              "ticks": ""
             }
            },
            "type": "parcoords"
           }
          ],
          "pie": [
           {
            "automargin": true,
            "type": "pie"
           }
          ],
          "scatter": [
           {
            "fillpattern": {
             "fillmode": "overlay",
             "size": 10,
             "solidity": 0.2
            },
            "type": "scatter"
           }
          ],
          "scatter3d": [
           {
            "line": {
             "colorbar": {
              "outlinewidth": 0,
              "ticks": ""
             }
            },
            "marker": {
             "colorbar": {
              "outlinewidth": 0,
              "ticks": ""
             }
            },
            "type": "scatter3d"
           }
          ],
          "scattercarpet": [
           {
            "marker": {
             "colorbar": {
              "outlinewidth": 0,
              "ticks": ""
             }
            },
            "type": "scattercarpet"
           }
          ],
          "scattergeo": [
           {
            "marker": {
             "colorbar": {
              "outlinewidth": 0,
              "ticks": ""
             }
            },
            "type": "scattergeo"
           }
          ],
          "scattergl": [
           {
            "marker": {
             "colorbar": {
              "outlinewidth": 0,
              "ticks": ""
             }
            },
            "type": "scattergl"
           }
          ],
          "scattermapbox": [
           {
            "marker": {
             "colorbar": {
              "outlinewidth": 0,
              "ticks": ""
             }
            },
            "type": "scattermapbox"
           }
          ],
          "scatterpolar": [
           {
            "marker": {
             "colorbar": {
              "outlinewidth": 0,
              "ticks": ""
             }
            },
            "type": "scatterpolar"
           }
          ],
          "scatterpolargl": [
           {
            "marker": {
             "colorbar": {
              "outlinewidth": 0,
              "ticks": ""
             }
            },
            "type": "scatterpolargl"
           }
          ],
          "scatterternary": [
           {
            "marker": {
             "colorbar": {
              "outlinewidth": 0,
              "ticks": ""
             }
            },
            "type": "scatterternary"
           }
          ],
          "surface": [
           {
            "colorbar": {
             "outlinewidth": 0,
             "ticks": ""
            },
            "colorscale": [
             [
              0,
              "#0d0887"
             ],
             [
              0.1111111111111111,
              "#46039f"
             ],
             [
              0.2222222222222222,
              "#7201a8"
             ],
             [
              0.3333333333333333,
              "#9c179e"
             ],
             [
              0.4444444444444444,
              "#bd3786"
             ],
             [
              0.5555555555555556,
              "#d8576b"
             ],
             [
              0.6666666666666666,
              "#ed7953"
             ],
             [
              0.7777777777777778,
              "#fb9f3a"
             ],
             [
              0.8888888888888888,
              "#fdca26"
             ],
             [
              1,
              "#f0f921"
             ]
            ],
            "type": "surface"
           }
          ],
          "table": [
           {
            "cells": {
             "fill": {
              "color": "#EBF0F8"
             },
             "line": {
              "color": "white"
             }
            },
            "header": {
             "fill": {
              "color": "#C8D4E3"
             },
             "line": {
              "color": "white"
             }
            },
            "type": "table"
           }
          ]
         },
         "layout": {
          "annotationdefaults": {
           "arrowcolor": "#2a3f5f",
           "arrowhead": 0,
           "arrowwidth": 1
          },
          "autotypenumbers": "strict",
          "coloraxis": {
           "colorbar": {
            "outlinewidth": 0,
            "ticks": ""
           }
          },
          "colorscale": {
           "diverging": [
            [
             0,
             "#8e0152"
            ],
            [
             0.1,
             "#c51b7d"
            ],
            [
             0.2,
             "#de77ae"
            ],
            [
             0.3,
             "#f1b6da"
            ],
            [
             0.4,
             "#fde0ef"
            ],
            [
             0.5,
             "#f7f7f7"
            ],
            [
             0.6,
             "#e6f5d0"
            ],
            [
             0.7,
             "#b8e186"
            ],
            [
             0.8,
             "#7fbc41"
            ],
            [
             0.9,
             "#4d9221"
            ],
            [
             1,
             "#276419"
            ]
           ],
           "sequential": [
            [
             0,
             "#0d0887"
            ],
            [
             0.1111111111111111,
             "#46039f"
            ],
            [
             0.2222222222222222,
             "#7201a8"
            ],
            [
             0.3333333333333333,
             "#9c179e"
            ],
            [
             0.4444444444444444,
             "#bd3786"
            ],
            [
             0.5555555555555556,
             "#d8576b"
            ],
            [
             0.6666666666666666,
             "#ed7953"
            ],
            [
             0.7777777777777778,
             "#fb9f3a"
            ],
            [
             0.8888888888888888,
             "#fdca26"
            ],
            [
             1,
             "#f0f921"
            ]
           ],
           "sequentialminus": [
            [
             0,
             "#0d0887"
            ],
            [
             0.1111111111111111,
             "#46039f"
            ],
            [
             0.2222222222222222,
             "#7201a8"
            ],
            [
             0.3333333333333333,
             "#9c179e"
            ],
            [
             0.4444444444444444,
             "#bd3786"
            ],
            [
             0.5555555555555556,
             "#d8576b"
            ],
            [
             0.6666666666666666,
             "#ed7953"
            ],
            [
             0.7777777777777778,
             "#fb9f3a"
            ],
            [
             0.8888888888888888,
             "#fdca26"
            ],
            [
             1,
             "#f0f921"
            ]
           ]
          },
          "colorway": [
           "#636efa",
           "#EF553B",
           "#00cc96",
           "#ab63fa",
           "#FFA15A",
           "#19d3f3",
           "#FF6692",
           "#B6E880",
           "#FF97FF",
           "#FECB52"
          ],
          "font": {
           "color": "#2a3f5f"
          },
          "geo": {
           "bgcolor": "white",
           "lakecolor": "white",
           "landcolor": "#E5ECF6",
           "showlakes": true,
           "showland": true,
           "subunitcolor": "white"
          },
          "hoverlabel": {
           "align": "left"
          },
          "hovermode": "closest",
          "mapbox": {
           "style": "light"
          },
          "paper_bgcolor": "white",
          "plot_bgcolor": "#E5ECF6",
          "polar": {
           "angularaxis": {
            "gridcolor": "white",
            "linecolor": "white",
            "ticks": ""
           },
           "bgcolor": "#E5ECF6",
           "radialaxis": {
            "gridcolor": "white",
            "linecolor": "white",
            "ticks": ""
           }
          },
          "scene": {
           "xaxis": {
            "backgroundcolor": "#E5ECF6",
            "gridcolor": "white",
            "gridwidth": 2,
            "linecolor": "white",
            "showbackground": true,
            "ticks": "",
            "zerolinecolor": "white"
           },
           "yaxis": {
            "backgroundcolor": "#E5ECF6",
            "gridcolor": "white",
            "gridwidth": 2,
            "linecolor": "white",
            "showbackground": true,
            "ticks": "",
            "zerolinecolor": "white"
           },
           "zaxis": {
            "backgroundcolor": "#E5ECF6",
            "gridcolor": "white",
            "gridwidth": 2,
            "linecolor": "white",
            "showbackground": true,
            "ticks": "",
            "zerolinecolor": "white"
           }
          },
          "shapedefaults": {
           "line": {
            "color": "#2a3f5f"
           }
          },
          "ternary": {
           "aaxis": {
            "gridcolor": "white",
            "linecolor": "white",
            "ticks": ""
           },
           "baxis": {
            "gridcolor": "white",
            "linecolor": "white",
            "ticks": ""
           },
           "bgcolor": "#E5ECF6",
           "caxis": {
            "gridcolor": "white",
            "linecolor": "white",
            "ticks": ""
           }
          },
          "title": {
           "x": 0.05
          },
          "xaxis": {
           "automargin": true,
           "gridcolor": "white",
           "linecolor": "white",
           "ticks": "",
           "title": {
            "standoff": 15
           },
           "zerolinecolor": "white",
           "zerolinewidth": 2
          },
          "yaxis": {
           "automargin": true,
           "gridcolor": "white",
           "linecolor": "white",
           "ticks": "",
           "title": {
            "standoff": 15
           },
           "zerolinecolor": "white",
           "zerolinewidth": 2
          }
         }
        },
        "title": {
         "text": "Shape/Margin Heatmap"
        },
        "xaxis": {
         "anchor": "y",
         "domain": [
          0,
          1
         ],
         "title": {
          "text": "Shape"
         }
        },
        "yaxis": {
         "anchor": "x",
         "domain": [
          0,
          1
         ],
         "title": {
          "text": "Margin"
         }
        }
       }
      }
     },
     "metadata": {},
     "output_type": "display_data"
    }
   ],
   "source": [
    "# fifth visualization, heatmap\n",
    "# show the correlation between shape and margin\n",
    "shapemargin = px.density_heatmap(df, x=\"Shape\", y=\"Margin\", title='Shape/Margin Heatmap')\n",
    "shapemargin"
   ]
  },
  {
   "cell_type": "markdown",
   "id": "fb610fbd-14e0-4465-921c-97e29346ff3d",
   "metadata": {
    "jp-MarkdownHeadingCollapsed": true
   },
   "source": [
    "# Task 3\n",
    "preprocessing with data transformation"
   ]
  },
  {
   "cell_type": "markdown",
   "id": "676c2f04-7cac-452b-9247-02d2ea3867c4",
   "metadata": {
    "jp-MarkdownHeadingCollapsed": true
   },
   "source": [
    "## 3.1 data cleaning\n",
    "Goal: clean the dataset from missing value  \n",
    "Reason: from task2, we observe there are some missing value. To reducess data inaccuracy, aviod inconsistent predictions, and enhances data interpretability, we need to clean those data.  \n",
    "Method: since there are many data point in this dataset, we delete the row (point) as long as there is missing value (NaN) present.  "
   ]
  },
  {
   "cell_type": "code",
   "execution_count": 14,
   "id": "87045d18-c163-481e-b4a0-b292ec035fe7",
   "metadata": {},
   "outputs": [
    {
     "data": {
      "text/html": [
       "<div>\n",
       "<style scoped>\n",
       "    .dataframe tbody tr th:only-of-type {\n",
       "        vertical-align: middle;\n",
       "    }\n",
       "\n",
       "    .dataframe tbody tr th {\n",
       "        vertical-align: top;\n",
       "    }\n",
       "\n",
       "    .dataframe thead th {\n",
       "        text-align: right;\n",
       "    }\n",
       "</style>\n",
       "<table border=\"1\" class=\"dataframe\">\n",
       "  <thead>\n",
       "    <tr style=\"text-align: right;\">\n",
       "      <th></th>\n",
       "      <th>BA</th>\n",
       "      <th>Age</th>\n",
       "      <th>Shape</th>\n",
       "      <th>Margin</th>\n",
       "      <th>Density</th>\n",
       "      <th>Severity</th>\n",
       "    </tr>\n",
       "  </thead>\n",
       "  <tbody>\n",
       "    <tr>\n",
       "      <th>count</th>\n",
       "      <td>830.000000</td>\n",
       "      <td>830.000000</td>\n",
       "      <td>830.000000</td>\n",
       "      <td>830.000000</td>\n",
       "      <td>830.000000</td>\n",
       "      <td>830.000000</td>\n",
       "    </tr>\n",
       "    <tr>\n",
       "      <th>mean</th>\n",
       "      <td>4.338554</td>\n",
       "      <td>55.781928</td>\n",
       "      <td>2.781928</td>\n",
       "      <td>2.813253</td>\n",
       "      <td>2.915663</td>\n",
       "      <td>0.485542</td>\n",
       "    </tr>\n",
       "    <tr>\n",
       "      <th>std</th>\n",
       "      <td>0.660689</td>\n",
       "      <td>14.671782</td>\n",
       "      <td>1.242361</td>\n",
       "      <td>1.567175</td>\n",
       "      <td>0.350936</td>\n",
       "      <td>0.500092</td>\n",
       "    </tr>\n",
       "    <tr>\n",
       "      <th>min</th>\n",
       "      <td>0.000000</td>\n",
       "      <td>18.000000</td>\n",
       "      <td>1.000000</td>\n",
       "      <td>1.000000</td>\n",
       "      <td>1.000000</td>\n",
       "      <td>0.000000</td>\n",
       "    </tr>\n",
       "    <tr>\n",
       "      <th>25%</th>\n",
       "      <td>4.000000</td>\n",
       "      <td>46.000000</td>\n",
       "      <td>2.000000</td>\n",
       "      <td>1.000000</td>\n",
       "      <td>3.000000</td>\n",
       "      <td>0.000000</td>\n",
       "    </tr>\n",
       "    <tr>\n",
       "      <th>50%</th>\n",
       "      <td>4.000000</td>\n",
       "      <td>57.000000</td>\n",
       "      <td>3.000000</td>\n",
       "      <td>3.000000</td>\n",
       "      <td>3.000000</td>\n",
       "      <td>0.000000</td>\n",
       "    </tr>\n",
       "    <tr>\n",
       "      <th>75%</th>\n",
       "      <td>5.000000</td>\n",
       "      <td>66.000000</td>\n",
       "      <td>4.000000</td>\n",
       "      <td>4.000000</td>\n",
       "      <td>3.000000</td>\n",
       "      <td>1.000000</td>\n",
       "    </tr>\n",
       "    <tr>\n",
       "      <th>max</th>\n",
       "      <td>6.000000</td>\n",
       "      <td>96.000000</td>\n",
       "      <td>4.000000</td>\n",
       "      <td>5.000000</td>\n",
       "      <td>4.000000</td>\n",
       "      <td>1.000000</td>\n",
       "    </tr>\n",
       "  </tbody>\n",
       "</table>\n",
       "</div>"
      ],
      "text/plain": [
       "               BA         Age       Shape      Margin     Density    Severity\n",
       "count  830.000000  830.000000  830.000000  830.000000  830.000000  830.000000\n",
       "mean     4.338554   55.781928    2.781928    2.813253    2.915663    0.485542\n",
       "std      0.660689   14.671782    1.242361    1.567175    0.350936    0.500092\n",
       "min      0.000000   18.000000    1.000000    1.000000    1.000000    0.000000\n",
       "25%      4.000000   46.000000    2.000000    1.000000    3.000000    0.000000\n",
       "50%      4.000000   57.000000    3.000000    3.000000    3.000000    0.000000\n",
       "75%      5.000000   66.000000    4.000000    4.000000    3.000000    1.000000\n",
       "max      6.000000   96.000000    4.000000    5.000000    4.000000    1.000000"
      ]
     },
     "execution_count": 14,
     "metadata": {},
     "output_type": "execute_result"
    }
   ],
   "source": [
    "# drop the row (axis=0) if any NA values are present\n",
    "# the cleaned dataset called cleaned_df\n",
    "df = df.copy()\n",
    "cleaned_df = df.dropna(axis=0, how='any')\n",
    "# present the differnt of cleaned dataset\n",
    "cleaned_df.describe()\n",
    "## observation1: all the variables have the same count\n",
    "## observation2: summary statistics is difference from task2"
   ]
  },
  {
   "cell_type": "code",
   "execution_count": 15,
   "id": "b7cd0a53-31dc-4d52-a284-ee8aa6d9d9ce",
   "metadata": {},
   "outputs": [
    {
     "data": {
      "image/png": "[encoded data removed]",
      "text/plain": [
       "<Figure size 600x400 with 1 Axes>"
      ]
     },
     "metadata": {},
     "output_type": "display_data"
    }
   ],
   "source": [
    "## visualize the change in count\n",
    "# Bar plot of counts to compare original and cleaned dataset sizes\n",
    "df_count = len(df)\n",
    "cleaned_df_count = len(cleaned_df)\n",
    "\n",
    "# Bar plot showing count comparison\n",
    "plt.figure(figsize=(6, 4))\n",
    "plt.bar(['Original Dataset', 'Cleaned Dataset'], \n",
    "        [df_count, cleaned_df_count], \n",
    "        color=['lightblue', 'lightgreen'])\n",
    "plt.ylabel('Count of Records')\n",
    "plt.title('Record Count: Original vs Cleaned Dataset')\n",
    "plt.show()"
   ]
  },
  {
   "cell_type": "code",
   "execution_count": 16,
   "id": "aa7355d0-9a2f-4047-829c-7265fae97a90",
   "metadata": {},
   "outputs": [
    {
     "data": {
      "image/png": "[encoded data removed]",
      "text/plain": [
       "<Figure size 640x480 with 2 Axes>"
      ]
     },
     "metadata": {},
     "output_type": "display_data"
    }
   ],
   "source": [
    "## visualize the removed point\n",
    "# the orginial dataset, on the left\n",
    "plt.subplot(1,2,1)  \n",
    "plt.scatter(df['Age'], df['Density'], \n",
    "            color='lightblue',label='Original')\n",
    "plt.xlabel('Age')\n",
    "plt.ylabel('Density')\n",
    "plt.title('Original: Age vs Density')\n",
    "\n",
    "# the cleaned dataset, on the right\n",
    "plt.subplot(1, 2, 2)\n",
    "plt.scatter(cleaned_df['Age'], cleaned_df['Density'], \n",
    "            color='lightgreen', label='Cleaned')\n",
    "plt.xlabel('Age')\n",
    "plt.ylabel('Density')\n",
    "plt.title('Cleaned: Age vs Density')\n",
    "\n",
    "plt.tight_layout()\n",
    "plt.show()"
   ]
  },
  {
   "cell_type": "markdown",
   "id": "84b85cc1-ee4b-4686-a004-71e6490ebcf9",
   "metadata": {
    "jp-MarkdownHeadingCollapsed": true
   },
   "source": [
    "## 3.2 Normalization  \n",
    "Normalization here makes sense before we feed the data to the computer, as machine learning functions can buidl models better "
   ]
  },
  {
   "cell_type": "code",
   "execution_count": 17,
   "id": "88e1d927-bcb5-496c-a7fd-d6b414670646",
   "metadata": {},
   "outputs": [
    {
     "name": "stdout",
     "output_type": "stream",
     "text": [
      "0      0.628205\n",
      "2      0.512821\n",
      "3      0.128205\n",
      "8      0.500000\n",
      "10     0.743590\n",
      "         ...   \n",
      "956    0.371795\n",
      "957    0.487179\n",
      "958    0.589744\n",
      "959    0.615385\n",
      "960    0.564103\n",
      "Name: Age, Length: 830, dtype: float64\n"
     ]
    }
   ],
   "source": [
    "# set the linear normalization function\n",
    "def normalize(col = cleaned_df['Age']):\n",
    "    reslut = col.copy()\n",
    "    max_value = col.max()\n",
    "    min_value = col.min()\n",
    "    reslut = (col - min_value) / (max_value - min_value)\n",
    "    return reslut\n",
    "    \n",
    "# apply the function to normalized the age variable\n",
    "cleaned_df = cleaned_df.copy()\n",
    "normalize_Age = normalize(col = cleaned_df['Age'])\n",
    "print(normalize_Age)\n",
    "\n",
    "## create another table that age is in normalized form\n",
    "cleaned_normalize = cleaned_df.copy()\n",
    "cleaned_normalize[\"Age\"] = normalize_Age "
   ]
  },
  {
   "cell_type": "code",
   "execution_count": 18,
   "id": "269dd500-f9e3-42d4-9522-f69dc36bcc53",
   "metadata": {},
   "outputs": [
    {
     "data": {
      "image/png": "[encoded data removed]",
      "text/plain": [
       "<Figure size 640x480 with 2 Axes>"
      ]
     },
     "metadata": {},
     "output_type": "display_data"
    }
   ],
   "source": [
    "# only normanized the Age, range of Age become between 0-1\n",
    "# orginal age on the left\n",
    "plt.subplot(1,2,1) \n",
    "plt.boxplot(cleaned_df['Age'])\n",
    "plt.title('Boxplot of Orginial Age')\n",
    "plt.ylabel('Age')\n",
    "\n",
    "# the normalized age on the right\n",
    "plt.subplot(1,2,2) \n",
    "plt.boxplot(cleaned_normalize[\"Age\"] )\n",
    "plt.title('Boxplot of Normalized Age')\n",
    "plt.ylabel('Normalized Age')\n",
    "\n",
    "plt.tight_layout()\n",
    "plt.show()\n",
    "\n",
    "## The distribution of age does not change. The only difference is the range"
   ]
  },
  {
   "cell_type": "code",
   "execution_count": 19,
   "id": "96277142-92dd-4c19-a2df-680368173ac9",
   "metadata": {},
   "outputs": [
    {
     "data": {
      "image/png": "[encoded data removed]",
      "text/plain": [
       "<Figure size 640x480 with 2 Axes>"
      ]
     },
     "metadata": {},
     "output_type": "display_data"
    }
   ],
   "source": [
    "# visualize the distribution in 2-dimension\n",
    "# left is the clean dataset, Age vs Density\n",
    "plt.subplot(1,2,1)  \n",
    "plt.scatter(cleaned_df['Age'], cleaned_df['Density'], \n",
    "            color='lightgreen', label='Cleaned')\n",
    "plt.xlabel('Age')\n",
    "plt.ylabel('Density')\n",
    "plt.title('Non-normalized Age vs Density')\n",
    "# right is the clean dataset, normalized Age vs Density\n",
    "plt.subplot(1,2,2) \n",
    "plot  = plt.scatter(cleaned_normalize[\"Age\"] , cleaned_normalize['Density'])\n",
    "plt.xlabel('Age')\n",
    "plt.ylabel('Density')\n",
    "plt.title('Normalized Age vs Density')\n",
    "\n",
    "plt.tight_layout()\n",
    "plt.show()\n",
    "\n",
    "## the distribution do not change\n",
    "## only different is the range of the age"
   ]
  },
  {
   "cell_type": "markdown",
   "id": "c2d0daf5-fcd2-4530-8121-516a5369800d",
   "metadata": {},
   "source": [
    "# Task 4: Feature engineering"
   ]
  },
  {
   "cell_type": "markdown",
   "id": "77f8a0f7-fac3-443c-b086-ebc49a544cd8",
   "metadata": {
    "jp-MarkdownHeadingCollapsed": true
   },
   "source": [
    "## 4.1 automatic feature"
   ]
  },
  {
   "cell_type": "code",
   "execution_count": 20,
   "id": "ce6ccb08-1728-4c7f-b72a-cfcb1ff97d73",
   "metadata": {},
   "outputs": [
    {
     "data": {
      "application/vnd.plotly.v1+json": {
       "config": {
        "plotlyServerURL": "https://plot.ly"
       },
       "data": [
        {
         "alignmentgroup": "True",
         "hovertemplate": "Importance Score=%{x}<br>Features=%{y}<extra></extra>",
         "legendgroup": "",
         "marker": {
          "color": "#636efa",
          "pattern": {
           "shape": ""
          }
         },
         "name": "",
         "offsetgroup": "",
         "orientation": "h",
         "showlegend": false,
         "textposition": "auto",
         "type": "bar",
         "x": [
          0.3175476376256845,
          0.2999822566512673,
          0.1527780897017379,
          0.19561021972869963,
          0.034081796292610725
         ],
         "xaxis": "x",
         "y": [
          "BA",
          "Age",
          "Shape",
          "Margin",
          "Density"
         ],
         "yaxis": "y"
        }
       ],
       "layout": {
        "barmode": "relative",
        "legend": {
         "tracegroupgap": 0
        },
        "template": {
         "data": {
          "bar": [
           {
            "error_x": {
             "color": "#2a3f5f"
            },
            "error_y": {
             "color": "#2a3f5f"
            },
            "marker": {
             "line": {
              "color": "#E5ECF6",
              "width": 0.5
             },
             "pattern": {
              "fillmode": "overlay",
              "size": 10,
              "solidity": 0.2
             }
            },
            "type": "bar"
           }
          ],
          "barpolar": [
           {
            "marker": {
             "line": {
              "color": "#E5ECF6",
              "width": 0.5
             },
             "pattern": {
              "fillmode": "overlay",
              "size": 10,
              "solidity": 0.2
             }
            },
            "type": "barpolar"
           }
          ],
          "carpet": [
           {
            "aaxis": {
             "endlinecolor": "#2a3f5f",
             "gridcolor": "white",
             "linecolor": "white",
             "minorgridcolor": "white",
             "startlinecolor": "#2a3f5f"
            },
            "baxis": {
             "endlinecolor": "#2a3f5f",
             "gridcolor": "white",
             "linecolor": "white",
             "minorgridcolor": "white",
             "startlinecolor": "#2a3f5f"
            },
            "type": "carpet"
           }
          ],
          "choropleth": [
           {
            "colorbar": {
             "outlinewidth": 0,
             "ticks": ""
            },
            "type": "choropleth"
           }
          ],
          "contour": [
           {
            "colorbar": {
             "outlinewidth": 0,
             "ticks": ""
            },
            "colorscale": [
             [
              0,
              "#0d0887"
             ],
             [
              0.1111111111111111,
              "#46039f"
             ],
             [
              0.2222222222222222,
              "#7201a8"
             ],
             [
              0.3333333333333333,
              "#9c179e"
             ],
             [
              0.4444444444444444,
              "#bd3786"
             ],
             [
              0.5555555555555556,
              "#d8576b"
             ],
             [
              0.6666666666666666,
              "#ed7953"
             ],
             [
              0.7777777777777778,
              "#fb9f3a"
             ],
             [
              0.8888888888888888,
              "#fdca26"
             ],
             [
              1,
              "#f0f921"
             ]
            ],
            "type": "contour"
           }
          ],
          "contourcarpet": [
           {
            "colorbar": {
             "outlinewidth": 0,
             "ticks": ""
            },
            "type": "contourcarpet"
           }
          ],
          "heatmap": [
           {
            "colorbar": {
             "outlinewidth": 0,
             "ticks": ""
            },
            "colorscale": [
             [
              0,
              "#0d0887"
             ],
             [
              0.1111111111111111,
              "#46039f"
             ],
             [
              0.2222222222222222,
              "#7201a8"
             ],
             [
              0.3333333333333333,
              "#9c179e"
             ],
             [
              0.4444444444444444,
              "#bd3786"
             ],
             [
              0.5555555555555556,
              "#d8576b"
             ],
             [
              0.6666666666666666,
              "#ed7953"
             ],
             [
              0.7777777777777778,
              "#fb9f3a"
             ],
             [
              0.8888888888888888,
              "#fdca26"
             ],
             [
              1,
              "#f0f921"
             ]
            ],
            "type": "heatmap"
           }
          ],
          "heatmapgl": [
           {
            "colorbar": {
             "outlinewidth": 0,
             "ticks": ""
            },
            "colorscale": [
             [
              0,
              "#0d0887"
             ],
             [
              0.1111111111111111,
              "#46039f"
             ],
             [
              0.2222222222222222,
              "#7201a8"
             ],
             [
              0.3333333333333333,
              "#9c179e"
             ],
             [
              0.4444444444444444,
              "#bd3786"
             ],
             [
              0.5555555555555556,
              "#d8576b"
             ],
             [
              0.6666666666666666,
              "#ed7953"
             ],
             [
              0.7777777777777778,
              "#fb9f3a"
             ],
             [
              0.8888888888888888,
              "#fdca26"
             ],
             [
              1,
              "#f0f921"
             ]
            ],
            "type": "heatmapgl"
           }
          ],
          "histogram": [
           {
            "marker": {
             "pattern": {
              "fillmode": "overlay",
              "size": 10,
              "solidity": 0.2
             }
            },
            "type": "histogram"
           }
          ],
          "histogram2d": [
           {
            "colorbar": {
             "outlinewidth": 0,
             "ticks": ""
            },
            "colorscale": [
             [
              0,
              "#0d0887"
             ],
             [
              0.1111111111111111,
              "#46039f"
             ],
             [
              0.2222222222222222,
              "#7201a8"
             ],
             [
              0.3333333333333333,
              "#9c179e"
             ],
             [
              0.4444444444444444,
              "#bd3786"
             ],
             [
              0.5555555555555556,
              "#d8576b"
             ],
             [
              0.6666666666666666,
              "#ed7953"
             ],
             [
              0.7777777777777778,
              "#fb9f3a"
             ],
             [
              0.8888888888888888,
              "#fdca26"
             ],
             [
              1,
              "#f0f921"
             ]
            ],
            "type": "histogram2d"
           }
          ],
          "histogram2dcontour": [
           {
            "colorbar": {
             "outlinewidth": 0,
             "ticks": ""
            },
            "colorscale": [
             [
              0,
              "#0d0887"
             ],
             [
              0.1111111111111111,
              "#46039f"
             ],
             [
              0.2222222222222222,
              "#7201a8"
             ],
             [
              0.3333333333333333,
              "#9c179e"
             ],
             [
              0.4444444444444444,
              "#bd3786"
             ],
             [
              0.5555555555555556,
              "#d8576b"
             ],
             [
              0.6666666666666666,
              "#ed7953"
             ],
             [
              0.7777777777777778,
              "#fb9f3a"
             ],
             [
              0.8888888888888888,
              "#fdca26"
             ],
             [
              1,
              "#f0f921"
             ]
            ],
            "type": "histogram2dcontour"
           }
          ],
          "mesh3d": [
           {
            "colorbar": {
             "outlinewidth": 0,
             "ticks": ""
            },
            "type": "mesh3d"
           }
          ],
          "parcoords": [
           {
            "line": {
             "colorbar": {
              "outlinewidth": 0,
              "ticks": ""
             }
            },
            "type": "parcoords"
           }
          ],
          "pie": [
           {
            "automargin": true,
            "type": "pie"
           }
          ],
          "scatter": [
           {
            "fillpattern": {
             "fillmode": "overlay",
             "size": 10,
             "solidity": 0.2
            },
            "type": "scatter"
           }
          ],
          "scatter3d": [
           {
            "line": {
             "colorbar": {
              "outlinewidth": 0,
              "ticks": ""
             }
            },
            "marker": {
             "colorbar": {
              "outlinewidth": 0,
              "ticks": ""
             }
            },
            "type": "scatter3d"
           }
          ],
          "scattercarpet": [
           {
            "marker": {
             "colorbar": {
              "outlinewidth": 0,
              "ticks": ""
             }
            },
            "type": "scattercarpet"
           }
          ],
          "scattergeo": [
           {
            "marker": {
             "colorbar": {
              "outlinewidth": 0,
              "ticks": ""
             }
            },
            "type": "scattergeo"
           }
          ],
          "scattergl": [
           {
            "marker": {
             "colorbar": {
              "outlinewidth": 0,
              "ticks": ""
             }
            },
            "type": "scattergl"
           }
          ],
          "scattermapbox": [
           {
            "marker": {
             "colorbar": {
              "outlinewidth": 0,
              "ticks": ""
             }
            },
            "type": "scattermapbox"
           }
          ],
          "scatterpolar": [
           {
            "marker": {
             "colorbar": {
              "outlinewidth": 0,
              "ticks": ""
             }
            },
            "type": "scatterpolar"
           }
          ],
          "scatterpolargl": [
           {
            "marker": {
             "colorbar": {
              "outlinewidth": 0,
              "ticks": ""
             }
            },
            "type": "scatterpolargl"
           }
          ],
          "scatterternary": [
           {
            "marker": {
             "colorbar": {
              "outlinewidth": 0,
              "ticks": ""
             }
            },
            "type": "scatterternary"
           }
          ],
          "surface": [
           {
            "colorbar": {
             "outlinewidth": 0,
             "ticks": ""
            },
            "colorscale": [
             [
              0,
              "#0d0887"
             ],
             [
              0.1111111111111111,
              "#46039f"
             ],
             [
              0.2222222222222222,
              "#7201a8"
             ],
             [
              0.3333333333333333,
              "#9c179e"
             ],
             [
              0.4444444444444444,
              "#bd3786"
             ],
             [
              0.5555555555555556,
              "#d8576b"
             ],
             [
              0.6666666666666666,
              "#ed7953"
             ],
             [
              0.7777777777777778,
              "#fb9f3a"
             ],
             [
              0.8888888888888888,
              "#fdca26"
             ],
             [
              1,
              "#f0f921"
             ]
            ],
            "type": "surface"
           }
          ],
          "table": [
           {
            "cells": {
             "fill": {
              "color": "#EBF0F8"
             },
             "line": {
              "color": "white"
             }
            },
            "header": {
             "fill": {
              "color": "#C8D4E3"
             },
             "line": {
              "color": "white"
             }
            },
            "type": "table"
           }
          ]
         },
         "layout": {
          "annotationdefaults": {
           "arrowcolor": "#2a3f5f",
           "arrowhead": 0,
           "arrowwidth": 1
          },
          "autotypenumbers": "strict",
          "coloraxis": {
           "colorbar": {
            "outlinewidth": 0,
            "ticks": ""
           }
          },
          "colorscale": {
           "diverging": [
            [
             0,
             "#8e0152"
            ],
            [
             0.1,
             "#c51b7d"
            ],
            [
             0.2,
             "#de77ae"
            ],
            [
             0.3,
             "#f1b6da"
            ],
            [
             0.4,
             "#fde0ef"
            ],
            [
             0.5,
             "#f7f7f7"
            ],
            [
             0.6,
             "#e6f5d0"
            ],
            [
             0.7,
             "#b8e186"
            ],
            [
             0.8,
             "#7fbc41"
            ],
            [
             0.9,
             "#4d9221"
            ],
            [
             1,
             "#276419"
            ]
           ],
           "sequential": [
            [
             0,
             "#0d0887"
            ],
            [
             0.1111111111111111,
             "#46039f"
            ],
            [
             0.2222222222222222,
             "#7201a8"
            ],
            [
             0.3333333333333333,
             "#9c179e"
            ],
            [
             0.4444444444444444,
             "#bd3786"
            ],
            [
             0.5555555555555556,
             "#d8576b"
            ],
            [
             0.6666666666666666,
             "#ed7953"
            ],
            [
             0.7777777777777778,
             "#fb9f3a"
            ],
            [
             0.8888888888888888,
             "#fdca26"
            ],
            [
             1,
             "#f0f921"
            ]
           ],
           "sequentialminus": [
            [
             0,
             "#0d0887"
            ],
            [
             0.1111111111111111,
             "#46039f"
            ],
            [
             0.2222222222222222,
             "#7201a8"
            ],
            [
             0.3333333333333333,
             "#9c179e"
            ],
            [
             0.4444444444444444,
             "#bd3786"
            ],
            [
             0.5555555555555556,
             "#d8576b"
            ],
            [
             0.6666666666666666,
             "#ed7953"
            ],
            [
             0.7777777777777778,
             "#fb9f3a"
            ],
            [
             0.8888888888888888,
             "#fdca26"
            ],
            [
             1,
             "#f0f921"
            ]
           ]
          },
          "colorway": [
           "#636efa",
           "#EF553B",
           "#00cc96",
           "#ab63fa",
           "#FFA15A",
           "#19d3f3",
           "#FF6692",
           "#B6E880",
           "#FF97FF",
           "#FECB52"
          ],
          "font": {
           "color": "#2a3f5f"
          },
          "geo": {
           "bgcolor": "white",
           "lakecolor": "white",
           "landcolor": "#E5ECF6",
           "showlakes": true,
           "showland": true,
           "subunitcolor": "white"
          },
          "hoverlabel": {
           "align": "left"
          },
          "hovermode": "closest",
          "mapbox": {
           "style": "light"
          },
          "paper_bgcolor": "white",
          "plot_bgcolor": "#E5ECF6",
          "polar": {
           "angularaxis": {
            "gridcolor": "white",
            "linecolor": "white",
            "ticks": ""
           },
           "bgcolor": "#E5ECF6",
           "radialaxis": {
            "gridcolor": "white",
            "linecolor": "white",
            "ticks": ""
           }
          },
          "scene": {
           "xaxis": {
            "backgroundcolor": "#E5ECF6",
            "gridcolor": "white",
            "gridwidth": 2,
            "linecolor": "white",
            "showbackground": true,
            "ticks": "",
            "zerolinecolor": "white"
           },
           "yaxis": {
            "backgroundcolor": "#E5ECF6",
            "gridcolor": "white",
            "gridwidth": 2,
            "linecolor": "white",
            "showbackground": true,
            "ticks": "",
            "zerolinecolor": "white"
           },
           "zaxis": {
            "backgroundcolor": "#E5ECF6",
            "gridcolor": "white",
            "gridwidth": 2,
            "linecolor": "white",
            "showbackground": true,
            "ticks": "",
            "zerolinecolor": "white"
           }
          },
          "shapedefaults": {
           "line": {
            "color": "#2a3f5f"
           }
          },
          "ternary": {
           "aaxis": {
            "gridcolor": "white",
            "linecolor": "white",
            "ticks": ""
           },
           "baxis": {
            "gridcolor": "white",
            "linecolor": "white",
            "ticks": ""
           },
           "bgcolor": "#E5ECF6",
           "caxis": {
            "gridcolor": "white",
            "linecolor": "white",
            "ticks": ""
           }
          },
          "title": {
           "x": 0.05
          },
          "xaxis": {
           "automargin": true,
           "gridcolor": "white",
           "linecolor": "white",
           "ticks": "",
           "title": {
            "standoff": 15
           },
           "zerolinecolor": "white",
           "zerolinewidth": 2
          },
          "yaxis": {
           "automargin": true,
           "gridcolor": "white",
           "linecolor": "white",
           "ticks": "",
           "title": {
            "standoff": 15
           },
           "zerolinecolor": "white",
           "zerolinewidth": 2
          }
         }
        },
        "title": {
         "text": "Feature Importances to predict Severity"
        },
        "xaxis": {
         "anchor": "y",
         "domain": [
          0,
          1
         ],
         "title": {
          "text": "Importance Score"
         }
        },
        "yaxis": {
         "anchor": "x",
         "domain": [
          0,
          1
         ],
         "title": {
          "text": "Features"
         }
        }
       }
      }
     },
     "metadata": {},
     "output_type": "display_data"
    }
   ],
   "source": [
    "from sklearn.ensemble import RandomForestClassifier\n",
    "#Let severity be the target variable\n",
    "#Now we build a model for this purpose\n",
    "X = df.drop('Severity', axis=1) \n",
    "y = df['Severity']\n",
    "\n",
    "#Train Random Forest Model\n",
    "RFmodel = RandomForestClassifier(n_estimators=100)\n",
    "RFmodel.fit(X, y)\n",
    "\n",
    "importances = RFmodel.feature_importances_\n",
    "\n",
    "# Creating a DataFrame to hold the feature importances\n",
    "feature_importances = pd.DataFrame(importances, index=X.columns, columns=['Importance'])\n",
    "\n",
    "# print(feature_importances)\n",
    "\n",
    "TreeFig = px.bar(\n",
    "    feature_importances,\n",
    "    x='Importance',\n",
    "    y=feature_importances.index,\n",
    "    title='Feature Importances to predict Severity',\n",
    "    labels={'Importance': 'Importance Score', 'index': 'Features'},\n",
    "    )\n",
    "\n",
    "TreeFig.show()"
   ]
  },
  {
   "cell_type": "code",
   "execution_count": 21,
   "id": "ea07498f-cde9-41da-8468-7e91a85e901a",
   "metadata": {},
   "outputs": [
    {
     "name": "stdout",
     "output_type": "stream",
     "text": [
      "   Feature  ANOVA F-Score\n",
      "0       BA     358.512018\n",
      "1      Age     216.427503\n",
      "2    Shape     387.782271\n",
      "3   Margin     407.908580\n",
      "4  Density       3.920754\n"
     ]
    },
    {
     "data": {
      "image/png": "[encoded data removed]",
      "text/plain": [
       "<Figure size 640x480 with 1 Axes>"
      ]
     },
     "metadata": {},
     "output_type": "display_data"
    }
   ],
   "source": [
    "from sklearn.feature_selection import SelectKBest, f_classif\n",
    "import matplotlib.pyplot as plt\n",
    "# Severity is the target variable, what we want to predict\n",
    "# seperate the Severity column\n",
    "X = cleaned_df.drop(columns=['Severity'])\n",
    "y = cleaned_df['Severity']\n",
    "\n",
    "# selectKBest select the best features based on the F-score\n",
    "# k is the number of feature. k=5 is same as k='all', as there are 5 variable in X\n",
    "# f_classif is the ANOVA F-value between label/feature for classification tasks.\n",
    "selector = SelectKBest(score_func=f_classif, k='all')\n",
    "X_new = selector.fit_transform(X, y)\n",
    "\n",
    "# how much variance in the target variable can be explained by each feature,\n",
    "# higher scores indicating a stronger relationship (more importance) for predicting the target.\n",
    "feature_scores = selector.scores_\n",
    "# store result in the dataframe\n",
    "scores_table = pd.DataFrame({\n",
    "    'Feature': X.columns,\n",
    "    'ANOVA F-Score': feature_scores\n",
    "})\n",
    "print(scores_table)\n",
    "\n",
    "# make the bar plot\n",
    "features = X.columns\n",
    "plt.bar(features, feature_scores, color='lightblue')\n",
    "plt.title('Feature Importance based on ANOVA F-value')\n",
    "plt.xlabel('Features')\n",
    "plt.ylabel('F-Value Score')\n",
    "\n",
    "plt.show()"
   ]
  },
  {
   "cell_type": "markdown",
   "id": "db8e4516-8839-4d4f-a51a-3742b28662a8",
   "metadata": {
    "jp-MarkdownHeadingCollapsed": true
   },
   "source": [
    "## 4.2 PCA\n",
    "Goal: get the number and the ratio of principal components.   \n",
    "Reason: from 4.1, few variables have similar (importance and F-value) scores, so it is difficult to identify which variables contribute the most to the model's predictions. we would like to reduce dimensionality, and simplify the feature set while retaining most of the information.   \n",
    "Result: the first two components explain 89.95%  of the total variance. Considering the balance between variance explained and model complexity, we believe 2 principle components will be the better choice"
   ]
  },
  {
   "cell_type": "code",
   "execution_count": 22,
   "id": "2bea7ce3-9c28-47e8-a862-c61e40c53b64",
   "metadata": {},
   "outputs": [
    {
     "name": "stdout",
     "output_type": "stream",
     "text": [
      "Explained Variance Ratio: [0.78844177 0.10748904 0.0716935  0.02632133 0.00605435]\n"
     ]
    },
    {
     "data": {
      "image/png": "[encoded data removed]",
      "text/plain": [
       "<Figure size 640x480 with 1 Axes>"
      ]
     },
     "metadata": {},
     "output_type": "display_data"
    },
    {
     "data": {
      "image/png": "[encoded data removed]",
      "text/plain": [
       "<Figure size 640x480 with 1 Axes>"
      ]
     },
     "metadata": {},
     "output_type": "display_data"
    }
   ],
   "source": [
    "from sklearn.decomposition import PCA\n",
    "import matplotlib.patches as mpatches\n",
    "\n",
    "# Same as 4.1\n",
    "# Severity is the target variable, what we want to predict\n",
    "# seperate the Severity column\n",
    "X = cleaned_normalize.drop(columns=['Severity'])\n",
    "y = cleaned_normalize['Severity']\n",
    "\n",
    "# apply PCA with n_components=5\n",
    "pca = PCA(n_components=5)\n",
    "X_pca = pca.fit_transform(X)\n",
    "\n",
    "# create a DataFrame with PCA components\n",
    "pca_df = pd.DataFrame(data=X_pca, columns=[f'Principal Component {i}' for i in range(1, 6)])\n",
    "# print(pca_df)\n",
    "\n",
    "# print the explained variance ratio\n",
    "## the sum will be 1.0, meaning all the component explain total variance\n",
    "explained_variance = pca.explained_variance_ratio_\n",
    "print(\"Explained Variance Ratio:\", explained_variance)\n",
    "\n",
    "# barplot the explained variance\n",
    "plt.bar([f'PC {i}' for i in range(1, 6)],\n",
    "        explained_variance, color='lightblue')\n",
    "plt.title('Explained Variance by Principal Components')\n",
    "plt.xlabel('Principal Components')\n",
    "plt.ylabel('Explained Variance Ratio')\n",
    "plt.show()\n",
    "\n",
    "# visualize the PCA result in the first two principal components\n",
    "# because the first two components explain 89.95%  of the variance\n",
    "# c stand for color, since there are only two condition of Severity(y) so set two color to easier visualize\n",
    "colors = ['red' if label == 0 else 'purple' for label in y]\n",
    "plt.scatter(x=pca_df['Principal Component 1'], y=pca_df['Principal Component 2'],\n",
    "            c=colors)\n",
    "plt.title('Principal Components 1 vs 2')\n",
    "plt.xlabel('Principal Component 1')\n",
    "plt.ylabel('Principal Component 2')\n",
    "# Create legend\n",
    "Benign = mpatches.Patch(color='red', label='Severity=0 (Benign)')\n",
    "Mailgnant = mpatches.Patch(color='purple', label='Severity=1(Mailgnant)')\n",
    "# Add the legend to the plot\n",
    "plt.legend(handles=[Benign, Mailgnant])\n",
    "plt.show()\n"
   ]
  },
  {
   "cell_type": "code",
   "execution_count": 23,
   "id": "06b7b864-7cc8-4113-b5a7-0ab383fa6539",
   "metadata": {},
   "outputs": [
    {
     "data": {
      "application/vnd.plotly.v1+json": {
       "config": {
        "plotlyServerURL": "https://plot.ly"
       },
       "data": [
        {
         "hovertemplate": "Principal Component 1=%{x}<br>Principal Component 2=%{y}<extra></extra>",
         "legendgroup": "",
         "marker": {
          "color": "#636efa",
          "symbol": "circle"
         },
         "mode": "markers",
         "name": "",
         "orientation": "v",
         "showlegend": false,
         "type": "scatter",
         "x": [
          -2.0453716255931975,
          -2.6128965903950125,
          2.5918951226317954,
          -0.8945060013645912,
          -0.12529077993883028,
          2.0236339166577886,
          1.4634760443868289,
          2.0225283156395473,
          2.5772091204800303,
          -0.7254769458134356,
          1.8327882277757666,
          2.408221039890071,
          -1.0092385910583803,
          -1.8239117506880276,
          -0.5070536719880806,
          -2.622498976417322,
          -2.60555358931913,
          -1.6622666711739515,
          -0.5167444558018219,
          -1.830689905527304,
          -1.8323844442371238,
          2.606998667539553,
          2.561958272091657,
          2.00121146212912,
          -1.2441074721614884,
          -0.8870979338725399,
          2.606286517822331,
          2.579468505426456,
          -2.0212305408997393,
          -2.616285667814651,
          -2.61798020652447,
          2.014620468327057,
          -2.052714626669081,
          2.050058477752645,
          -1.0496129131328094,
          -1.0541316830256604,
          -1.116883198846191,
          -1.8419868302594322,
          2.580033351663062,
          2.0096841556782152,
          1.9989520771826943,
          2.015185314563664,
          -1.0586504529185117,
          -2.440519432385415,
          -1.8374680603665814,
          2.593589661341615,
          2.236997665808658,
          2.571560658113966,
          -1.0328148295152333,
          -0.48119395712983043,
          -2.2677488230747986,
          -1.8037245896508136,
          2.581556495437294,
          -1.83294929047373,
          -0.8973302325476237,
          -1.0875701002318416,
          -1.6641326048193579,
          1.651544924916054,
          -1.830689905527304,
          -1.6662205948301965,
          2.016462310517492,
          2.5755145817702116,
          -1.4753749059481758,
          -1.840292291549613,
          -1.64320920260995,
          2.5760794280068176,
          2.024222854349366,
          -1.2586461708326395,
          -2.4585945119568198,
          -1.8289953668174852,
          2.042862780157377,
          2.5704309656407536,
          -1.6498400539686107,
          -0.682018599828955,
          -2.602729358136098,
          -1.838032906603188,
          -1.062604376574756,
          -1.6797769045087498,
          -1.8374680603665814,
          -2.6061184355557363,
          -1.6522708338506238,
          -1.8369032141299746,
          2.5777739667166366,
          -2.0453716255931984,
          -2.6253232076003536,
          2.0040356933121517,
          2.602479897646702,
          -2.6151559753414384,
          -1.835773521656762,
          -1.6590489886899005,
          2.5845521215559124,
          -1.853701297747551,
          -1.8616091450600405,
          2.5704309656407536,
          -0.30997058304841735,
          -1.2879182944857925,
          -0.9106741723293932,
          -1.838032906603188,
          2.011943540624641,
          1.4495021919522848,
          2.011378694388035,
          -2.629277131256598,
          2.400313192577581,
          2.571560658113966,
          -2.0380286245173154,
          -2.6287122850199918,
          2.0232404653567686,
          -1.4798936758410268,
          -1.474810059711569,
          2.5772091204800303,
          -2.6157208215780448,
          2.0310010091886426,
          -2.4512515108809367,
          -1.8278656743442727,
          -1.4776342908946012,
          -1.689796833287049,
          2.5969787387612535,
          2.6092580524859783,
          -2.621934130180715,
          -1.821087519504995,
          -1.2733321729844056,
          -1.8335141367103367,
          2.5885060452121587,
          -1.0648637615211816,
          1.2473595783381355,
          2.4155640409659536,
          2.579468505426456,
          -1.8482001388621023,
          2.581727890372881,
          -1.8374680603665814,
          1.4425767336323925,
          2.576644274243424,
          2.00742477073179,
          -1.2963909880348883,
          -2.427699363879055,
          -1.114582838938569,
          -2.262665206945341,
          -2.620804437707502,
          0.44922470959904415,
          -0.8632859941436392,
          2.624361597393736,
          1.4235192650683903,
          1.6605824647017566,
          -2.6230638226539287,
          2.581727890372881,
          -0.3380655913981213,
          2.5755145817702116,
          2.1909274585379284,
          2.192057151011141,
          2.0096841556782152,
          -2.612331744158406,
          -1.8448110614424644,
          1.6543691560990859,
          -0.8999420938338719,
          -1.835773521656762,
          2.0057302320219708,
          2.586246660265732,
          -0.5294351515555527,
          -1.0654286077577884,
          -1.0631692228113627,
          1.4274731887246352,
          -2.616285667814651,
          -2.4348709700193516,
          -2.266054284364979,
          -1.6545302187970492,
          2.042862780157377,
          -1.8408571377862197,
          1.9995169234193009,
          2.581727890372881,
          2.770314194308477,
          -1.8431165227326451,
          0.45487317196510824,
          2.0125083868612474,
          -0.8950708476011978,
          2.0108138481514284,
          2.765230578179019,
          2.58963573768537,
          -1.8110675907266969,
          2.5868115065023383,
          -1.6584841424532941,
          -0.27192499815795257,
          -1.8414219840228259,
          -2.6236286688905337,
          -1.795399199582333,
          -1.0603449916283305,
          -1.8369032141299746,
          2.5834224290827,
          2.00742477073179,
          -0.2832219228900802,
          -1.481023368314239,
          -2.620804437707502,
          -0.5187030730600313,
          -1.8425516764960395,
          -2.614591129104832,
          -1.838032906603188,
          -0.27136015192134594,
          -1.8374680603665814,
          2.948585962504542,
          -1.6511411413774109,
          1.241146269735465,
          -2.6196747452342897,
          1.9995169234193009,
          -0.10495631542100022,
          2.5845521215559124,
          2.0298713167154303,
          2.400313192577581,
          -0.8751477651123734,
          -0.7112433006518717,
          -0.6920385286072543,
          -2.6325189051956204,
          -1.1098452512798946,
          -1.8374680603665814,
          1.459522120730584,
          -2.6049887430825236,
          -1.6624380661095388,
          -0.3397601301079406,
          -1.8453759076790717,
          -1.4685967511088986,
          -2.4271345176424495,
          -1.8261711356344532,
          -2.607812974265555,
          2.5777739667166366,
          2.2116794658117493,
          2.5755145817702116,
          1.4319919586174865,
          2.391228229961643,
          1.4359458822737308,
          2.5851169677925196,
          2.582292736609487,
          -2.4271345176424495,
          -1.830689905527304,
          0.6830522960203724,
          -1.6624380661095388,
          -0.7072893769956268,
          0.45487317196510824,
          -1.488931215626729,
          2.5805981978996684,
          -1.655095065033656,
          -0.09915438884733563,
          -1.0541316830256604,
          2.5941545075782213,
          -2.5780234272060323,
          2.5844048180752974,
          2.582292736609487,
          2.0355197790814943,
          2.6053041288297334,
          -1.659613834926507,
          -2.6140262828682257,
          -2.055538857852113,
          2.5789036591898498,
          -2.610637205448587,
          -1.0513074518426282,
          -1.4861069844436967,
          -2.61798020652447,
          -1.062604376574756,
          -1.8493298313353153,
          -1.6449278327747408,
          -1.046223835713171,
          2.223023813374114,
          0.24301568308224616,
          2.58963573768537,
          2.572690350587179,
          -2.61346143663162,
          0.85542945402997,
          -1.8442462152058583,
          -2.4348709700193516,
          1.8023454366882055,
          1.6656660808312138,
          1.4472428070058592,
          2.5834224290827,
          -1.8470704463888898,
          2.0147677718076733,
          2.014202925571067,
          1.2618741855543147,
          -1.8312547517639106,
          -1.6686513747122096,
          -1.840292291549613,
          2.011943540624641,
          -1.8278656743442727,
          2.7388301085391342,
          1.0257872141865605,
          2.0091193094416098,
          -1.829560213054092,
          -1.83294929047373,
          -2.4367369036647575,
          -1.8453759076790717,
          2.582292736609487,
          -1.8385977528397939,
          0.45035440207225685,
          -1.0620395303381498,
          -2.4422139710952337,
          -1.64662237148456,
          2.580033351663062,
          -1.0484832206595964,
          -2.036898932044102,
          2.582292736609487,
          2.5704309656407536,
          -1.6573544499800814,
          1.9944333072898424,
          -1.8419868302594322,
          -1.83294929047373,
          0.431714476264246,
          1.4348161898005183,
          -1.0541316830256604,
          -1.059215299155118,
          2.0051653857853644,
          -0.7220878683937973,
          -1.8419868302594322,
          2.5749497355336044,
          -1.8385977528397939,
          -0.8772357551232118,
          -0.6894266673210061,
          -1.0597801453917242,
          -1.821087519504995,
          -2.254363908331832,
          -1.4878015231535162,
          -1.0975659375551698,
          -1.8431165227326451,
          -0.7067245307590208,
          -0.2809625379436546,
          0.07491730787208113,
          -1.8239117506880276,
          -1.057520760445299,
          -1.827300828107666,
          2.5879411989755514,
          -1.8340789829469428,
          -0.2781383067606227,
          -1.8442462152058583,
          2.4014428850507943,
          2.5805981978996684,
          2.5902005839219773,
          -1.0445292970033517,
          -0.526651895333717,
          2.220199582191082,
          -1.4815882145508457,
          -2.6128965903950125,
          -0.6736109726960271,
          2.5868115065023383,
          -1.040575373347107,
          0.453178633255289,
          -1.6409739091184958,
          -1.8470704463888898,
          -2.4373017499013643,
          -1.2631649407254906,
          -1.8442462152058583,
          0.45374347949189553,
          -1.046223835713171,
          -1.8340789829469428,
          0.0933448637833084,
          2.5890708914487637,
          -0.7200408533441554,
          -0.1196423175727663,
          1.00714728837855,
          2.59133027639519,
          -2.610637205448587,
          -1.8453759076790717,
          -1.0586504529185117,
          2.015332618044279,
          2.579468505426456,
          -0.6880846049510096,
          -1.8941366875588326,
          -2.438996288611183,
          -2.629277131256598,
          2.571560658113966,
          -2.6112020516851935,
          2.59754358499786,
          2.5777739667166366,
          -2.627582592546779,
          -1.0654286077577884,
          2.58963573768537,
          -1.27107278803798,
          2.586246660265732,
          -2.610637205448587,
          2.572125504350572,
          2.5732551968237845,
          2.5783388129532434,
          2.5873763527389446,
          2.574384889296998,
          -1.8076785133070579,
          2.5873763527389446,
          -1.0428347582935324,
          2.580033351663062,
          0.45430832572850177,
          2.581727890372881,
          2.572125504350572,
          2.019286541700524,
          2.008554463205003,
          1.842390613798076,
          -2.6049887430825236,
          -1.4776342908946012,
          -2.606683281792342,
          -2.6095075129753744,
          2.4087858861266773,
          -0.4945145655363358,
          -1.835773521656762,
          2.5772091204800303,
          -1.4781991371312073,
          -2.6253232076003536,
          -0.5114010469453446,
          2.019286541700524,
          2.5902005839219773,
          2.011943540624641,
          1.4506318844254973,
          -1.252432862229969,
          -1.8278656743442727,
          -2.6202395914708965,
          -2.622498976417322,
          2.0136380793344606,
          1.0139254432178266,
          -2.629277131256598,
          -1.6584841424532941,
          -2.6112020516851935,
          2.7770923491477535,
          2.579468505426456,
          -2.6230638226539287,
          2.594719353814828,
          -2.6213692839441083,
          0.45374347949189553,
          2.9380011874896357,
          -2.616850514051257,
          -0.6928157447406444,
          -0.6894266673210061,
          -1.6628315174105581,
          -0.69507512968707,
          1.2274774708105072,
          2.0102490019148216,
          -0.9389879984449205,
          2.01985138793713,
          -2.6213692839441083,
          2.0158974642808865,
          1.8378718439052242,
          2.0000817696559072,
          1.6318751872852095,
          1.4421591908764013,
          1.8406960750882557,
          -2.61798020652447,
          2.5958490462880404,
          2.002906000838939,
          -2.6174153602878643,
          -1.6590489886899005,
          -1.266554018145129,
          -2.806566510460066,
          2.2010946907968436,
          2.0136380793344606,
          2.0221107728835563,
          -0.6959924522634992,
          0.44075201604994824,
          -2.616850514051257,
          -0.7039002995759888,
          -2.6270177463101723,
          -1.8227820582148146,
          -0.907285094909755,
          -1.4928851392829738,
          -0.12698531864864948,
          -0.6764352038790592,
          -0.9118038648026061,
          2.003470847075545,
          2.0102490019148216,
          -0.13468079606435526,
          -0.125643256278653,
          2.581727890372881,
          2.585681814029126,
          -2.6112020516851935,
          2.0125083868612474,
          2.593024815105009,
          0.2848678881483404,
          1.2319962407033587,
          2.572125504350572,
          2.580033351663062,
          1.0545354665643034,
          -1.6679151335400155,
          2.5772091204800303,
          2.5873763527389446,
          -1.6588775937543134,
          -1.6522708338506238,
          -1.8425516764960395,
          -0.10463145627781242,
          -1.8335141367103367,
          -1.6347606005158257,
          -2.4410842786220215,
          -1.6633963636471647,
          -0.9160628419684373,
          -1.06825283894082,
          -1.483282753260665,
          -0.8956356938378041,
          -0.3031040304177081,
          2.004600539548759,
          -2.6061184355557363,
          -1.6545302187970492,
          2.4087858861266773,
          2.5760794280068176,
          -1.8374680603665814,
          -2.6174153602878643,
          2.576644274243424,
          2.582857582846094,
          -1.2761564041674376,
          -2.606683281792342,
          -2.61346143663162,
          -2.4484272796979045,
          -1.0546965292622665,
          2.5687364269309336,
          -0.9148404658824215,
          1.0257872141865605,
          -2.6049887430825236,
          1.2297368557569328,
          -0.906155402436542,
          -0.3363710526883022,
          -1.4872366769169096,
          -2.614591129104832,
          -0.3025391841811017,
          -0.5181792017846212,
          -1.8448110614424644,
          0.9076655470731335,
          2.0175920029907055,
          -1.4855421382070906,
          2.571560658113966,
          -2.4376952012023834,
          -2.618545052761077,
          2.590765430158583,
          -2.6044238968459172,
          2.5760794280068176,
          2.0091193094416098,
          1.9972575384728746,
          -2.6095075129753744,
          -1.6567896037434748,
          2.008554463205003,
          -2.6128965903950125,
          2.019286541700524,
          2.5834224290827,
          -0.33693589892490855,
          -2.618545052761077,
          -0.3408898225811533,
          -0.3408898225811533,
          -1.8352086754201553,
          0.868420917471917,
          -1.8385977528397939,
          2.011943540624641,
          1.8463445374543206,
          1.9966926922362687,
          -1.8312547517639106,
          -1.838032906603188,
          -0.6988166834465309,
          2.947603573511944,
          -1.8414219840228259,
          -1.053566836789054,
          -2.2226610047966657,
          -0.881754525016063,
          2.5760794280068176,
          -2.6100723592119808,
          -0.3352413602150894,
          -0.12698531864864948,
          -1.0580856066819053,
          -0.48378248704081445,
          1.6192362001830856,
          -1.0513074518426282,
          -0.4843473332774209,
          -0.2657116895552823,
          2.22980196821339,
          2.0215459266469495,
          2.5783388129532434,
          2.006859924495184,
          2.5879411989755514,
          -1.056391067972086,
          0.5596935485698871,
          -1.8374680603665814,
          -1.655095065033656,
          -1.0496129131328094,
          -0.10665085413081943,
          -1.4815882145508457,
          -2.0102386696771983,
          -1.6635677585827517,
          2.0226756191201622,
          1.9938684610532365,
          -0.907285094909755,
          1.8327882277757666,
          -1.4546228986743546,
          -1.8374680603665814,
          -0.8672399177998839,
          2.4059616549436456,
          2.576644274243424,
          -0.5087482106978999,
          2.573820043060392,
          -1.052437144315841,
          2.5755145817702116,
          1.6494569349052162,
          1.82601007293649,
          2.0170271567540987,
          2.002906000838939,
          2.5969787387612535,
          -0.5087482106978999,
          -2.61798020652447,
          -2.2581464370524893,
          0.45980948461395,
          -0.3060166593921726,
          -2.0215355944093254,
          -1.2398937557782241,
          2.5693012731675404,
          2.59133027639519,
          2.0051653857853644,
          -1.8374680603665814,
          -1.8431165227326451,
          2.02365800811276,
          -1.2818048665335013,
          -1.8397274453130072,
          2.0158974642808865,
          2.0017763083657267,
          1.2680874941569846,
          -1.8369032141299746,
          2.574384889296998,
          2.0232404653567686,
          2.192057151011141,
          2.5777739667166366,
          1.9983872309460875,
          -0.5098779031711126,
          -1.4798936758410268,
          2.5789036591898498,
          -0.3380655913981213,
          2.003470847075545,
          2.00121146212912,
          2.5952842000514345,
          2.020981080410343,
          -1.8391625990764005,
          2.002341154602332,
          -1.0552613754988729,
          -1.4815882145508457,
          2.571560658113966,
          2.0170271567540987,
          -1.8121972831999098,
          2.5783388129532434,
          -1.4855421382070906,
          -1.838032906603188,
          -1.8346438291835487,
          -2.61346143663162,
          -1.0496129131328094,
          -1.4697264435821114,
          -0.4911254881166975,
          -1.0603449916283305,
          -1.0558262217354797,
          2.0349549328448875,
          -1.0609098378649373,
          -0.8819259199516502,
          -0.1273377949884722,
          -2.2677488230747986,
          -0.6939454372138572,
          2.5772091204800303,
          2.399136077274133,
          -1.0586504529185117,
          -1.4883663693901226,
          -0.5115724418809318,
          2.766925116888838,
          2.0102490019148216,
          2.5890708914487637,
          2.5749497355336044,
          2.5902005839219773,
          2.7759626566745403,
          -2.6117668979218,
          1.8271397654097032,
          2.2096388986311477,
          2.4020077312873997,
          2.03156585542525,
          -0.30140949170788883,
          -1.6567896037434748,
          2.003470847075545,
          -0.9067202486731483,
          2.414434348492741,
          -0.840839448159999,
          -0.8797549327966572,
          2.7629711932325933,
          -1.8312547517639106,
          -1.8116324369633026,
          -1.8493298313353153,
          1.9978223847094816,
          -0.33593662642608657,
          -1.0541316830256604,
          -1.8257535928784625,
          2.0175920029907055,
          2.0051653857853644,
          0.43905747734012923,
          -1.796381588574931,
          -1.8138918219097284,
          2.003470847075545,
          -1.83294929047373,
          0.23002421964029918,
          -2.622498976417322,
          -1.264294633198703,
          0.2905163505144043,
          2.0017763083657267,
          -1.6724579948878384,
          0.6396180414908634,
          0.23228360458672487,
          2.582857582846094,
          1.4600869669671908,
          -1.0569559142086924,
          1.9955629997630557,
          2.5805981978996684,
          2.439557822178798,
          2.572125504350572,
          -1.8340789829469428,
          -1.0688176851774263,
          2.5924599688684022,
          -2.417679435100756,
          -1.8482001388621023,
          -0.12620810251525938,
          -1.2421531407246498,
          -1.829560213054092,
          1.9978223847094816,
          -2.6202395914708965,
          2.011378694388035,
          -1.6337782115232284,
          1.2319962407033587,
          2.006859924495184,
          2.590765430158583,
          2.5698661194041468,
          -1.8352086754201553,
          2.0304361629520367,
          2.5879411989755514,
          2.5990908202270635,
          2.0017763083657267,
          1.45176157689871,
          1.6362940765276814,
          1.9944333072898424,
          2.0355197790814943,
          1.2675226479203785,
          2.582292736609487,
          -2.2570167445792766,
          -1.6517059876140174,
          2.5839872753193065,
          -0.5053591332782613,
          2.008554463205003,
          -1.64662237148456,
          -1.4778466607913845,
          -2.6151559753414384,
          -1.8363383678933685,
          -1.0501777593694155,
          -0.07727268910030194,
          -1.8312547517639106,
          -1.4691615973455046,
          -1.8431165227326451,
          2.585681814029126,
          2.9572059595342535,
          2.5969787387612535,
          -2.616850514051257,
          2.002906000838939,
          -1.823346904451421,
          -2.419226670329959,
          -0.1324214111179297,
          1.9961278459996614,
          1.4393349596933696,
          -0.15230351864555755,
          0.30407266019295764,
          -1.4765045984213883,
          -2.429393902588875,
          -1.829560213054092,
          2.590765430158583,
          -1.4648142223882414,
          -0.5104427494077189,
          2.579468505426456,
          -2.616850514051257,
          -1.057520760445299,
          -0.6307174729481526,
          0.291646042987617,
          2.4576329017502028,
          -1.6641326048193579,
          0.39481546735321854,
          2.5845521215559124,
          -0.3070579540739529,
          -2.263794899418554,
          -1.0580856066819053,
          2.0040356933121517,
          -1.080791945392565,
          -1.0774028679729266,
          -1.648316910194379,
          2.5839872753193065,
          -1.835773521656762,
          -2.4339126724817257,
          2.581727890372881,
          1.9983872309460875,
          -0.298585260524857,
          -2.436172057428151,
          2.582292736609487,
          -2.442385366030822,
          2.5879411989755514,
          -2.4271345176424495,
          -1.4821530607874516,
          1.2517069532953995,
          -2.263230053181947,
          2.5789036591898498,
          -1.0700598668970436,
          -0.32450928171956794,
          2.5839872753193065,
          2.0108138481514284,
          -1.6539653725604433,
          2.01985138793713,
          -1.6511411413774109,
          2.0017763083657267,
          0.3097211225590214,
          2.596413892524647,
          -1.0620395303381498,
          2.5952842000514345,
          -0.7022057608661695,
          -0.8711938414561284,
          2.025352546822579,
          2.0000817696559072,
          2.5772091204800303,
          2.3986186538677616,
          -0.13411594982774888,
          -1.4883663693901226,
          2.571560658113966,
          -0.3352413602150894,
          -1.6460575252479537,
          -0.7027706071027758,
          -1.2603407095424586,
          2.610805287715183,
          -0.12190170251919187,
          2.0017763083657267,
          -0.33693589892490855,
          -2.259840975762309,
          -1.649446602667592,
          2.0051653857853644,
          -1.1153190801107629,
          -2.61798020652447,
          -1.6573544499800814,
          -0.3363710526883022,
          2.015332618044279,
          -1.648316910194379,
          2.008554463205003,
          -2.4305235950620867,
          -2.266054284364979,
          -2.6174153602878643,
          -0.1324214111179297
         ],
         "xaxis": "x",
         "y": [
          1.0615028403088385,
          0.2828945796867627,
          0.3540696031911272,
          2.619344313489199,
          2.006905203666803,
          -0.38527169738319916,
          -1.2426181168888981,
          -0.46434465194696906,
          0.35348929067889606,
          0.7429199962525732,
          -0.49661036881461035,
          0.28231036777557617,
          -1.0188726241250132,
          -0.32876334021532116,
          1.339434737068072,
          0.28251514458261373,
          0.2831847359428794,
          -0.2578745735681165,
          2.762837103228206,
          -0.32903117675942767,
          -0.3290981358954542,
          0.3149332000353587,
          0.3528866584546568,
          -0.42545376562329884,
          0.4105969186909286,
          0.5930029144656159,
          0.27517184494334285,
          0.35357856952693134,
          1.0227235525452005,
          0.2827606614147114,
          0.28269370227868473,
          -0.464657127915093,
          1.0612126840527112,
          -0.5029900214385417,
          -0.9410015726296375,
          -0.9411801303257084,
          2.0226733346896375,
          -0.32947757099960484,
          0.3536008892389403,
          -0.42511896994316584,
          -0.4255430444713345,
          -0.46463480820308417,
          -0.9413586880217792,
          0.35420742086213747,
          -0.32929901330353384,
          0.35413656232715285,
          0.13201385088446815,
          0.35326609355880734,
          -0.9800710166493786,
          1.2216940933007203,
          0.46483186150926536,
          -0.36769886596300916,
          0.3929571281347124,
          -0.32912045560746295,
          2.619232714929155,
          0.5603131230698063,
          -0.21865225294439752,
          -0.6075696051418707,
          -0.32903117675942767,
          -0.2580308115521784,
          -0.42485113339905944,
          0.35342233154286923,
          -0.14669214012076698,
          -0.3294106118635786,
          -0.2968547387398219,
          0.3534446512548782,
          -0.4642776928109422,
          0.4497556415587053,
          0.3534931900778541,
          -0.32896421762340117,
          -0.4635411423146499,
          0.3532214541347896,
          -0.25738353990392177,
          -0.7979105377067887,
          0.28329633450292374,
          -0.3293213330155429,
          -0.9415149260058413,
          -0.258566484640391,
          -0.32929901330353384,
          0.28316241623087096,
          -0.21818353899221135,
          -0.32927669359152517,
          0.3535116103909048,
          1.0615028403088265,
          0.28240354602256956,
          -0.4253421670632544,
          0.314754642339288,
          0.28280530083872907,
          -0.32923205416750734,
          -0.21845137553631766,
          0.35377944693501107,
          -0.2902072495717843,
          -0.2905197255399083,
          0.3532214541347896,
          1.3719906101918284,
          -0.03548738696140895,
          0.6318045219412506,
          -0.3293213330155429,
          -0.42502969109513056,
          -1.2034370743091127,
          -0.4250520108071395,
          0.28224730803850734,
          0.2819978918074518,
          0.35326609355880734,
          1.0617929965649413,
          0.2822696277505164,
          -0.42458329685495316,
          -0.146870697816838,
          -0.14666982040875848,
          0.35348929067889606,
          0.28278298112672,
          -0.46400985626683566,
          0.35378334633396913,
          -0.32891957819938344,
          -0.1467814189688025,
          -0.2192292040765439,
          0.3542704805992063,
          0.3150224788833942,
          0.28253746429462256,
          -0.32865174165527716,
          0.4491753290464749,
          -0.32914277531947167,
          0.35393568491907296,
          -0.9416042048538765,
          -1.3152221399807014,
          0.282600524031691,
          0.35357856952693134,
          -0.3297230878317026,
          0.35366784837496673,
          -0.32929901330353384,
          -1.2434439462332258,
          0.3534669709668871,
          -0.4252082487912013,
          -0.035822182641542015,
          0.39401005399808686,
          0.07515937339772755,
          0.465032738917345,
          0.2825821037186401,
          0.7988887809332803,
          -0.8298414588942973,
          0.2758860757276263,
          -1.2044637810615202,
          -0.607212489749729,
          0.28249282487060506,
          0.35366784837496673,
          1.4106136599713928,
          0.35342233154286923,
          -0.3141597336159054,
          -0.31411509419188743,
          -0.42511896994316584,
          0.28291689939877324,
          -0.32958916955964906,
          -0.6074580065818266,
          0.6322285964694191,
          -0.32923205416750734,
          -0.42527520792722806,
          0.3538464060710378,
          -0.6483505713119734,
          -0.9416265245658858,
          -0.9415372457178502,
          -1.2043075430774584,
          0.2827606614147114,
          0.3544306179822264,
          0.4648988206452918,
          -0.21827281784024685,
          -0.4635411423146499,
          -0.3294329315755874,
          -0.4255207247593253,
          0.35366784837496673,
          0.4649172409583425,
          -0.3295222104236227,
          0.7991119780533689,
          -0.42500737138312156,
          2.619321993777189,
          -0.4250743305191482,
          0.46471636355026297,
          0.35398032434309107,
          -0.36798902221912444,
          0.3538687257830467,
          -0.21842905582430872,
          -1.5531058867719005,
          -0.3294552512875961,
          0.282470505158596,
          -0.40710310566288344,
          -0.9414256471578061,
          -0.32927669359152517,
          0.35373480751099357,
          -0.4252082487912013,
          -1.5535522810120772,
          -0.14691533724085584,
          0.2825821037186401,
          -0.647926496783805,
          -0.3294998907116135,
          0.28282762055073746,
          -0.3293213330155429,
          -1.5530835670598917,
          -0.32929901330353384,
          0.5360258433455518,
          -0.21813889956819377,
          -1.3154676568127988,
          0.2826267431426582,
          -0.4255207247593253,
          2.007708713299122,
          0.35377944693501107,
          -0.46405449569085355,
          0.2819978918074518,
          -0.830310172846483,
          -0.7593321273512426,
          -0.7585732571429417,
          0.32185242514646084,
          0.5598700902097136,
          -0.32929901330353384,
          -1.2427743548729602,
          0.28320705565488846,
          -0.21858529380837052,
          1.4105467008353656,
          -0.3296114892716579,
          -0.14642430357666075,
          0.394032373710096,
          -0.3288526190633568,
          0.28309545709484407,
          0.3535116103909048,
          -0.35307293965158404,
          0.35342233154286923,
          -1.2041289853813875,
          -0.24218066246035053,
          -1.2039727473973254,
          0.35380176664701996,
          0.3536901680869758,
          0.394032373710096,
          -0.32903117675942767,
          -2.054407202570964,
          -0.21858529380837052,
          -0.7591758893671806,
          0.7991119780533689,
          -0.14722781320897987,
          0.3536232089509491,
          -0.21829513755225574,
          -1.4424814461247724,
          -0.9411801303257084,
          0.354158882039162,
          0.2445393664513069,
          0.3140404115550041,
          0.3536901680869758,
          -0.4638312985707653,
          0.31486624089933235,
          -0.21847369524832663,
          0.2828499402627466,
          1.0611010854926668,
          0.3535562498149224,
          0.28298385853479974,
          -0.941068531765664,
          -0.14711621464893557,
          0.28269370227868473,
          -0.9415149260058413,
          -0.32976772725572,
          -0.2178933827360961,
          -0.940867654357584,
          0.17119489346425298,
          2.189757593681667,
          0.35398032434309107,
          0.35331073298282484,
          0.2828722599747557,
          -1.9830943613955911,
          -0.3295668498476404,
          0.3544306179822264,
          0.9657052033812031,
          -0.6070116123416494,
          -1.2035263531571483,
          0.35373480751099357,
          -0.3296784484076849,
          -0.42491809253508617,
          -0.42494041224709506,
          -1.2753525477087255,
          -0.3290534964714364,
          -0.21883081064046842,
          -0.3294106118635786,
          -0.42502969109513056,
          -0.32891957819938344,
          0.5034063724658532,
          1.577854156947484,
          -0.4251412896551748,
          -0.3289865373354099,
          -0.32912045560746295,
          0.3936529386059451,
          -0.3296114892716579,
          0.3536901680869758,
          -0.3293436527275517,
          0.7989334203572979,
          -0.9414926062938324,
          0.3541404617261108,
          -0.21796034187212263,
          0.3536008892389403,
          -0.9409569332056196,
          1.0618376359889594,
          0.3536901680869758,
          0.3532214541347896,
          -0.21838441640029094,
          -0.42572160216740496,
          -0.32947757099960484,
          -0.32912045560746295,
          0.7981968698610056,
          -1.204017386821343,
          -0.9411801303257084,
          -0.9413810077337881,
          -0.42529752763923695,
          0.7430539145246263,
          -0.32947757099960484,
          0.35340001183086056,
          -0.3293436527275517,
          -0.8696887314542641,
          1.2284308613167938,
          -0.941403327445797,
          -0.32865174165527716,
          0.5046568143572234,
          -0.14718317378496204,
          0.5206220884939016,
          -0.3295222104236227,
          -0.7591535696551721,
          -1.5534630021640423,
          -1.371101645813373,
          -0.32876334021532116,
          -0.9413140485977614,
          -0.32889725848737467,
          0.3539133652070645,
          -0.3291650950314808,
          -1.553351403603998,
          -0.3295668498476404,
          0.2820425312314696,
          0.3536232089509491,
          0.3540026440550998,
          -0.9408006952215575,
          1.2993642673880166,
          0.17108329490420862,
          -0.1469376569528645,
          0.28289457968676446,
          1.229055813253042,
          0.3538687257830467,
          -0.9406444572374958,
          0.7990450189173421,
          -0.2177371447520343,
          -0.3296784484076849,
          0.3936306188939366,
          0.4495770838626343,
          -0.3295668498476404,
          0.7990673386293513,
          -0.940867654357584,
          -0.3291650950314808,
          0.6165274245826107,
          0.35395800463108223,
          2.7300357132723527,
          2.0071284007868915,
          1.5771176064511918,
          0.35404728347911724,
          0.28298385853479974,
          -0.3296114892716579,
          -0.9413586880217792,
          -0.4248957728230773,
          0.35357856952693134,
          -0.7584170191588795,
          0.7264860081637089,
          0.39356365975790986,
          0.28224730803850734,
          0.35326609355880734,
          0.28296153882279096,
          0.35429280031121474,
          0.3535116103909048,
          0.28231426717453384,
          -0.9416265245658858,
          0.35398032434309107,
          0.4492646078945102,
          0.3538464060710378,
          0.28298385853479974,
          0.35328841327081645,
          0.3533330526948341,
          0.35353393010291356,
          0.35389104549505535,
          0.3533776921188517,
          -0.36785510394707105,
          0.35389104549505535,
          -0.9407337360855312,
          0.3536008892389403,
          0.79908965834136,
          0.35366784837496673,
          0.35328841327081645,
          -0.42473953483901516,
          -0.4251636093671838,
          -0.49623093371046,
          0.28320705565488846,
          -0.1467814189688025,
          0.2831400965188619,
          0.28302849795881757,
          0.28233268748758467,
          -0.16288434567177026,
          -0.32923205416750734,
          0.35348929067889606,
          -0.14680373868081154,
          0.28240354602256956,
          1.2999668996122562,
          -0.42473953483901516,
          0.3540026440550998,
          -0.42502969109513056,
          -1.2033924348850948,
          0.4500011583908028,
          -0.32891957819938344,
          0.2826044234306492,
          0.28251514458261373,
          -0.424962731959104,
          1.5773854429952974,
          0.28224730803850734,
          -0.21842905582430872,
          0.28296153882279096,
          0.4651850775024491,
          0.35357856952693134,
          0.28249282487060506,
          0.35418120175117046,
          0.28255978400663134,
          0.7990673386293513,
          0.5753408041973906,
          0.2827383417027022,
          1.2282969430447404,
          1.2284308613167938,
          -0.2578968932801255,
          1.2282076641967052,
          0.1868067865030263,
          -0.4250966502311569,
          0.18589541260489956,
          -0.42471721512700633,
          0.28255978400663134,
          -0.4248734531110687,
          -0.4964094914065304,
          -0.4254984050473167,
          -1.0924331985578348,
          -1.2037272305652278,
          -0.49629789284648607,
          0.28269370227868473,
          0.35422584117518874,
          -0.42538680648727245,
          0.2827160219906935,
          -0.21845137553631766,
          0.44944316559058106,
          0.1714443096953089,
          -0.31375797879974593,
          -0.424962731959104,
          -0.4246279362789711,
          -0.7587294951270034,
          0.7985539852531476,
          0.2827383417027022,
          -0.7590419710951277,
          0.2823365868865429,
          -0.32871870079130366,
          0.6319384402133039,
          -0.1473840511930417,
          2.006838244530776,
          1.2289442146929974,
          0.6317598825172329,
          -0.42536448677526323,
          -0.4250966502311569,
          0.019633248662961116,
          0.019990364055102933,
          0.35366784837496673,
          0.3538240863590289,
          0.28296153882279096,
          -0.42500737138312156,
          0.3541142426151444,
          -0.7749217006780066,
          0.18698534419909713,
          0.35328841327081645,
          0.3536008892389403,
          0.11547162561564374,
          -0.2580977706882051,
          0.35348929067889606,
          0.35389104549505535,
          -0.25774065529606327,
          -0.21818353899221135,
          -0.3294998907116135,
          -1.4819939230046064,
          -0.32914277531947167,
          -0.2174916279199366,
          0.35418510115012897,
          -0.2579192129921343,
          -0.8314897562028688,
          -0.94173812312593,
          -0.1470046160888911,
          2.6192996740651817,
          -0.05152335452835026,
          -0.4253198473512459,
          0.28316241623087096,
          -0.21827281784024685,
          0.28233268748758467,
          0.3534446512548782,
          -0.32929901330353384,
          0.2827160219906935,
          0.3534669709668871,
          0.35371248779898445,
          0.4490637304864306,
          0.2831400965188619,
          0.2828722599747557,
          0.3538949448940134,
          -0.9412024500377172,
          0.35315449499876306,
          2.618540803856879,
          1.577854156947484,
          0.28320705565488846,
          0.18689606535106174,
          0.6319830796373217,
          1.410680619107419,
          -0.14716085407295326,
          0.28282762055073746,
          -0.051501034816341454,
          1.29969906306815,
          -0.32958916955964906,
          -2.060496698938781,
          -0.42480649397504205,
          -0.14709389493692668,
          0.35326609355880734,
          0.3543190194221822,
          0.2826713825666757,
          0.35402496376710846,
          0.28322937536689713,
          0.3534446512548782,
          -0.4251412896551748,
          -0.4256100036073604,
          0.28302849795881757,
          -0.2183620966882823,
          -0.4251636093671838,
          0.28289457968676446,
          -0.42473953483901516,
          0.35373480751099357,
          1.41065829939541,
          0.2826713825666757,
          1.4105020614113484,
          1.4105020614113484,
          -0.32920973445549867,
          -1.9825810080193875,
          -0.3293436527275517,
          -0.42502969109513056,
          -0.49607469572639773,
          -0.42563232331937,
          -0.3290534964714364,
          -0.3293213330155429,
          -0.758841093687048,
          0.5757202393015413,
          -0.3294552512875961,
          -0.9411578106136993,
          0.950699841965628,
          -0.869867289150335,
          0.3534446512548782,
          0.2830061782468087,
          1.410725258531437,
          2.006838244530776,
          -0.9413363683097702,
          -0.16246027114360198,
          0.8939682876776616,
          -0.941068531765664,
          -0.1624825908556108,
          -1.5528603699398031,
          0.17146273000835963,
          -0.42465025599097994,
          0.35353393010291356,
          -0.42523056850321017,
          0.3539133652070645,
          -0.9412694091737435,
          -2.2425455793213267,
          -0.32929901330353384,
          -0.21829513755225574,
          -0.9410015726296375,
          2.0076417541630955,
          -0.1469376569528645,
          -0.4399234539506618,
          -0.2186299332323886,
          -0.42460561656696216,
          -0.42574392187941423,
          0.6319384402133039,
          -0.49661036881461035,
          -0.1856053461564463,
          -0.32929901330353384,
          -0.8299976968783592,
          0.28222108892754033,
          0.3534669709668871,
          1.3393677779320454,
          0.3533553724068427,
          -0.9411131711896817,
          0.35342233154286923,
          -0.6469481637496517,
          -0.4968782053587165,
          -0.4248288136870506,
          -0.42538680648727245,
          0.3542704805992063,
          1.3393677779320454,
          0.28269370227868473,
          0.4652112966134159,
          0.7595738200814416,
          1.3721468481758907,
          -0.440369848190839,
          -1.0523179243490395,
          0.35317681471077206,
          0.35404728347911724,
          -0.42529752763923695,
          -0.32929901330353384,
          -0.3295222104236227,
          -0.4643000125229511,
          0.44884053336634194,
          -0.3293882921515692,
          -0.4248734531110687,
          -0.4254314459112902,
          -1.275107030876628,
          -0.32927669359152517,
          0.3533776921188517,
          -0.42458329685495316,
          -0.31411509419188743,
          0.3535116103909048,
          -0.4255653641833431,
          1.3393231385080278,
          -0.146870697816838,
          0.3535562498149224,
          1.4106136599713928,
          -0.42536448677526323,
          -0.42545376562329884,
          0.3542035214631794,
          -0.42467257570298883,
          -0.32936597243956045,
          -0.4254091261992809,
          -0.941224769749726,
          -0.1469376569528645,
          0.35326609355880734,
          -0.4248288136870506,
          -0.36803366164314183,
          0.35353393010291356,
          -0.14709389493692668,
          -0.3293213330155429,
          -0.3291874147434899,
          0.2828722599747557,
          -0.9410015726296375,
          -0.14646894300067848,
          -0.16275042739971718,
          -0.9414256471578061,
          -0.9412470894617351,
          -0.463853618282774,
          -0.9414479668698145,
          -0.8305780093905895,
          0.019923404919076317,
          0.46483186150926536,
          1.2282523036207231,
          0.35348929067889606,
          -0.24186818649222622,
          -0.9413586880217792,
          -0.14720549349697074,
          1.3392561793720013,
          0.4647833226862898,
          -0.4250966502311569,
          0.35395800463108223,
          0.35340001183086056,
          0.3540026440550998,
          0.46514043807843136,
          0.2829392191107819,
          -0.49683356593469896,
          0.1313699406162949,
          0.2820648509434784,
          -0.46398753655482716,
          -0.05145639539232374,
          -0.2183620966882823,
          -0.42536448677526323,
          0.6319607599253128,
          0.2825558846076735,
          -0.8686877057939495,
          0.5932930707217312,
          0.4646270847022276,
          -0.3290534964714364,
          -0.3680113419311332,
          -0.32976772725572,
          -0.42558768389535206,
          -0.4976110215607724,
          -0.9411801303257084,
          -0.3685693347313547,
          -0.42480649397504205,
          -0.42529752763923695,
          0.7984870261171207,
          -0.36740870970689377,
          -0.3681006207791685,
          -0.42536448677526323,
          -0.32912045560746295,
          2.189244240305463,
          0.28251514458261373,
          0.44953244443861645,
          -0.774698503557918,
          -0.4254314459112902,
          -0.1792480132445237,
          -0.5926049837513548,
          2.189333519153499,
          0.35371248779898445,
          -1.2427520351609516,
          -0.9412917288857525,
          -0.42567696274338745,
          0.3536232089509491,
          0.20408220088805795,
          0.35328841327081645,
          -0.3291650950314808,
          -0.9417604428379388,
          0.35409192290313507,
          0.3546727734342399,
          -0.3297230878317026,
          0.01996804434309404,
          -1.0524072031970755,
          -0.3289865373354099,
          -0.42558768389535206,
          0.2826044234306492,
          -0.4250520108071395,
          -0.2571860238759258,
          0.18698534419909713,
          -0.42523056850321017,
          0.35402496376710846,
          0.35319913442278045,
          -0.32920973445549867,
          -0.46403217597884494,
          0.3539133652070645,
          0.3146207240672346,
          -0.4254314459112902,
          -1.2033477954610772,
          -0.6081722373661101,
          -0.42572160216740496,
          -0.4638312985707653,
          -1.2751293505886367,
          0.3536901680869758,
          0.4652559360374336,
          -0.21816121928020266,
          0.35375712722300257,
          1.3395016962040986,
          -0.4251636093671838,
          -0.21796034187212263,
          1.8401111009308886,
          0.28280530083872907,
          -0.32925437387951634,
          -0.9410238923416463,
          -1.4813500127364339,
          -0.3290534964714364,
          -0.14644662328866961,
          -0.3295222104236227,
          0.3538240863590289,
          0.5760996744056919,
          0.3542704805992063,
          0.2827383417027022,
          -0.42538680648727245,
          -0.3287410205033124,
          0.39434484967822,
          0.019722527510996596,
          -0.4256546430313786,
          -1.2038388291252724,
          1.521751453994724,
          -0.7741628304697055,
          -0.14673677954478476,
          0.3939430948620607,
          -0.3289865373354099,
          0.35402496376710846,
          -0.10697878583285313,
          1.3393008187960187,
          0.35357856952693134,
          0.2827383417027022,
          -0.9413140485977614,
          -0.31179704041832884,
          -0.7746538641339006,
          0.20479643167234196,
          -0.21865225294439752,
          1.854763081248559,
          0.35377944693501107,
          -0.05167959251241228,
          0.4649880994933274,
          -0.9413363683097702,
          -0.4253421670632544,
          0.5605809596139126,
          0.5607148778859656,
          -0.21802730100814943,
          0.35375712722300257,
          -0.32923205416750734,
          0.39376453716598936,
          0.35366784837496673,
          -0.4255653641833431,
          -0.05134479683227934,
          0.39367525831795414,
          0.3536901680869758,
          0.3934297414858569,
          0.3539133652070645,
          0.394032373710096,
          -0.14695997666487368,
          -1.2757543025248852,
          0.4650104192053362,
          0.3535562498149224,
          0.5610050341420809,
          1.411149333059605,
          0.35375712722300257,
          -0.4250743305191482,
          -0.218250498128238,
          -0.42471721512700633,
          -0.21813889956819377,
          -0.4254314459112902,
          -0.7739396333496168,
          0.35424816088719724,
          -0.9414926062938324,
          0.3542035214631794,
          -0.7589750119591009,
          -0.8301539348624214,
          -0.4642330533869248,
          -0.4254984050473167,
          0.35348929067889606,
          0.28193093267142555,
          0.01965556837497,
          -0.14720549349697074,
          0.35326609355880734,
          1.410725258531437,
          -0.217938022160114,
          -0.7589973316711098,
          0.4496886824226786,
          0.27535040263941407,
          2.007039121938856,
          -0.4254314459112902,
          1.41065829939541,
          0.4651443374773895,
          -0.21807194043216693,
          -0.42529752763923695,
          0.11442633344546407,
          0.28269370227868473,
          -0.21838441640029094,
          1.410680619107419,
          -0.4248957728230773,
          -0.21802730100814943,
          -0.4251636093671838,
          0.39389845543804286,
          0.4648988206452918,
          0.2827160219906935,
          0.019722527510996596
         ],
         "yaxis": "y"
        }
       ],
       "layout": {
        "legend": {
         "tracegroupgap": 0
        },
        "template": {
         "data": {
          "bar": [
           {
            "error_x": {
             "color": "#2a3f5f"
            },
            "error_y": {
             "color": "#2a3f5f"
            },
            "marker": {
             "line": {
              "color": "#E5ECF6",
              "width": 0.5
             },
             "pattern": {
              "fillmode": "overlay",
              "size": 10,
              "solidity": 0.2
             }
            },
            "type": "bar"
           }
          ],
          "barpolar": [
           {
            "marker": {
             "line": {
              "color": "#E5ECF6",
              "width": 0.5
             },
             "pattern": {
              "fillmode": "overlay",
              "size": 10,
              "solidity": 0.2
             }
            },
            "type": "barpolar"
           }
          ],
          "carpet": [
           {
            "aaxis": {
             "endlinecolor": "#2a3f5f",
             "gridcolor": "white",
             "linecolor": "white",
             "minorgridcolor": "white",
             "startlinecolor": "#2a3f5f"
            },
            "baxis": {
             "endlinecolor": "#2a3f5f",
             "gridcolor": "white",
             "linecolor": "white",
             "minorgridcolor": "white",
             "startlinecolor": "#2a3f5f"
            },
            "type": "carpet"
           }
          ],
          "choropleth": [
           {
            "colorbar": {
             "outlinewidth": 0,
             "ticks": ""
            },
            "type": "choropleth"
           }
          ],
          "contour": [
           {
            "colorbar": {
             "outlinewidth": 0,
             "ticks": ""
            },
            "colorscale": [
             [
              0,
              "#0d0887"
             ],
             [
              0.1111111111111111,
              "#46039f"
             ],
             [
              0.2222222222222222,
              "#7201a8"
             ],
             [
              0.3333333333333333,
              "#9c179e"
             ],
             [
              0.4444444444444444,
              "#bd3786"
             ],
             [
              0.5555555555555556,
              "#d8576b"
             ],
             [
              0.6666666666666666,
              "#ed7953"
             ],
             [
              0.7777777777777778,
              "#fb9f3a"
             ],
             [
              0.8888888888888888,
              "#fdca26"
             ],
             [
              1,
              "#f0f921"
             ]
            ],
            "type": "contour"
           }
          ],
          "contourcarpet": [
           {
            "colorbar": {
             "outlinewidth": 0,
             "ticks": ""
            },
            "type": "contourcarpet"
           }
          ],
          "heatmap": [
           {
            "colorbar": {
             "outlinewidth": 0,
             "ticks": ""
            },
            "colorscale": [
             [
              0,
              "#0d0887"
             ],
             [
              0.1111111111111111,
              "#46039f"
             ],
             [
              0.2222222222222222,
              "#7201a8"
             ],
             [
              0.3333333333333333,
              "#9c179e"
             ],
             [
              0.4444444444444444,
              "#bd3786"
             ],
             [
              0.5555555555555556,
              "#d8576b"
             ],
             [
              0.6666666666666666,
              "#ed7953"
             ],
             [
              0.7777777777777778,
              "#fb9f3a"
             ],
             [
              0.8888888888888888,
              "#fdca26"
             ],
             [
              1,
              "#f0f921"
             ]
            ],
            "type": "heatmap"
           }
          ],
          "heatmapgl": [
           {
            "colorbar": {
             "outlinewidth": 0,
             "ticks": ""
            },
            "colorscale": [
             [
              0,
              "#0d0887"
             ],
             [
              0.1111111111111111,
              "#46039f"
             ],
             [
              0.2222222222222222,
              "#7201a8"
             ],
             [
              0.3333333333333333,
              "#9c179e"
             ],
             [
              0.4444444444444444,
              "#bd3786"
             ],
             [
              0.5555555555555556,
              "#d8576b"
             ],
             [
              0.6666666666666666,
              "#ed7953"
             ],
             [
              0.7777777777777778,
              "#fb9f3a"
             ],
             [
              0.8888888888888888,
              "#fdca26"
             ],
             [
              1,
              "#f0f921"
             ]
            ],
            "type": "heatmapgl"
           }
          ],
          "histogram": [
           {
            "marker": {
             "pattern": {
              "fillmode": "overlay",
              "size": 10,
              "solidity": 0.2
             }
            },
            "type": "histogram"
           }
          ],
          "histogram2d": [
           {
            "colorbar": {
             "outlinewidth": 0,
             "ticks": ""
            },
            "colorscale": [
             [
              0,
              "#0d0887"
             ],
             [
              0.1111111111111111,
              "#46039f"
             ],
             [
              0.2222222222222222,
              "#7201a8"
             ],
             [
              0.3333333333333333,
              "#9c179e"
             ],
             [
              0.4444444444444444,
              "#bd3786"
             ],
             [
              0.5555555555555556,
              "#d8576b"
             ],
             [
              0.6666666666666666,
              "#ed7953"
             ],
             [
              0.7777777777777778,
              "#fb9f3a"
             ],
             [
              0.8888888888888888,
              "#fdca26"
             ],
             [
              1,
              "#f0f921"
             ]
            ],
            "type": "histogram2d"
           }
          ],
          "histogram2dcontour": [
           {
            "colorbar": {
             "outlinewidth": 0,
             "ticks": ""
            },
            "colorscale": [
             [
              0,
              "#0d0887"
             ],
             [
              0.1111111111111111,
              "#46039f"
             ],
             [
              0.2222222222222222,
              "#7201a8"
             ],
             [
              0.3333333333333333,
              "#9c179e"
             ],
             [
              0.4444444444444444,
              "#bd3786"
             ],
             [
              0.5555555555555556,
              "#d8576b"
             ],
             [
              0.6666666666666666,
              "#ed7953"
             ],
             [
              0.7777777777777778,
              "#fb9f3a"
             ],
             [
              0.8888888888888888,
              "#fdca26"
             ],
             [
              1,
              "#f0f921"
             ]
            ],
            "type": "histogram2dcontour"
           }
          ],
          "mesh3d": [
           {
            "colorbar": {
             "outlinewidth": 0,
             "ticks": ""
            },
            "type": "mesh3d"
           }
          ],
          "parcoords": [
           {
            "line": {
             "colorbar": {
              "outlinewidth": 0,
              "ticks": ""
             }
            },
            "type": "parcoords"
           }
          ],
          "pie": [
           {
            "automargin": true,
            "type": "pie"
           }
          ],
          "scatter": [
           {
            "fillpattern": {
             "fillmode": "overlay",
             "size": 10,
             "solidity": 0.2
            },
            "type": "scatter"
           }
          ],
          "scatter3d": [
           {
            "line": {
             "colorbar": {
              "outlinewidth": 0,
              "ticks": ""
             }
            },
            "marker": {
             "colorbar": {
              "outlinewidth": 0,
              "ticks": ""
             }
            },
            "type": "scatter3d"
           }
          ],
          "scattercarpet": [
           {
            "marker": {
             "colorbar": {
              "outlinewidth": 0,
              "ticks": ""
             }
            },
            "type": "scattercarpet"
           }
          ],
          "scattergeo": [
           {
            "marker": {
             "colorbar": {
              "outlinewidth": 0,
              "ticks": ""
             }
            },
            "type": "scattergeo"
           }
          ],
          "scattergl": [
           {
            "marker": {
             "colorbar": {
              "outlinewidth": 0,
              "ticks": ""
             }
            },
            "type": "scattergl"
           }
          ],
          "scattermapbox": [
           {
            "marker": {
             "colorbar": {
              "outlinewidth": 0,
              "ticks": ""
             }
            },
            "type": "scattermapbox"
           }
          ],
          "scatterpolar": [
           {
            "marker": {
             "colorbar": {
              "outlinewidth": 0,
              "ticks": ""
             }
            },
            "type": "scatterpolar"
           }
          ],
          "scatterpolargl": [
           {
            "marker": {
             "colorbar": {
              "outlinewidth": 0,
              "ticks": ""
             }
            },
            "type": "scatterpolargl"
           }
          ],
          "scatterternary": [
           {
            "marker": {
             "colorbar": {
              "outlinewidth": 0,
              "ticks": ""
             }
            },
            "type": "scatterternary"
           }
          ],
          "surface": [
           {
            "colorbar": {
             "outlinewidth": 0,
             "ticks": ""
            },
            "colorscale": [
             [
              0,
              "#0d0887"
             ],
             [
              0.1111111111111111,
              "#46039f"
             ],
             [
              0.2222222222222222,
              "#7201a8"
             ],
             [
              0.3333333333333333,
              "#9c179e"
             ],
             [
              0.4444444444444444,
              "#bd3786"
             ],
             [
              0.5555555555555556,
              "#d8576b"
             ],
             [
              0.6666666666666666,
              "#ed7953"
             ],
             [
              0.7777777777777778,
              "#fb9f3a"
             ],
             [
              0.8888888888888888,
              "#fdca26"
             ],
             [
              1,
              "#f0f921"
             ]
            ],
            "type": "surface"
           }
          ],
          "table": [
           {
            "cells": {
             "fill": {
              "color": "#EBF0F8"
             },
             "line": {
              "color": "white"
             }
            },
            "header": {
             "fill": {
              "color": "#C8D4E3"
             },
             "line": {
              "color": "white"
             }
            },
            "type": "table"
           }
          ]
         },
         "layout": {
          "annotationdefaults": {
           "arrowcolor": "#2a3f5f",
           "arrowhead": 0,
           "arrowwidth": 1
          },
          "autotypenumbers": "strict",
          "coloraxis": {
           "colorbar": {
            "outlinewidth": 0,
            "ticks": ""
           }
          },
          "colorscale": {
           "diverging": [
            [
             0,
             "#8e0152"
            ],
            [
             0.1,
             "#c51b7d"
            ],
            [
             0.2,
             "#de77ae"
            ],
            [
             0.3,
             "#f1b6da"
            ],
            [
             0.4,
             "#fde0ef"
            ],
            [
             0.5,
             "#f7f7f7"
            ],
            [
             0.6,
             "#e6f5d0"
            ],
            [
             0.7,
             "#b8e186"
            ],
            [
             0.8,
             "#7fbc41"
            ],
            [
             0.9,
             "#4d9221"
            ],
            [
             1,
             "#276419"
            ]
           ],
           "sequential": [
            [
             0,
             "#0d0887"
            ],
            [
             0.1111111111111111,
             "#46039f"
            ],
            [
             0.2222222222222222,
             "#7201a8"
            ],
            [
             0.3333333333333333,
             "#9c179e"
            ],
            [
             0.4444444444444444,
             "#bd3786"
            ],
            [
             0.5555555555555556,
             "#d8576b"
            ],
            [
             0.6666666666666666,
             "#ed7953"
            ],
            [
             0.7777777777777778,
             "#fb9f3a"
            ],
            [
             0.8888888888888888,
             "#fdca26"
            ],
            [
             1,
             "#f0f921"
            ]
           ],
           "sequentialminus": [
            [
             0,
             "#0d0887"
            ],
            [
             0.1111111111111111,
             "#46039f"
            ],
            [
             0.2222222222222222,
             "#7201a8"
            ],
            [
             0.3333333333333333,
             "#9c179e"
            ],
            [
             0.4444444444444444,
             "#bd3786"
            ],
            [
             0.5555555555555556,
             "#d8576b"
            ],
            [
             0.6666666666666666,
             "#ed7953"
            ],
            [
             0.7777777777777778,
             "#fb9f3a"
            ],
            [
             0.8888888888888888,
             "#fdca26"
            ],
            [
             1,
             "#f0f921"
            ]
           ]
          },
          "colorway": [
           "#636efa",
           "#EF553B",
           "#00cc96",
           "#ab63fa",
           "#FFA15A",
           "#19d3f3",
           "#FF6692",
           "#B6E880",
           "#FF97FF",
           "#FECB52"
          ],
          "font": {
           "color": "#2a3f5f"
          },
          "geo": {
           "bgcolor": "white",
           "lakecolor": "white",
           "landcolor": "#E5ECF6",
           "showlakes": true,
           "showland": true,
           "subunitcolor": "white"
          },
          "hoverlabel": {
           "align": "left"
          },
          "hovermode": "closest",
          "mapbox": {
           "style": "light"
          },
          "paper_bgcolor": "white",
          "plot_bgcolor": "#E5ECF6",
          "polar": {
           "angularaxis": {
            "gridcolor": "white",
            "linecolor": "white",
            "ticks": ""
           },
           "bgcolor": "#E5ECF6",
           "radialaxis": {
            "gridcolor": "white",
            "linecolor": "white",
            "ticks": ""
           }
          },
          "scene": {
           "xaxis": {
            "backgroundcolor": "#E5ECF6",
            "gridcolor": "white",
            "gridwidth": 2,
            "linecolor": "white",
            "showbackground": true,
            "ticks": "",
            "zerolinecolor": "white"
           },
           "yaxis": {
            "backgroundcolor": "#E5ECF6",
            "gridcolor": "white",
            "gridwidth": 2,
            "linecolor": "white",
            "showbackground": true,
            "ticks": "",
            "zerolinecolor": "white"
           },
           "zaxis": {
            "backgroundcolor": "#E5ECF6",
            "gridcolor": "white",
            "gridwidth": 2,
            "linecolor": "white",
            "showbackground": true,
            "ticks": "",
            "zerolinecolor": "white"
           }
          },
          "shapedefaults": {
           "line": {
            "color": "#2a3f5f"
           }
          },
          "ternary": {
           "aaxis": {
            "gridcolor": "white",
            "linecolor": "white",
            "ticks": ""
           },
           "baxis": {
            "gridcolor": "white",
            "linecolor": "white",
            "ticks": ""
           },
           "bgcolor": "#E5ECF6",
           "caxis": {
            "gridcolor": "white",
            "linecolor": "white",
            "ticks": ""
           }
          },
          "title": {
           "x": 0.05
          },
          "xaxis": {
           "automargin": true,
           "gridcolor": "white",
           "linecolor": "white",
           "ticks": "",
           "title": {
            "standoff": 15
           },
           "zerolinecolor": "white",
           "zerolinewidth": 2
          },
          "yaxis": {
           "automargin": true,
           "gridcolor": "white",
           "linecolor": "white",
           "ticks": "",
           "title": {
            "standoff": 15
           },
           "zerolinecolor": "white",
           "zerolinewidth": 2
          }
         }
        },
        "title": {
         "text": "PCA of Features"
        },
        "xaxis": {
         "anchor": "y",
         "domain": [
          0,
          1
         ],
         "title": {
          "text": "Principal Component 1"
         }
        },
        "yaxis": {
         "anchor": "x",
         "domain": [
          0,
          1
         ],
         "title": {
          "text": "Principal Component 2"
         }
        }
       }
      }
     },
     "metadata": {},
     "output_type": "display_data"
    },
    {
     "data": {
      "application/vnd.plotly.v1+json": {
       "config": {
        "plotlyServerURL": "https://plot.ly"
       },
       "data": [
        {
         "alignmentgroup": "True",
         "hovertemplate": "0=Component 1<br>x=%{x}<br>index=%{y}<extra></extra>",
         "legendgroup": "Component 1",
         "marker": {
          "color": "#636efa",
          "pattern": {
           "shape": ""
          }
         },
         "name": "Component 1",
         "offsetgroup": "Component 1",
         "orientation": "h",
         "showlegend": true,
         "textposition": "auto",
         "type": "bar",
         "x": [
          0.7688123159028133
         ],
         "xaxis": "x",
         "y": [
          0
         ],
         "yaxis": "y"
        },
        {
         "alignmentgroup": "True",
         "hovertemplate": "0=Component 2<br>x=%{x}<br>index=%{y}<extra></extra>",
         "legendgroup": "Component 2",
         "marker": {
          "color": "#EF553B",
          "pattern": {
           "shape": ""
          }
         },
         "name": "Component 2",
         "offsetgroup": "Component 2",
         "orientation": "h",
         "showlegend": true,
         "textposition": "auto",
         "type": "bar",
         "x": [
          0.10228198748271206
         ],
         "xaxis": "x",
         "y": [
          1
         ],
         "yaxis": "y"
        }
       ],
       "layout": {
        "barmode": "relative",
        "legend": {
         "title": {
          "text": "0"
         },
         "tracegroupgap": 0
        },
        "margin": {
         "t": 60
        },
        "template": {
         "data": {
          "bar": [
           {
            "error_x": {
             "color": "#2a3f5f"
            },
            "error_y": {
             "color": "#2a3f5f"
            },
            "marker": {
             "line": {
              "color": "#E5ECF6",
              "width": 0.5
             },
             "pattern": {
              "fillmode": "overlay",
              "size": 10,
              "solidity": 0.2
             }
            },
            "type": "bar"
           }
          ],
          "barpolar": [
           {
            "marker": {
             "line": {
              "color": "#E5ECF6",
              "width": 0.5
             },
             "pattern": {
              "fillmode": "overlay",
              "size": 10,
              "solidity": 0.2
             }
            },
            "type": "barpolar"
           }
          ],
          "carpet": [
           {
            "aaxis": {
             "endlinecolor": "#2a3f5f",
             "gridcolor": "white",
             "linecolor": "white",
             "minorgridcolor": "white",
             "startlinecolor": "#2a3f5f"
            },
            "baxis": {
             "endlinecolor": "#2a3f5f",
             "gridcolor": "white",
             "linecolor": "white",
             "minorgridcolor": "white",
             "startlinecolor": "#2a3f5f"
            },
            "type": "carpet"
           }
          ],
          "choropleth": [
           {
            "colorbar": {
             "outlinewidth": 0,
             "ticks": ""
            },
            "type": "choropleth"
           }
          ],
          "contour": [
           {
            "colorbar": {
             "outlinewidth": 0,
             "ticks": ""
            },
            "colorscale": [
             [
              0,
              "#0d0887"
             ],
             [
              0.1111111111111111,
              "#46039f"
             ],
             [
              0.2222222222222222,
              "#7201a8"
             ],
             [
              0.3333333333333333,
              "#9c179e"
             ],
             [
              0.4444444444444444,
              "#bd3786"
             ],
             [
              0.5555555555555556,
              "#d8576b"
             ],
             [
              0.6666666666666666,
              "#ed7953"
             ],
             [
              0.7777777777777778,
              "#fb9f3a"
             ],
             [
              0.8888888888888888,
              "#fdca26"
             ],
             [
              1,
              "#f0f921"
             ]
            ],
            "type": "contour"
           }
          ],
          "contourcarpet": [
           {
            "colorbar": {
             "outlinewidth": 0,
             "ticks": ""
            },
            "type": "contourcarpet"
           }
          ],
          "heatmap": [
           {
            "colorbar": {
             "outlinewidth": 0,
             "ticks": ""
            },
            "colorscale": [
             [
              0,
              "#0d0887"
             ],
             [
              0.1111111111111111,
              "#46039f"
             ],
             [
              0.2222222222222222,
              "#7201a8"
             ],
             [
              0.3333333333333333,
              "#9c179e"
             ],
             [
              0.4444444444444444,
              "#bd3786"
             ],
             [
              0.5555555555555556,
              "#d8576b"
             ],
             [
              0.6666666666666666,
              "#ed7953"
             ],
             [
              0.7777777777777778,
              "#fb9f3a"
             ],
             [
              0.8888888888888888,
              "#fdca26"
             ],
             [
              1,
              "#f0f921"
             ]
            ],
            "type": "heatmap"
           }
          ],
          "heatmapgl": [
           {
            "colorbar": {
             "outlinewidth": 0,
             "ticks": ""
            },
            "colorscale": [
             [
              0,
              "#0d0887"
             ],
             [
              0.1111111111111111,
              "#46039f"
             ],
             [
              0.2222222222222222,
              "#7201a8"
             ],
             [
              0.3333333333333333,
              "#9c179e"
             ],
             [
              0.4444444444444444,
              "#bd3786"
             ],
             [
              0.5555555555555556,
              "#d8576b"
             ],
             [
              0.6666666666666666,
              "#ed7953"
             ],
             [
              0.7777777777777778,
              "#fb9f3a"
             ],
             [
              0.8888888888888888,
              "#fdca26"
             ],
             [
              1,
              "#f0f921"
             ]
            ],
            "type": "heatmapgl"
           }
          ],
          "histogram": [
           {
            "marker": {
             "pattern": {
              "fillmode": "overlay",
              "size": 10,
              "solidity": 0.2
             }
            },
            "type": "histogram"
           }
          ],
          "histogram2d": [
           {
            "colorbar": {
             "outlinewidth": 0,
             "ticks": ""
            },
            "colorscale": [
             [
              0,
              "#0d0887"
             ],
             [
              0.1111111111111111,
              "#46039f"
             ],
             [
              0.2222222222222222,
              "#7201a8"
             ],
             [
              0.3333333333333333,
              "#9c179e"
             ],
             [
              0.4444444444444444,
              "#bd3786"
             ],
             [
              0.5555555555555556,
              "#d8576b"
             ],
             [
              0.6666666666666666,
              "#ed7953"
             ],
             [
              0.7777777777777778,
              "#fb9f3a"
             ],
             [
              0.8888888888888888,
              "#fdca26"
             ],
             [
              1,
              "#f0f921"
             ]
            ],
            "type": "histogram2d"
           }
          ],
          "histogram2dcontour": [
           {
            "colorbar": {
             "outlinewidth": 0,
             "ticks": ""
            },
            "colorscale": [
             [
              0,
              "#0d0887"
             ],
             [
              0.1111111111111111,
              "#46039f"
             ],
             [
              0.2222222222222222,
              "#7201a8"
             ],
             [
              0.3333333333333333,
              "#9c179e"
             ],
             [
              0.4444444444444444,
              "#bd3786"
             ],
             [
              0.5555555555555556,
              "#d8576b"
             ],
             [
              0.6666666666666666,
              "#ed7953"
             ],
             [
              0.7777777777777778,
              "#fb9f3a"
             ],
             [
              0.8888888888888888,
              "#fdca26"
             ],
             [
              1,
              "#f0f921"
             ]
            ],
            "type": "histogram2dcontour"
           }
          ],
          "mesh3d": [
           {
            "colorbar": {
             "outlinewidth": 0,
             "ticks": ""
            },
            "type": "mesh3d"
           }
          ],
          "parcoords": [
           {
            "line": {
             "colorbar": {
              "outlinewidth": 0,
              "ticks": ""
             }
            },
            "type": "parcoords"
           }
          ],
          "pie": [
           {
            "automargin": true,
            "type": "pie"
           }
          ],
          "scatter": [
           {
            "fillpattern": {
             "fillmode": "overlay",
             "size": 10,
             "solidity": 0.2
            },
            "type": "scatter"
           }
          ],
          "scatter3d": [
           {
            "line": {
             "colorbar": {
              "outlinewidth": 0,
              "ticks": ""
             }
            },
            "marker": {
             "colorbar": {
              "outlinewidth": 0,
              "ticks": ""
             }
            },
            "type": "scatter3d"
           }
          ],
          "scattercarpet": [
           {
            "marker": {
             "colorbar": {
              "outlinewidth": 0,
              "ticks": ""
             }
            },
            "type": "scattercarpet"
           }
          ],
          "scattergeo": [
           {
            "marker": {
             "colorbar": {
              "outlinewidth": 0,
              "ticks": ""
             }
            },
            "type": "scattergeo"
           }
          ],
          "scattergl": [
           {
            "marker": {
             "colorbar": {
              "outlinewidth": 0,
              "ticks": ""
             }
            },
            "type": "scattergl"
           }
          ],
          "scattermapbox": [
           {
            "marker": {
             "colorbar": {
              "outlinewidth": 0,
              "ticks": ""
             }
            },
            "type": "scattermapbox"
           }
          ],
          "scatterpolar": [
           {
            "marker": {
             "colorbar": {
              "outlinewidth": 0,
              "ticks": ""
             }
            },
            "type": "scatterpolar"
           }
          ],
          "scatterpolargl": [
           {
            "marker": {
             "colorbar": {
              "outlinewidth": 0,
              "ticks": ""
             }
            },
            "type": "scatterpolargl"
           }
          ],
          "scatterternary": [
           {
            "marker": {
             "colorbar": {
              "outlinewidth": 0,
              "ticks": ""
             }
            },
            "type": "scatterternary"
           }
          ],
          "surface": [
           {
            "colorbar": {
             "outlinewidth": 0,
             "ticks": ""
            },
            "colorscale": [
             [
              0,
              "#0d0887"
             ],
             [
              0.1111111111111111,
              "#46039f"
             ],
             [
              0.2222222222222222,
              "#7201a8"
             ],
             [
              0.3333333333333333,
              "#9c179e"
             ],
             [
              0.4444444444444444,
              "#bd3786"
             ],
             [
              0.5555555555555556,
              "#d8576b"
             ],
             [
              0.6666666666666666,
              "#ed7953"
             ],
             [
              0.7777777777777778,
              "#fb9f3a"
             ],
             [
              0.8888888888888888,
              "#fdca26"
             ],
             [
              1,
              "#f0f921"
             ]
            ],
            "type": "surface"
           }
          ],
          "table": [
           {
            "cells": {
             "fill": {
              "color": "#EBF0F8"
             },
             "line": {
              "color": "white"
             }
            },
            "header": {
             "fill": {
              "color": "#C8D4E3"
             },
             "line": {
              "color": "white"
             }
            },
            "type": "table"
           }
          ]
         },
         "layout": {
          "annotationdefaults": {
           "arrowcolor": "#2a3f5f",
           "arrowhead": 0,
           "arrowwidth": 1
          },
          "autotypenumbers": "strict",
          "coloraxis": {
           "colorbar": {
            "outlinewidth": 0,
            "ticks": ""
           }
          },
          "colorscale": {
           "diverging": [
            [
             0,
             "#8e0152"
            ],
            [
             0.1,
             "#c51b7d"
            ],
            [
             0.2,
             "#de77ae"
            ],
            [
             0.3,
             "#f1b6da"
            ],
            [
             0.4,
             "#fde0ef"
            ],
            [
             0.5,
             "#f7f7f7"
            ],
            [
             0.6,
             "#e6f5d0"
            ],
            [
             0.7,
             "#b8e186"
            ],
            [
             0.8,
             "#7fbc41"
            ],
            [
             0.9,
             "#4d9221"
            ],
            [
             1,
             "#276419"
            ]
           ],
           "sequential": [
            [
             0,
             "#0d0887"
            ],
            [
             0.1111111111111111,
             "#46039f"
            ],
            [
             0.2222222222222222,
             "#7201a8"
            ],
            [
             0.3333333333333333,
             "#9c179e"
            ],
            [
             0.4444444444444444,
             "#bd3786"
            ],
            [
             0.5555555555555556,
             "#d8576b"
            ],
            [
             0.6666666666666666,
             "#ed7953"
            ],
            [
             0.7777777777777778,
             "#fb9f3a"
            ],
            [
             0.8888888888888888,
             "#fdca26"
            ],
            [
             1,
             "#f0f921"
            ]
           ],
           "sequentialminus": [
            [
             0,
             "#0d0887"
            ],
            [
             0.1111111111111111,
             "#46039f"
            ],
            [
             0.2222222222222222,
             "#7201a8"
            ],
            [
             0.3333333333333333,
             "#9c179e"
            ],
            [
             0.4444444444444444,
             "#bd3786"
            ],
            [
             0.5555555555555556,
             "#d8576b"
            ],
            [
             0.6666666666666666,
             "#ed7953"
            ],
            [
             0.7777777777777778,
             "#fb9f3a"
            ],
            [
             0.8888888888888888,
             "#fdca26"
            ],
            [
             1,
             "#f0f921"
            ]
           ]
          },
          "colorway": [
           "#636efa",
           "#EF553B",
           "#00cc96",
           "#ab63fa",
           "#FFA15A",
           "#19d3f3",
           "#FF6692",
           "#B6E880",
           "#FF97FF",
           "#FECB52"
          ],
          "font": {
           "color": "#2a3f5f"
          },
          "geo": {
           "bgcolor": "white",
           "lakecolor": "white",
           "landcolor": "#E5ECF6",
           "showlakes": true,
           "showland": true,
           "subunitcolor": "white"
          },
          "hoverlabel": {
           "align": "left"
          },
          "hovermode": "closest",
          "mapbox": {
           "style": "light"
          },
          "paper_bgcolor": "white",
          "plot_bgcolor": "#E5ECF6",
          "polar": {
           "angularaxis": {
            "gridcolor": "white",
            "linecolor": "white",
            "ticks": ""
           },
           "bgcolor": "#E5ECF6",
           "radialaxis": {
            "gridcolor": "white",
            "linecolor": "white",
            "ticks": ""
           }
          },
          "scene": {
           "xaxis": {
            "backgroundcolor": "#E5ECF6",
            "gridcolor": "white",
            "gridwidth": 2,
            "linecolor": "white",
            "showbackground": true,
            "ticks": "",
            "zerolinecolor": "white"
           },
           "yaxis": {
            "backgroundcolor": "#E5ECF6",
            "gridcolor": "white",
            "gridwidth": 2,
            "linecolor": "white",
            "showbackground": true,
            "ticks": "",
            "zerolinecolor": "white"
           },
           "zaxis": {
            "backgroundcolor": "#E5ECF6",
            "gridcolor": "white",
            "gridwidth": 2,
            "linecolor": "white",
            "showbackground": true,
            "ticks": "",
            "zerolinecolor": "white"
           }
          },
          "shapedefaults": {
           "line": {
            "color": "#2a3f5f"
           }
          },
          "ternary": {
           "aaxis": {
            "gridcolor": "white",
            "linecolor": "white",
            "ticks": ""
           },
           "baxis": {
            "gridcolor": "white",
            "linecolor": "white",
            "ticks": ""
           },
           "bgcolor": "#E5ECF6",
           "caxis": {
            "gridcolor": "white",
            "linecolor": "white",
            "ticks": ""
           }
          },
          "title": {
           "x": 0.05
          },
          "xaxis": {
           "automargin": true,
           "gridcolor": "white",
           "linecolor": "white",
           "ticks": "",
           "title": {
            "standoff": 15
           },
           "zerolinecolor": "white",
           "zerolinewidth": 2
          },
          "yaxis": {
           "automargin": true,
           "gridcolor": "white",
           "linecolor": "white",
           "ticks": "",
           "title": {
            "standoff": 15
           },
           "zerolinecolor": "white",
           "zerolinewidth": 2
          }
         }
        },
        "xaxis": {
         "anchor": "y",
         "domain": [
          0,
          1
         ],
         "title": {
          "text": "x"
         }
        },
        "yaxis": {
         "anchor": "x",
         "domain": [
          0,
          1
         ],
         "title": {
          "text": "index"
         }
        }
       }
      }
     },
     "metadata": {},
     "output_type": "display_data"
    }
   ],
   "source": [
    "## same as previous, just make for the presentation\n",
    "pca = PCA(n_components=2)\n",
    "\n",
    "pcaData = pca.fit_transform(cleaned_normalize)\n",
    "\n",
    "PCAfig = px.scatter(\n",
    "    pcaData,\n",
    "    x=0,\n",
    "    y=1,\n",
    "    title='PCA of Features',\n",
    "    labels={'0': 'Principal Component 1', '1': 'Principal Component 2'}\n",
    ")\n",
    "\n",
    "PCAfig.show()\n",
    "\n",
    "explained_variance = pca.explained_variance_ratio_\n",
    "explained_variance_df = pd.DataFrame({\n",
    "    'Component': ['Component 1', 'Component 2'],\n",
    "    'Explained Variance': explained_variance\n",
    "})\n",
    "\n",
    "PCAVARfig = px.bar(['Component 1', 'Component 2'], explained_variance, color=0)\n",
    "PCAVARfig.show()\n"
   ]
  },
  {
   "cell_type": "markdown",
   "id": "faed395b-da32-4182-9b73-d8bb18836870",
   "metadata": {
    "jp-MarkdownHeadingCollapsed": true
   },
   "source": [
    "## 4.3 SVD"
   ]
  },
  {
   "cell_type": "code",
   "execution_count": 24,
   "id": "29360f8f-534b-4e89-8280-e3ce55a150f9",
   "metadata": {},
   "outputs": [
    {
     "name": "stdout",
     "output_type": "stream",
     "text": [
      "     Component  Explained Variance\n",
      "0  Component 1            0.460264\n",
      "1  Component 2            0.384714\n"
     ]
    },
    {
     "data": {
      "image/png": "[encoded data removed]",
      "text/plain": [
       "<Figure size 640x480 with 1 Axes>"
      ]
     },
     "metadata": {},
     "output_type": "display_data"
    }
   ],
   "source": [
    "from sklearn.decomposition import TruncatedSVD\n",
    "\n",
    "# Same as 4.1\n",
    "# Severity is the target variable, what we want to predict\n",
    "# seperate the Severity column\n",
    "X = cleaned_normalize.drop(columns=['Severity'])\n",
    "y = cleaned_normalize['Severity']\n",
    "\n",
    "# apply Truncated SVD to reduce the dimensionality to 2 components\n",
    "# the reason of n_components=2 is same as 4.2\n",
    "svd = TruncatedSVD(n_components=2)\n",
    "X_svd = svd.fit_transform(X)\n",
    "\n",
    "\n",
    "# Show the explained variance ratio for each component\n",
    "explained_variance = svd.explained_variance_ratio_\n",
    "explained_variance_df = pd.DataFrame({\n",
    "    'Component': ['Component 1', 'Component 2'],\n",
    "    'Explained Variance': explained_variance\n",
    "})\n",
    "# Print table of explained variance\n",
    "print(explained_variance_df)\n",
    "\n",
    "# Bar plot to show the explained variance ratio of each component\n",
    "plt.bar(['Component 1', 'Component 2'], explained_variance, color='lightgreen')\n",
    "plt.title('Explained Variance by SVD Components')\n",
    "plt.xlabel('Components')\n",
    "plt.ylabel('Explained Variance Ratio')\n",
    "plt.show()\n"
   ]
  },
  {
   "cell_type": "code",
   "execution_count": 25,
   "id": "80a128d5-951b-45fd-84a6-88abd36ee18e",
   "metadata": {},
   "outputs": [
    {
     "data": {
      "application/vnd.plotly.v1+json": {
       "config": {
        "plotlyServerURL": "https://plot.ly"
       },
       "data": [
        {
         "hovertemplate": "Principal Component 1=%{x}<br>Principal Component 2=%{y}<extra></extra>",
         "legendgroup": "",
         "marker": {
          "color": "#636efa",
          "symbol": "circle"
         },
         "mode": "markers",
         "name": "",
         "orientation": "v",
         "showlegend": false,
         "type": "scatter",
         "x": [
          8.184814904918971,
          8.613711543142951,
          4.738699236462832,
          7.3008652413515716,
          6.865613113400695,
          4.628430893667721,
          5.196910831958953,
          4.782026543977531,
          4.7629873102166,
          6.352869595308469,
          5.286172370331789,
          4.844197538548089,
          6.858101510516498,
          8.145763931292773,
          6.645175685106141,
          8.629592206751184,
          8.601567506266068,
          8.076697739838167,
          6.1436487217474305,
          8.15697381148682,
          8.159776281535331,
          4.325105205268435,
          4.788209540653204,
          5.205896298683137,
          7.307944045288583,
          6.5736631237072105,
          3.93766756119348,
          4.75925068348525,
          7.75627436679918,
          8.619316483239976,
          8.622118953288487,
          4.795104737537251,
          8.196958941795856,
          4.347881065760715,
          7.702104393196362,
          7.709577646659059,
          7.015098248333761,
          8.175656945143563,
          4.758316526802414,
          5.191883948440579,
          5.2096329254144855,
          4.794170580854415,
          7.717050900121757,
          8.52689637471444,
          8.168183691680866,
          4.735896766414321,
          5.080871730555063,
          4.772328877044972,
          7.285707891953453,
          6.3655600138819715,
          7.899047911901162,
          7.723762489952842,
          4.215414919051973,
          8.160710438218167,
          7.3055360247657575,
          7.095557927035376,
          7.53940107218475,
          5.928033183387626,
          8.15697381148682,
          8.083236836618028,
          5.180674068246533,
          4.765789780265111,
          7.42549535995396,
          8.172854475095052,
          7.65656461186391,
          4.764855623582274,
          4.7792240739290195,
          7.720603919800142,
          8.55678938856523,
          8.154171341438309,
          4.748396903395392,
          4.7741971904106455,
          8.056146292815749,
          6.561702693883291,
          8.596896722851882,
          8.169117848363703,
          7.723589996901617,
          8.10565659700612,
          8.168183691680866,
          8.602501662948905,
          7.51978378184517,
          8.167249534998028,
          4.7620531535337625,
          8.184814904918971,
          8.63426299016537,
          5.201225515268951,
          4.332578458731133,
          8.6174481698743,
          8.165381221632355,
          7.530993662039217,
          4.750843273339716,
          8.583646036240937,
          8.596724229800659,
          4.7741971904106455,
          6.128885821874999,
          6.773358823386914,
          7.001269505144165,
          8.169117848363703,
          5.188147321709231,
          5.608636549787676,
          5.189081478392067,
          8.64080208694523,
          4.8572757321078095,
          4.772328877044972,
          8.172670868042088,
          8.639867930262394,
          5.169464188052486,
          7.432968613416657,
          7.4245612032711215,
          4.7629873102166,
          8.618382326557137,
          4.768014193734973,
          8.544645351688347,
          8.152303028072634,
          7.429231986685309,
          8.510843218054983,
          4.7302918263172975,
          4.321368578537086,
          8.628658050068347,
          8.141093147878587,
          7.74489199355391,
          8.161644594901006,
          4.744304176559855,
          7.727326623632966,
          6.285061160108489,
          4.832053501671205,
          4.75925068348525,
          8.185932668654772,
          4.755514056753902,
          8.168183691680866,
          5.231474629223929,
          4.763921466899436,
          5.195620575171928,
          6.787371173629472,
          7.965311633307255,
          6.1445762038908,
          7.890640501755627,
          8.626789736702673,
          6.0988203149729845,
          7.051836169994991,
          3.9077745473426897,
          5.651607757198187,
          5.913086676462231,
          8.630526363434022,
          4.755514056753902,
          6.5639654567746515,
          4.765789780265111,
          4.550023135384743,
          4.548154822019069,
          5.191883948440579,
          8.612777386460115,
          8.18032772855775,
          5.92336239997344,
          6.983520528170259,
          8.165381221632355,
          5.19842304522044,
          4.748040803291205,
          6.355855672409945,
          7.728260780315803,
          7.724524153584455,
          5.6450686604183264,
          8.619316483239976,
          8.517554807886068,
          7.89624544185265,
          7.523520408576518,
          4.748396903395392,
          8.173788631777889,
          5.208698768731649,
          4.755514056753902,
          4.1015092068211825,
          8.177525258509238,
          6.089478748144612,
          5.187213165026393,
          7.301799398034408,
          5.1900156350749045,
          4.109916616966717,
          4.742435863194181,
          7.735906526829725,
          4.747106646608367,
          7.530059505356379,
          7.252839915002927,
          8.174722788460727,
          8.631460520116859,
          7.32137833895249,
          7.719853370170269,
          8.167249534998028,
          4.752711586705391,
          5.195620575171928,
          7.271523048659671,
          7.4348369267823315,
          8.626789736702673,
          6.338106695436037,
          8.1765911018264,
          8.616514013191463,
          8.169117848363703,
          7.251905758320089,
          8.168183691680866,
          3.07594737642174,
          7.5179154684794955,
          6.295336883619698,
          8.624921423336998,
          5.208698768731649,
          6.831983472818555,
          4.750843273339716,
          4.769882507100647,
          4.8572757321078095,
          7.071453460334572,
          6.998650642148617,
          6.9668893149321525,
          9.034778827800046,
          8.061395132808585,
          8.168183691680866,
          5.203449928738814,
          8.60063334958323,
          7.536598602136239,
          6.566767926823163,
          8.181261885240586,
          7.414285479759913,
          7.964377476624419,
          8.149500558024123,
          8.605304132997418,
          4.7620531535337625,
          4.127087537361974,
          4.765789780265111,
          5.637595406955629,
          3.4880291943546498,
          5.631056310175769,
          4.7499091166568785,
          4.7545799000710645,
          7.964377476624419,
          8.15697381148682,
          6.168253720533517,
          7.536598602136239,
          6.992111545368757,
          6.089478748144612,
          7.447915120342053,
          4.7573823701195765,
          7.524454565259356,
          6.624991452189649,
          7.709577646659059,
          4.734962609731483,
          8.167422028049252,
          4.362471472581923,
          4.7545799000710645,
          4.760540940272275,
          4.327907675316947,
          7.531927818722053,
          8.615579856508626,
          8.201629725210042,
          4.760184840168088,
          8.609974916411604,
          7.704906863244873,
          7.443244336927867,
          8.622118953288487,
          7.723589996901617,
          8.187800982020446,
          7.5076397449682855,
          7.696499453099339,
          5.492597448383785,
          6.112649058162578,
          4.742435863194181,
          4.770460563679297,
          8.61464569982579,
          6.081438552105004,
          8.179393571874913,
          8.517554807886068,
          5.207581004995848,
          5.904679266316696,
          5.612373176519025,
          4.752711586705391,
          8.184064355289099,
          5.183476538295044,
          5.184410694977881,
          5.720673948652792,
          8.157907968169656,
          7.5468743256474475,
          8.172854475095052,
          5.188147321709231,
          8.152303028072634,
          4.542193781817858,
          5.654977169823609,
          5.192818105123417,
          8.155105498121145,
          8.160710438218167,
          7.980258140232651,
          8.181261885240586,
          4.7545799000710645,
          8.170052005046541,
          6.09695200160731,
          7.72265584021878,
          8.529698844762951,
          7.510442215016798,
          4.758316526802414,
          7.700236079830687,
          8.170802554676413,
          4.7545799000710645,
          4.7741971904106455,
          7.528191191990704,
          5.2171061788771835,
          8.175656945143563,
          8.160710438218167,
          6.127779172140937,
          5.632924623541443,
          7.709577646659059,
          7.7179850568045945,
          5.199357201903276,
          6.347264655211447,
          8.175656945143563,
          4.766723936947948,
          8.170052005046541,
          7.615289224767849,
          7.288904811527651,
          7.718919213487431,
          8.141093147878587,
          7.336529013811141,
          7.446046806976378,
          7.652471885028374,
          8.177525258509238,
          6.99117738868592,
          7.267786421928322,
          6.535373813712625,
          8.145763931292773,
          7.715182586756082,
          8.151368871389796,
          4.745238333242693,
          8.162578751583842,
          7.263115638514136,
          8.179393571874913,
          4.855407418742135,
          4.7573823701195765,
          4.741501706511344,
          7.693696983050827,
          7.21797030670737,
          5.497268231797971,
          7.435771083465168,
          8.613711543142951,
          7.26274842440821,
          4.747106646608367,
          7.687157886270966,
          6.092281218193124,
          7.501100648188425,
          8.184064355289099,
          7.981192296915488,
          7.7280771732628395,
          8.179393571874913,
          6.0913470615102865,
          7.696499453099339,
          8.162578751583842,
          6.831232923188681,
          4.743370019877019,
          6.670214308489782,
          6.856271546572322,
          5.685804340357237,
          4.739633393145669,
          8.609974916411604,
          8.181261885240586,
          7.717050900121757,
          5.182542381612207,
          4.75925068348525,
          6.960350218152293,
          6.056544014430818,
          7.983994766964,
          8.64080208694523,
          4.772328877044972,
          8.61090907309444,
          4.72935766963446,
          4.7620531535337625,
          8.63799961689672,
          7.728260780315803,
          4.742435863194181,
          7.741155366822561,
          4.748040803291205,
          8.609974916411604,
          4.771394720362134,
          4.76952640699646,
          4.761118996850925,
          4.74617248992553,
          4.767658093630786,
          7.730301586732702,
          4.74617248992553,
          7.690894513002315,
          4.758316526802414,
          6.090412904827449,
          4.755514056753902,
          4.771394720362134,
          5.176003284832347,
          5.193752261806253,
          5.270291706723556,
          8.60063334958323,
          7.429231986685309,
          8.603435819631743,
          8.608106603045929,
          4.843263381865252,
          7.2937592019948,
          8.165381221632355,
          4.7629873102166,
          7.430166143368146,
          8.63426299016537,
          7.192748076270766,
          5.176003284832347,
          4.741501706511344,
          5.188147321709231,
          5.606768236422002,
          7.710328196288932,
          8.152303028072634,
          8.625855580019836,
          8.629592206751184,
          5.185344851660719,
          5.67459446016319,
          8.64080208694523,
          7.530059505356379,
          8.61090907309444,
          4.090299326627136,
          4.75925068348525,
          8.630526363434022,
          4.734028453048646,
          8.62772389338551,
          6.0913470615102865,
          3.482068154153439,
          8.620250639922812,
          7.294509751624673,
          7.288904811527651,
          8.077631896521005,
          7.298246378356023,
          5.648621680096712,
          5.190949791757742,
          5.512056957663336,
          5.175069128149509,
          8.62772389338551,
          5.18160822492937,
          5.277764960186254,
          5.207764612048812,
          4.964907423366165,
          5.6207805866645595,
          5.2730941767720685,
          8.622118953288487,
          4.732160139682972,
          5.203093828634626,
          8.621184796605649,
          7.530993662039217,
          7.733682113359864,
          9.276123803221205,
          4.533208315093674,
          5.185344851660719,
          5.171332501418161,
          6.973428411712013,
          6.112832665215542,
          8.620250639922812,
          6.986506605271734,
          8.637065460213881,
          8.143895617927098,
          6.995664565047143,
          7.4544542171219135,
          6.868415583449206,
          7.267419207822396,
          7.00313781850984,
          5.202159671951788,
          5.190949791757742,
          6.554807496999242,
          6.539860990073847,
          4.755514056753902,
          4.748974959974041,
          8.61090907309444,
          5.187213165026393,
          4.736830923097158,
          6.8416922537528535,
          5.641148426634015,
          4.771394720362134,
          4.758316526802414,
          5.736371005208062,
          8.086039306666539,
          4.7629873102166,
          4.74617248992553,
          8.071092799741145,
          7.51978378184517,
          8.1765911018264,
          7.174432156719949,
          8.161644594901006,
          7.4908249246772165,
          8.527830531397276,
          8.078566053203842,
          8.068117836641408,
          7.732931563729989,
          7.438573553513681,
          7.302733554717245,
          6.635083568647895,
          5.200291358586114,
          8.602501662948905,
          7.523520408576518,
          4.843263381865252,
          4.764855623582274,
          8.168183691680866,
          8.621184796605649,
          4.763921466899436,
          4.753645743388227,
          7.749562776968096,
          8.603435819631743,
          8.61464569982579,
          8.53997456827416,
          7.7105118033418965,
          4.776999660459158,
          7.33449488193371,
          5.654977169823609,
          8.60063334958323,
          5.644885053365363,
          6.993796251681468,
          6.56116298672614,
          7.44511265029354,
          8.616514013191463,
          6.6341494119650575,
          7.203957956464812,
          8.18032772855775,
          5.217818379085559,
          5.178805754880858,
          7.442310180245029,
          4.772328877044972,
          8.522225591300254,
          8.623053109971323,
          4.740567549828507,
          8.599699192900394,
          4.764855623582274,
          5.192818105123417,
          5.212435395462998,
          8.608106603045929,
          7.527257035307867,
          5.193752261806253,
          8.613711543142951,
          5.176003284832347,
          4.752711586705391,
          6.562097143408977,
          8.623053109971323,
          6.568636240188837,
          6.568636240188837,
          8.164447064949517,
          6.059952948399749,
          8.170052005046541,
          5.188147321709231,
          5.263752609943697,
          5.213369552145835,
          8.157907968169656,
          8.169117848363703,
          6.978099195126199,
          3.466187490545207,
          8.174722788460727,
          7.708643489976223,
          8.820136621194948,
          7.622762478230547,
          4.764855623582274,
          8.609040759728765,
          6.559294673360466,
          6.868415583449206,
          7.71611674343892,
          7.276010225020894,
          5.312145150398268,
          7.704906863244873,
          7.276944381703731,
          7.242564191491717,
          5.4813875681897395,
          5.172266658100998,
          4.761118996850925,
          5.196554731854765,
          4.745238333242693,
          7.7133142733904085,
          5.937152793741536,
          8.168183691680866,
          7.524454565259356,
          7.702104393196362,
          6.834785942867066,
          7.435771083465168,
          8.796032154494144,
          7.538466915501914,
          5.1703983447353234,
          5.218040335560021,
          6.995664565047143,
          5.286172370331789,
          7.00255976193119,
          8.168183691680866,
          7.058375266774852,
          4.847934165279438,
          4.763921466899436,
          6.647978155154652,
          4.768592250313623,
          7.706775176610548,
          4.765789780265111,
          6.471868947820903,
          5.2973822505258354,
          5.179739911563695,
          5.203093828634626,
          4.7302918263172975,
          6.647978155154652,
          8.622118953288487,
          7.88316724829293,
          5.6926995372412845,
          6.122346725095138,
          8.814715288150888,
          8.358911713177593,
          4.77606550377632,
          4.739633393145669,
          5.199357201903276,
          8.168183691680866,
          8.177525258509238,
          4.780158230611856,
          7.758904343796468,
          8.171920318412214,
          5.18160822492937,
          5.2049621420003,
          5.710398225141583,
          8.167249534998028,
          4.767658093630786,
          5.169464188052486,
          4.548154822019069,
          4.7620531535337625,
          5.210567082097323,
          6.649846468520327,
          7.432968613416657,
          4.760184840168088,
          6.5639654567746515,
          5.202159671951788,
          5.205896298683137,
          4.73309429636581,
          5.173200814783835,
          8.170986161729378,
          5.204027985317462,
          7.711445960024734,
          7.435771083465168,
          4.772328877044972,
          5.179739911563695,
          7.737774840195399,
          4.761118996850925,
          7.442310180245029,
          8.169117848363703,
          8.16351290826668,
          8.61464569982579,
          7.702104393196362,
          7.416153793125588,
          7.288154261897777,
          7.719853370170269,
          7.712380116707571,
          4.761475096955112,
          7.720787526853106,
          7.082663340528619,
          6.542663460122359,
          7.899047911901162,
          7.296378064990348,
          4.7629873102166,
          3.4749510007949294,
          7.717050900121757,
          7.446980963659215,
          6.652648938568838,
          4.107114146918206,
          5.190949791757742,
          4.743370019877019,
          4.766723936947948,
          4.741501706511344,
          4.092167639992811,
          8.611843229777277,
          5.295513937160161,
          6.055116346473807,
          4.854473262059298,
          4.767080037052136,
          6.632281098599383,
          7.527257035307867,
          5.202159671951788,
          6.994730408364306,
          4.83392181503688,
          6.62609810192371,
          6.561519086830327,
          4.1136532436980655,
          8.157907968169656,
          7.736840683512561,
          8.187800982020446,
          5.21150123878016,
          5.153344274629762,
          7.709577646659059,
          7.7601946005834925,
          5.178805754880858,
          5.199357201903276,
          6.1156351352640534,
          7.711618453075957,
          7.740577310243911,
          5.202159671951788,
          8.160710438218167,
          6.134134661867835,
          8.629592206751184,
          7.729945486628514,
          6.832350686924482,
          5.2049621420003,
          7.941785223185102,
          6.111147958902831,
          6.130398035136485,
          4.753645743388227,
          5.2025157720559765,
          7.714248430073245,
          5.215237865511509,
          4.7573823701195765,
          4.01514116279362,
          4.771394720362134,
          8.162578751583842,
          7.733865720412827,
          4.7377650797799955,
          7.560125012258394,
          8.185932668654772,
          6.540795146756684,
          8.36264833990894,
          8.155105498121145,
          5.21150123878016,
          8.625855580019836,
          5.189081478392067,
          7.10058481055375,
          5.641148426634015,
          5.196554731854765,
          4.740567549828507,
          4.775131347093483,
          8.164447064949517,
          4.76894835041781,
          4.745238333242693,
          4.338183398828156,
          5.2049621420003,
          5.604899923056327,
          5.95325541382423,
          5.2171061788771835,
          4.760540940272275,
          5.711332381824421,
          4.7545799000710645,
          7.881298934927255,
          7.518849625162332,
          4.751777430022553,
          6.64237321505763,
          5.193752261806253,
          7.510442215016798,
          7.755918266694993,
          8.6174481698743,
          8.166315378315192,
          7.7030385498791984,
          6.200187540801205,
          8.157907968169656,
          7.41521963644275,
          8.177525258509238,
          4.748974959974041,
          3.4503068269369743,
          4.7302918263172975,
          8.620250639922812,
          5.203093828634626,
          8.144829774609937,
          7.951299283064698,
          6.5510708702678935,
          5.2143037088286714,
          5.625451370078745,
          5.914631390256117,
          6.8099309265363885,
          7.427363673319634,
          7.968114103355767,
          8.155105498121145,
          4.740567549828507,
          6.867647245278125,
          6.650780625203163,
          4.75925068348525,
          8.620250639922812,
          7.715182586756082,
          7.472515679665868,
          6.830482373558807,
          3.9852481489428304,
          7.53940107218475,
          3.9834440109915863,
          4.750843273339716,
          6.641622665427755,
          7.892508815121301,
          7.71611674343892,
          5.201225515268951,
          7.084348046841329,
          7.078743106744306,
          7.51324468506531,
          4.751777430022553,
          8.165381221632355,
          7.975587356818465,
          4.755514056753902,
          5.210567082097323,
          6.627610315185197,
          7.979323983549813,
          4.7545799000710645,
          7.989599707061023,
          4.745238333242693,
          7.964377476624419,
          7.436705240148006,
          5.737488768943862,
          7.891574658438464,
          4.760184840168088,
          7.066599069867422,
          6.541545696386558,
          4.751777430022553,
          5.1900156350749045,
          7.5225862518936815,
          5.175069128149509,
          7.5179154684794955,
          5.2049621420003,
          6.800589359708017,
          4.731225983000135,
          7.72265584021878,
          4.73309429636581,
          6.983704135223223,
          7.0649143635547125,
          4.777355760563345,
          5.207764612048812,
          4.7629873102166,
          4.860078202156322,
          6.553873340316406,
          7.446980963659215,
          4.772328877044972,
          6.559294673360466,
          7.50950805833396,
          6.98463829190606,
          7.723406389848654,
          3.9301943077307824,
          6.860008173303671,
          5.2049621420003,
          6.562097143408977,
          7.885969718341441,
          7.515112998430984,
          5.199357201903276,
          5.605411222871709,
          8.622118953288487,
          7.528191191990704,
          6.56116298672614,
          5.182542381612207,
          7.51324468506531,
          5.193752261806253,
          7.969982416721441,
          7.89624544185265,
          8.621184796605649,
          6.5510708702678935
         ],
         "xaxis": "x",
         "y": [
          1.024867073827301,
          1.3876264303453283,
          -2.0718832904915008,
          0.30437216019951374,
          -0.3791846533779972,
          -1.107668901863612,
          -0.9437119052266857,
          -1.309162582856283,
          -2.07654824708489,
          1.1589002841002012,
          -1.5830762059495433,
          -1.9433236627634374,
          0.8423249171321312,
          0.7103493660281492,
          0.45736721455901863,
          1.3845762664188812,
          1.389958908642023,
          0.5747923034100019,
          1.052795980341515,
          0.7081963091388925,
          0.7076580449165786,
          -1.6665392971511683,
          -2.0813926250857175,
          -1.7164802116784341,
          0.7520368958132647,
          1.0933225085405534,
          -1.2662191032191012,
          -2.075830561455138,
          1.4330818096866422,
          1.3865499019007,
          1.3860116376783855,
          -1.311674482560416,
          1.0225345955306062,
          -0.8998713185523135,
          0.028407345117581473,
          0.026971973858076703,
          1.0046492798886297,
          0.7046078809901315,
          -2.0756511400477,
          -1.7137888905668635,
          -1.7171978973081865,
          -1.311495061152978,
          0.025536602598572378,
          1.2554783744685039,
          0.7060432522496358,
          -2.0713450262691864,
          -2.011951602249532,
          -2.078342461159271,
          0.43428960268022776,
          0.6649853764628789,
          1.7251441935164173,
          1.1173081520354242,
          -1.4734784223080855,
          0.7074786235091406,
          0.3034750531623229,
          0.8159998787059699,
          1.175888492704988,
          -2.0554333461090284,
          0.7081963091388925,
          0.5735363535579355,
          -1.7116358336776067,
          -2.077086511307204,
          1.0489436576438669,
          0.7051461452124459,
          0.9813922466024005,
          -2.076907089899766,
          -1.308624318633969,
          0.34687232388037037,
          1.2497368894304857,
          0.7087345733612069,
          -1.3027034121885133,
          -2.078701303974147,
          0.5787395743736393,
          0.7736015799256981,
          1.390856015679213,
          0.7058638308421978,
          0.024280652746506037,
          0.5692302397794221,
          0.7060432522496358,
          1.389779487234585,
          1.179656342261187,
          0.7062226736570738,
          -2.076368825677452,
          1.024867073827301,
          1.3836791593816908,
          -1.715583104641244,
          -1.6679746684106727,
          1.386908744715576,
          0.7065815164719502,
          1.1775032853719303,
          -2.0742157687881955,
          0.3003404160944275,
          0.29782851639029484,
          -2.078701303974147,
          0.7336133159489737,
          1.5232744332851702,
          0.6852871940886501,
          0.7058638308421978,
          -1.713071204937111,
          -1.348697055752142,
          -1.7132506263445493,
          1.3824232095296245,
          -1.94583556246757,
          -2.078342461159271,
          1.0271995521239956,
          1.3826026309370625,
          -1.70948277678835,
          1.047508286384363,
          1.0491230790513053,
          -2.07654824708489,
          1.386729323308138,
          -1.3064712617447123,
          1.2520693677271808,
          0.7090934161760829,
          1.048225972014115,
          0.1655010391060321,
          -2.070268497824558,
          -1.665821611521416,
          1.3847556878263192,
          0.7112464730653396,
          0.342207367286981,
          0.7072992021017022,
          -2.0729598189361287,
          0.023562967116753653,
          -1.8276927879868348,
          -1.9409911844667427,
          -2.075830561455138,
          0.7026342455083128,
          -2.0751128758253854,
          0.7060432522496358,
          -0.9503504973018938,
          -2.076727668492328,
          -1.7145065761966156,
          1.5205831121735995,
          1.8612395203568788,
          1.9931196737405221,
          1.7267589861833597,
          1.3851145306411952,
          -0.3536726983019267,
          0.5023792779440084,
          -1.2604776181810835,
          -1.3569504404942925,
          -2.052562603590019,
          1.3843968450114432,
          -2.0751128758253854,
          0.32414263023756595,
          -2.077086511307204,
          -1.2414317504073789,
          -1.2410729075925027,
          -1.7137888905668635,
          1.3878058517527663,
          0.7037107739529411,
          -2.0545362390718376,
          0.6886962008299732,
          0.7065815164719502,
          -1.7150448404189298,
          -2.073677504565881,
          0.836308612966337,
          0.023383545709315667,
          0.024101231339068052,
          -1.3556944906422261,
          1.3865499019007,
          1.2572725885428842,
          1.7256824577387313,
          1.178938656631435,
          -1.3027034121885133,
          0.7049667238050075,
          -1.7170184759007483,
          -2.0751128758253854,
          -1.6004232573692063,
          0.7042490381752555,
          -0.3518784842275462,
          -1.712891783529673,
          0.30419273879207576,
          -1.7134300477519873,
          -1.6020380500361489,
          -2.0726009761212527,
          1.1149756737387295,
          -2.073498083158443,
          1.1776827067793683,
          -0.6524581473483582,
          0.7047873023975695,
          1.3842174236040052,
          1.5204990884865,
          0.024998338376258422,
          0.7062226736570738,
          -2.0745746116030714,
          -1.7145065761966156,
          -0.6560465754971192,
          1.0471494435694866,
          1.3851145306411952,
          0.83971761970766,
          0.7044284595826935,
          1.3870881661230139,
          0.7058638308421978,
          -0.6522787259409202,
          0.7060432522496358,
          -0.728463608907407,
          1.1800151850760634,
          -1.829666423468653,
          1.3854733734560716,
          -1.7170184759007483,
          -0.3727254827102271,
          -2.0742157687881955,
          -1.3068301045595883,
          -1.94583556246757,
          0.49861142838780936,
          0.36377205139941393,
          0.3698723792523081,
          0.980847065745491,
          -0.1933110464483574,
          0.7060432522496358,
          -0.944967855078752,
          1.390138330049461,
          1.1764267569273024,
          0.3236043660152518,
          0.7035313525455031,
          1.0510967145331236,
          1.8614189417643172,
          0.7096316803983973,
          1.3892412230122706,
          -2.076368825677452,
          -0.8342935429926658,
          -2.077086511307204,
          -1.3542591193827218,
          -0.36247466705549536,
          -1.3530031695306552,
          -2.0740363473807575,
          -2.0749334544179474,
          1.8614189417643172,
          0.7081963091388925,
          -0.8622224495068797,
          1.1764267569273024,
          0.3650280012514807,
          -0.3518784842275462,
          1.044637543865354,
          -2.075471718640262,
          1.178759235223997,
          -0.18279232830044445,
          0.026971973858076703,
          -2.0711656048617484,
          1.799250172945992,
          -1.6737161534486904,
          -2.0749334544179474,
          -1.305035890485208,
          -1.6670775613734823,
          1.1773238639644923,
          1.3872675875304519,
          1.0216374884934158,
          -2.076009982862576,
          1.3883441159750802,
          0.027869080895267073,
          1.0455346509025443,
          1.3860116376783855,
          0.024280652746506037,
          0.7022754026934368,
          1.1819888205578817,
          0.029483873562209828,
          -2.4169367527749883,
          -0.034310612501947335,
          -2.0726009761212527,
          -2.0779836183443945,
          1.3874470089378899,
          -0.994370505383704,
          0.7038901953603791,
          1.2572725885428842,
          -1.3947856475817604,
          -2.050947810923077,
          -1.3494147413818942,
          -2.0745746116030714,
          0.7029930883231892,
          -1.712174097899921,
          -1.712353519307359,
          -1.221393377876145,
          0.7080168877314545,
          1.1744531214454836,
          0.7051461452124459,
          -1.713071204937111,
          0.7090934161760829,
          -2.0109704715252423,
          -0.7135613123009446,
          -1.7139683119743014,
          0.708555151953769,
          0.7074786235091406,
          1.8583687778378701,
          0.7035313525455031,
          -2.0749334544179474,
          0.7056844094347599,
          -0.3533138554870505,
          0.024460074153944023,
          1.2549401102461895,
          1.1814505563355677,
          -2.0756511400477,
          0.028766187932457443,
          1.027558394938872,
          -2.0749334544179474,
          -2.078701303974147,
          1.1780415495942447,
          -1.7186332685676908,
          0.7046078809901315,
          0.7074786235091406,
          -0.3592347619325065,
          -1.3533620123455314,
          0.026971973858076703,
          0.025357181191134393,
          -1.7152242618263678,
          1.1599768125448295,
          0.7046078809901315,
          -2.077265932714642,
          0.7056844094347599,
          -0.10374071075924285,
          -0.015348768415342162,
          0.025177759783696407,
          0.7112464730653396,
          2.3310847608122307,
          1.0449963866802299,
          0.211135839854785,
          0.7042490381752555,
          0.3652074226589187,
          -0.6553288898673673,
          -0.3144021199549546,
          0.7103493660281492,
          0.025895445413448348,
          0.7092728375835209,
          -2.0731392403435667,
          0.7071197806942642,
          -0.6544317828301769,
          0.7038901953603791,
          -1.945476719652694,
          -2.075471718640262,
          -2.0724215547138147,
          0.030022137784523784,
          -0.15054698821861356,
          -2.4178338598121782,
          1.0469700221620486,
          1.3876264303453283,
          -0.010324969007076357,
          -2.073498083158443,
          0.031278087636590124,
          -0.3524167484498604,
          1.1832447704099485,
          0.7029930883231892,
          1.8581893564304321,
          0.34543695262086604,
          0.7038901953603791,
          -0.35223732704242217,
          0.029483873562209828,
          0.7071197806942642,
          -0.6945994682143392,
          -2.0727803975286907,
          0.7745762434697412,
          -0.3773904393036165,
          -0.7194822187464003,
          -2.0720627118989388,
          1.3883441159750802,
          0.7035313525455031,
          0.025536602598572378,
          -1.7119946764924827,
          -2.075830561455138,
          0.37112832910437443,
          3.275081355501448,
          1.8576510922081177,
          1.3824232095296245,
          -2.078342461159271,
          1.3881646945676422,
          -2.07008907641712,
          -2.076368825677452,
          1.3829614737519385,
          0.023383545709315667,
          -2.0726009761212527,
          0.34292505291673336,
          -2.073677504565881,
          1.3883441159750802,
          -2.0781630397518325,
          -2.0778041969369565,
          -2.076189404270014,
          -2.073318661751005,
          -2.07744535412208,
          1.1160522021833579,
          -2.073318661751005,
          0.03056040200683774,
          -2.0756511400477,
          -0.3520579056349842,
          -2.0751128758253854,
          -2.0781630397518325,
          -1.7107387266404164,
          -1.7141477333817394,
          -1.5800260420230967,
          1.390138330049461,
          1.048225972014115,
          1.3896000658271466,
          1.3887029587899566,
          -1.9431442413559994,
          -0.33829928236408235,
          0.7065815164719502,
          -2.07654824708489,
          1.048046550606677,
          1.3836791593816908,
          -0.14570261021778574,
          -1.7107387266404164,
          -2.0724215547138147,
          -1.713071204937111,
          -1.3483382129372659,
          0.3488459593621891,
          0.7090934161760829,
          1.3852939520486336,
          1.3845762664188812,
          -1.712532940714797,
          -0.7173291618571436,
          1.3824232095296245,
          1.1776827067793683,
          1.3881646945676422,
          -1.5982702004799496,
          -2.075830561455138,
          1.3843968450114432,
          -2.0709861834543104,
          1.3849351092337572,
          -0.35223732704242217,
          -1.132372230988235,
          1.3863704804932615,
          -0.016425296859970517,
          -0.015348768415342162,
          0.5746128820025639,
          -0.017142982489722458,
          -1.0343587693604284,
          -1.7136094691594252,
          2.463682599825626,
          -1.7105593052329784,
          1.3849351092337572,
          -1.7118152550850447,
          -1.581461413282601,
          -1.7168390544933103,
          -0.8759810727777813,
          -1.3510295340488367,
          -1.5805643062454107,
          1.3860116376783855,
          -2.070627340639434,
          -1.71594194745612,
          1.3861910590858235,
          1.1775032853719303,
          0.3443604241762377,
          0.911322019222206,
          -1.2382021650734938,
          -1.712532940714797,
          -1.7098416196032262,
          0.36861642940024175,
          -0.3563640194134976,
          1.3863704804932615,
          0.36610452969610907,
          1.3831408951593769,
          0.7107082088430252,
          0.6863637225332785,
          1.0433815940132876,
          -0.3797229176003112,
          -0.011222076044266727,
          0.6849283512737739,
          -1.715762526048682,
          -1.7136094691594252,
          0.003883437400396317,
          0.006754179919405412,
          -2.0751128758253854,
          -2.0738569259733195,
          1.3881646945676422,
          -1.712891783529673,
          -2.071524447676625,
          -1.018626510607708,
          -1.0329233981009236,
          -2.0781630397518325,
          -2.0756511400477,
          -0.902390134891042,
          0.5729980893356211,
          -2.07654824708489,
          -2.073318661751005,
          0.5758688318546302,
          1.179656342261187,
          0.7044284595826935,
          -0.7862209958921252,
          0.7072992021017022,
          1.1852184058917672,
          1.2552989530610654,
          0.5744334605951259,
          -0.5166204032119737,
          0.022486438672125297,
          1.0464317579397342,
          0.3040133173846369,
          0.13728744312928698,
          -1.715403683233806,
          1.389779487234585,
          1.178938656631435,
          -1.9431442413559994,
          -2.076907089899766,
          0.7060432522496358,
          1.3861910590858235,
          -2.076727668492328,
          -2.0747540330105094,
          0.3413102602497906,
          1.3896000658271466,
          1.3874470089378899,
          1.2529664747643707,
          0.026792552450638718,
          -2.079239568196461,
          0.2979129895317436,
          -0.7135613123009446,
          1.390138330049461,
          -1.033641083730676,
          0.6867225653481545,
          0.32468089445988013,
          1.0451758080876683,
          1.3870881661230139,
          0.13746686453672496,
          -0.14785566710704245,
          0.7037107739529411,
          -0.17668508381295478,
          -1.7112769908627306,
          1.0457140723099823,
          -2.078342461159271,
          1.2563754815056938,
          1.3858322162709475,
          -2.0722421333063767,
          1.390317751456899,
          -2.076907089899766,
          -1.7139683119743014,
          -1.7177361615305007,
          1.3887029587899566,
          1.1782209710016827,
          -1.7141477333817394,
          1.3876264303453283,
          -1.7107387266404164,
          -2.0745746116030714,
          0.32450147305244215,
          1.3858322162709475,
          0.3232455232003756,
          0.3232455232003756,
          0.7067609378793882,
          -0.9902438130126285,
          0.7056844094347599,
          -1.713071204937111,
          -1.57877009217103,
          -1.7179155829379387,
          0.7080168877314545,
          0.7058638308421978,
          0.3677193223630514,
          -1.129322067061788,
          0.7047873023975695,
          0.02715139526551469,
          0.5537658835198827,
          -0.10517608201874762,
          -2.076907089899766,
          1.3885235373825182,
          0.3250397372747561,
          -0.3797229176003112,
          0.025716024006010363,
          -0.3348902756227593,
          -1.266046598446259,
          0.027869080895267073,
          -0.33506969703019773,
          -0.6504845118665394,
          -2.4147836958857316,
          -1.7100210410106642,
          -2.076189404270014,
          -1.7146859976040536,
          -2.0731392403435667,
          0.026254288228324762,
          -0.5150999540212348,
          0.7060432522496358,
          1.178759235223997,
          0.028407345117581473,
          -0.37326374693254105,
          1.0469700221620486,
          0.23637743320172233,
          1.176067914112426,
          -1.709662198195788,
          -1.718812689975129,
          0.6863637225332785,
          -1.5830762059495433,
          1.4560818650585798,
          0.7060432522496358,
          0.501123328091942,
          -1.9440413483931893,
          -2.076727668492328,
          0.45682895033670445,
          -2.077624775529518,
          0.027510238080391103,
          -2.077086511307204,
          -2.6577854852560803,
          -1.5852292628388,
          -1.7114564122701685,
          -1.71594194745612,
          -2.070268497824558,
          0.45682895033670445,
          1.3860116376783855,
          1.7281943574428644,
          0.05023592377890129,
          0.7348692658010401,
          0.2327890050529613,
          -0.4468205375609121,
          -2.079060146789023,
          -2.0720627118989388,
          -1.7152242618263678,
          0.7060432522496358,
          0.7042490381752555,
          -1.308803740041407,
          0.3395160461754103,
          0.7053255666198839,
          -1.7118152550850447,
          -1.7163007902709961,
          -1.2194197423943267,
          0.7062226736570738,
          -2.07744535412208,
          -1.70948277678835,
          -1.2410729075925027,
          -2.076368825677452,
          -1.7173773187156245,
          0.45647010752182826,
          1.047508286384363,
          -2.076009982862576,
          0.32414263023756595,
          -1.715762526048682,
          -1.7164802116784341,
          -2.070806762046872,
          -1.7102004624181022,
          0.7055049880273219,
          -1.7161213688635581,
          0.026613131043200733,
          1.0469700221620486,
          -2.078342461159271,
          -1.7114564122701685,
          1.114616830923853,
          -2.076189404270014,
          1.0457140723099823,
          0.7058638308421978,
          0.7069403592868262,
          1.3874470089378899,
          0.028407345117581473,
          1.0507378717182476,
          -0.337222753919454,
          0.024998338376258422,
          0.026433709635762748,
          -1.305215311892646,
          0.024818916968819993,
          0.49645837149855265,
          0.006215915697091012,
          1.7251441935164173,
          -0.016784139674846488,
          -2.07654824708489,
          -0.35996276735136257,
          0.025536602598572378,
          1.0448169652727919,
          0.4559318432995141,
          -1.6014997858138347,
          -1.7136094691594252,
          -2.0727803975286907,
          -2.077265932714642,
          -2.0724215547138147,
          -1.5986290432948258,
          1.3879852731602043,
          -1.584870420023924,
          -3.0228773200708017,
          -1.945297298245256,
          -1.3062918403372743,
          0.13782570735160138,
          1.1782209710016827,
          -1.715762526048682,
          0.6865431439407165,
          -1.9413500272816187,
          0.9100557495810359,
          1.095654986837248,
          -1.602755735665901,
          0.7080168877314545,
          1.1147962523312915,
          0.7022754026934368,
          -1.7175567401230625,
          1.914247477606759,
          0.026971973858076703,
          1.1103107171453401,
          -1.7112769908627306,
          -1.7152242618263678,
          -0.3569022836358118,
          1.119640630332119,
          1.1140785667015392,
          -1.715762526048682,
          0.7074786235091406,
          -0.03843730487302277,
          1.3845762664188812,
          0.34507810980598963,
          -1.0168322965333272,
          -1.7163007902709961,
          0.7726975562539121,
          -0.6780585835101717,
          -0.037719619243270386,
          -2.0747540330105094,
          -0.944788433671314,
          0.026074866820886333,
          -1.7182744257528149,
          -2.075471718640262,
          -1.1322768332678965,
          -2.0781630397518325,
          0.7071197806942642,
          0.022307017264687312,
          -2.071703869084063,
          2.264968721030269,
          0.7026342455083128,
          0.006574758511966983,
          -0.4475382231906645,
          0.708555151953769,
          -1.7175567401230625,
          1.3852939520486336,
          -1.7132506263445493,
          1.5860768640461478,
          -1.0329233981009236,
          -1.7146859976040536,
          -2.0722421333063767,
          -2.078880725381585,
          0.7067609378793882,
          -1.3066506831521503,
          -2.0731392403435667,
          -1.669051196855301,
          -1.7163007902709961,
          -1.3479793701223897,
          -2.0602777241098558,
          -1.7186332685676908,
          -1.305035890485208,
          -1.2195991638017647,
          -2.0749334544179474,
          1.7285532002577404,
          1.179835763668625,
          -2.0743951901956335,
          0.4579054787813328,
          -1.7141477333817394,
          1.1814505563355677,
          0.6621077173092746,
          1.386908744715576,
          0.7064020950645122,
          0.028227923710143044,
          0.2247047219291446,
          0.7080168877314545,
          1.0509172931256856,
          0.7042490381752555,
          -2.0738569259733195,
          -1.1262719031353412,
          -2.070268497824558,
          1.3863704804932615,
          -1.71594194745612,
          0.7105287874355872,
          1.86393084146845,
          0.004601123030148702,
          -1.7180950043453767,
          -1.351926641086027,
          0.7979351416565547,
          -1.0125261827548138,
          1.048584814828991,
          1.8607012561345648,
          0.708555151953769,
          -2.0722421333063767,
          1.6539871179024903,
          0.4562906861143903,
          -2.075830561455138,
          1.3863704804932615,
          0.025895445413448348,
          -0.39580309458901786,
          -1.0164734537184512,
          -1.1265353482298788,
          1.175888492704988,
          2.2160830905796374,
          -2.0742157687881955,
          0.13603149327722064,
          1.7264001433684837,
          0.025716024006010363,
          -1.715583104641244,
          0.8181529355952266,
          0.819229464039855,
          1.1809122921132538,
          -2.0743951901956335,
          0.7065815164719502,
          1.8592658848750605,
          -2.0751128758253854,
          -1.7173773187156245,
          0.13872281438879175,
          1.8585481992453081,
          -2.0749334544179474,
          1.8565745637634894,
          -2.0731392403435667,
          1.8614189417643172,
          1.0467906007546106,
          -1.22462296321003,
          1.7265795647759217,
          -2.076009982862576,
          0.8215619423365497,
          0.3284487440160794,
          -2.0743951901956335,
          -1.7134300477519873,
          1.179118078038873,
          -1.7105593052329784,
          1.1800151850760634,
          -1.7163007902709961,
          -1.0107319686804335,
          -2.070447919231996,
          0.024460074153944023,
          -2.070806762046872,
          0.366642793918423,
          0.4998673782398757,
          -1.308265475819093,
          -1.7168390544933103,
          -2.07654824708489,
          -1.946373826689884,
          0.004062858807834302,
          1.0448169652727919,
          -2.078342461159271,
          0.3250397372747561,
          1.1816299777430057,
          0.36646337251098504,
          0.3463340596580564,
          -1.264783731959597,
          -0.37810812493336843,
          -1.7163007902709961,
          0.32450147305244215,
          1.72765609322055,
          1.1805534492983774,
          -1.7152242618263678,
          2.594574705850384,
          1.3860116376783855,
          1.1780415495942447,
          0.32468089445988013,
          -1.7119946764924827,
          1.1809122921132538,
          -1.7141477333817394,
          1.8603424133196889,
          1.7256824577387313,
          1.3861910590858235,
          0.004601123030148702
         ],
         "yaxis": "y"
        }
       ],
       "layout": {
        "legend": {
         "tracegroupgap": 0
        },
        "template": {
         "data": {
          "bar": [
           {
            "error_x": {
             "color": "#2a3f5f"
            },
            "error_y": {
             "color": "#2a3f5f"
            },
            "marker": {
             "line": {
              "color": "#E5ECF6",
              "width": 0.5
             },
             "pattern": {
              "fillmode": "overlay",
              "size": 10,
              "solidity": 0.2
             }
            },
            "type": "bar"
           }
          ],
          "barpolar": [
           {
            "marker": {
             "line": {
              "color": "#E5ECF6",
              "width": 0.5
             },
             "pattern": {
              "fillmode": "overlay",
              "size": 10,
              "solidity": 0.2
             }
            },
            "type": "barpolar"
           }
          ],
          "carpet": [
           {
            "aaxis": {
             "endlinecolor": "#2a3f5f",
             "gridcolor": "white",
             "linecolor": "white",
             "minorgridcolor": "white",
             "startlinecolor": "#2a3f5f"
            },
            "baxis": {
             "endlinecolor": "#2a3f5f",
             "gridcolor": "white",
             "linecolor": "white",
             "minorgridcolor": "white",
             "startlinecolor": "#2a3f5f"
            },
            "type": "carpet"
           }
          ],
          "choropleth": [
           {
            "colorbar": {
             "outlinewidth": 0,
             "ticks": ""
            },
            "type": "choropleth"
           }
          ],
          "contour": [
           {
            "colorbar": {
             "outlinewidth": 0,
             "ticks": ""
            },
            "colorscale": [
             [
              0,
              "#0d0887"
             ],
             [
              0.1111111111111111,
              "#46039f"
             ],
             [
              0.2222222222222222,
              "#7201a8"
             ],
             [
              0.3333333333333333,
              "#9c179e"
             ],
             [
              0.4444444444444444,
              "#bd3786"
             ],
             [
              0.5555555555555556,
              "#d8576b"
             ],
             [
              0.6666666666666666,
              "#ed7953"
             ],
             [
              0.7777777777777778,
              "#fb9f3a"
             ],
             [
              0.8888888888888888,
              "#fdca26"
             ],
             [
              1,
              "#f0f921"
             ]
            ],
            "type": "contour"
           }
          ],
          "contourcarpet": [
           {
            "colorbar": {
             "outlinewidth": 0,
             "ticks": ""
            },
            "type": "contourcarpet"
           }
          ],
          "heatmap": [
           {
            "colorbar": {
             "outlinewidth": 0,
             "ticks": ""
            },
            "colorscale": [
             [
              0,
              "#0d0887"
             ],
             [
              0.1111111111111111,
              "#46039f"
             ],
             [
              0.2222222222222222,
              "#7201a8"
             ],
             [
              0.3333333333333333,
              "#9c179e"
             ],
             [
              0.4444444444444444,
              "#bd3786"
             ],
             [
              0.5555555555555556,
              "#d8576b"
             ],
             [
              0.6666666666666666,
              "#ed7953"
             ],
             [
              0.7777777777777778,
              "#fb9f3a"
             ],
             [
              0.8888888888888888,
              "#fdca26"
             ],
             [
              1,
              "#f0f921"
             ]
            ],
            "type": "heatmap"
           }
          ],
          "heatmapgl": [
           {
            "colorbar": {
             "outlinewidth": 0,
             "ticks": ""
            },
            "colorscale": [
             [
              0,
              "#0d0887"
             ],
             [
              0.1111111111111111,
              "#46039f"
             ],
             [
              0.2222222222222222,
              "#7201a8"
             ],
             [
              0.3333333333333333,
              "#9c179e"
             ],
             [
              0.4444444444444444,
              "#bd3786"
             ],
             [
              0.5555555555555556,
              "#d8576b"
             ],
             [
              0.6666666666666666,
              "#ed7953"
             ],
             [
              0.7777777777777778,
              "#fb9f3a"
             ],
             [
              0.8888888888888888,
              "#fdca26"
             ],
             [
              1,
              "#f0f921"
             ]
            ],
            "type": "heatmapgl"
           }
          ],
          "histogram": [
           {
            "marker": {
             "pattern": {
              "fillmode": "overlay",
              "size": 10,
              "solidity": 0.2
             }
            },
            "type": "histogram"
           }
          ],
          "histogram2d": [
           {
            "colorbar": {
             "outlinewidth": 0,
             "ticks": ""
            },
            "colorscale": [
             [
              0,
              "#0d0887"
             ],
             [
              0.1111111111111111,
              "#46039f"
             ],
             [
              0.2222222222222222,
              "#7201a8"
             ],
             [
              0.3333333333333333,
              "#9c179e"
             ],
             [
              0.4444444444444444,
              "#bd3786"
             ],
             [
              0.5555555555555556,
              "#d8576b"
             ],
             [
              0.6666666666666666,
              "#ed7953"
             ],
             [
              0.7777777777777778,
              "#fb9f3a"
             ],
             [
              0.8888888888888888,
              "#fdca26"
             ],
             [
              1,
              "#f0f921"
             ]
            ],
            "type": "histogram2d"
           }
          ],
          "histogram2dcontour": [
           {
            "colorbar": {
             "outlinewidth": 0,
             "ticks": ""
            },
            "colorscale": [
             [
              0,
              "#0d0887"
             ],
             [
              0.1111111111111111,
              "#46039f"
             ],
             [
              0.2222222222222222,
              "#7201a8"
             ],
             [
              0.3333333333333333,
              "#9c179e"
             ],
             [
              0.4444444444444444,
              "#bd3786"
             ],
             [
              0.5555555555555556,
              "#d8576b"
             ],
             [
              0.6666666666666666,
              "#ed7953"
             ],
             [
              0.7777777777777778,
              "#fb9f3a"
             ],
             [
              0.8888888888888888,
              "#fdca26"
             ],
             [
              1,
              "#f0f921"
             ]
            ],
            "type": "histogram2dcontour"
           }
          ],
          "mesh3d": [
           {
            "colorbar": {
             "outlinewidth": 0,
             "ticks": ""
            },
            "type": "mesh3d"
           }
          ],
          "parcoords": [
           {
            "line": {
             "colorbar": {
              "outlinewidth": 0,
              "ticks": ""
             }
            },
            "type": "parcoords"
           }
          ],
          "pie": [
           {
            "automargin": true,
            "type": "pie"
           }
          ],
          "scatter": [
           {
            "fillpattern": {
             "fillmode": "overlay",
             "size": 10,
             "solidity": 0.2
            },
            "type": "scatter"
           }
          ],
          "scatter3d": [
           {
            "line": {
             "colorbar": {
              "outlinewidth": 0,
              "ticks": ""
             }
            },
            "marker": {
             "colorbar": {
              "outlinewidth": 0,
              "ticks": ""
             }
            },
            "type": "scatter3d"
           }
          ],
          "scattercarpet": [
           {
            "marker": {
             "colorbar": {
              "outlinewidth": 0,
              "ticks": ""
             }
            },
            "type": "scattercarpet"
           }
          ],
          "scattergeo": [
           {
            "marker": {
             "colorbar": {
              "outlinewidth": 0,
              "ticks": ""
             }
            },
            "type": "scattergeo"
           }
          ],
          "scattergl": [
           {
            "marker": {
             "colorbar": {
              "outlinewidth": 0,
              "ticks": ""
             }
            },
            "type": "scattergl"
           }
          ],
          "scattermapbox": [
           {
            "marker": {
             "colorbar": {
              "outlinewidth": 0,
              "ticks": ""
             }
            },
            "type": "scattermapbox"
           }
          ],
          "scatterpolar": [
           {
            "marker": {
             "colorbar": {
              "outlinewidth": 0,
              "ticks": ""
             }
            },
            "type": "scatterpolar"
           }
          ],
          "scatterpolargl": [
           {
            "marker": {
             "colorbar": {
              "outlinewidth": 0,
              "ticks": ""
             }
            },
            "type": "scatterpolargl"
           }
          ],
          "scatterternary": [
           {
            "marker": {
             "colorbar": {
              "outlinewidth": 0,
              "ticks": ""
             }
            },
            "type": "scatterternary"
           }
          ],
          "surface": [
           {
            "colorbar": {
             "outlinewidth": 0,
             "ticks": ""
            },
            "colorscale": [
             [
              0,
              "#0d0887"
             ],
             [
              0.1111111111111111,
              "#46039f"
             ],
             [
              0.2222222222222222,
              "#7201a8"
             ],
             [
              0.3333333333333333,
              "#9c179e"
             ],
             [
              0.4444444444444444,
              "#bd3786"
             ],
             [
              0.5555555555555556,
              "#d8576b"
             ],
             [
              0.6666666666666666,
              "#ed7953"
             ],
             [
              0.7777777777777778,
              "#fb9f3a"
             ],
             [
              0.8888888888888888,
              "#fdca26"
             ],
             [
              1,
              "#f0f921"
             ]
            ],
            "type": "surface"
           }
          ],
          "table": [
           {
            "cells": {
             "fill": {
              "color": "#EBF0F8"
             },
             "line": {
              "color": "white"
             }
            },
            "header": {
             "fill": {
              "color": "#C8D4E3"
             },
             "line": {
              "color": "white"
             }
            },
            "type": "table"
           }
          ]
         },
         "layout": {
          "annotationdefaults": {
           "arrowcolor": "#2a3f5f",
           "arrowhead": 0,
           "arrowwidth": 1
          },
          "autotypenumbers": "strict",
          "coloraxis": {
           "colorbar": {
            "outlinewidth": 0,
            "ticks": ""
           }
          },
          "colorscale": {
           "diverging": [
            [
             0,
             "#8e0152"
            ],
            [
             0.1,
             "#c51b7d"
            ],
            [
             0.2,
             "#de77ae"
            ],
            [
             0.3,
             "#f1b6da"
            ],
            [
             0.4,
             "#fde0ef"
            ],
            [
             0.5,
             "#f7f7f7"
            ],
            [
             0.6,
             "#e6f5d0"
            ],
            [
             0.7,
             "#b8e186"
            ],
            [
             0.8,
             "#7fbc41"
            ],
            [
             0.9,
             "#4d9221"
            ],
            [
             1,
             "#276419"
            ]
           ],
           "sequential": [
            [
             0,
             "#0d0887"
            ],
            [
             0.1111111111111111,
             "#46039f"
            ],
            [
             0.2222222222222222,
             "#7201a8"
            ],
            [
             0.3333333333333333,
             "#9c179e"
            ],
            [
             0.4444444444444444,
             "#bd3786"
            ],
            [
             0.5555555555555556,
             "#d8576b"
            ],
            [
             0.6666666666666666,
             "#ed7953"
            ],
            [
             0.7777777777777778,
             "#fb9f3a"
            ],
            [
             0.8888888888888888,
             "#fdca26"
            ],
            [
             1,
             "#f0f921"
            ]
           ],
           "sequentialminus": [
            [
             0,
             "#0d0887"
            ],
            [
             0.1111111111111111,
             "#46039f"
            ],
            [
             0.2222222222222222,
             "#7201a8"
            ],
            [
             0.3333333333333333,
             "#9c179e"
            ],
            [
             0.4444444444444444,
             "#bd3786"
            ],
            [
             0.5555555555555556,
             "#d8576b"
            ],
            [
             0.6666666666666666,
             "#ed7953"
            ],
            [
             0.7777777777777778,
             "#fb9f3a"
            ],
            [
             0.8888888888888888,
             "#fdca26"
            ],
            [
             1,
             "#f0f921"
            ]
           ]
          },
          "colorway": [
           "#636efa",
           "#EF553B",
           "#00cc96",
           "#ab63fa",
           "#FFA15A",
           "#19d3f3",
           "#FF6692",
           "#B6E880",
           "#FF97FF",
           "#FECB52"
          ],
          "font": {
           "color": "#2a3f5f"
          },
          "geo": {
           "bgcolor": "white",
           "lakecolor": "white",
           "landcolor": "#E5ECF6",
           "showlakes": true,
           "showland": true,
           "subunitcolor": "white"
          },
          "hoverlabel": {
           "align": "left"
          },
          "hovermode": "closest",
          "mapbox": {
           "style": "light"
          },
          "paper_bgcolor": "white",
          "plot_bgcolor": "#E5ECF6",
          "polar": {
           "angularaxis": {
            "gridcolor": "white",
            "linecolor": "white",
            "ticks": ""
           },
           "bgcolor": "#E5ECF6",
           "radialaxis": {
            "gridcolor": "white",
            "linecolor": "white",
            "ticks": ""
           }
          },
          "scene": {
           "xaxis": {
            "backgroundcolor": "#E5ECF6",
            "gridcolor": "white",
            "gridwidth": 2,
            "linecolor": "white",
            "showbackground": true,
            "ticks": "",
            "zerolinecolor": "white"
           },
           "yaxis": {
            "backgroundcolor": "#E5ECF6",
            "gridcolor": "white",
            "gridwidth": 2,
            "linecolor": "white",
            "showbackground": true,
            "ticks": "",
            "zerolinecolor": "white"
           },
           "zaxis": {
            "backgroundcolor": "#E5ECF6",
            "gridcolor": "white",
            "gridwidth": 2,
            "linecolor": "white",
            "showbackground": true,
            "ticks": "",
            "zerolinecolor": "white"
           }
          },
          "shapedefaults": {
           "line": {
            "color": "#2a3f5f"
           }
          },
          "ternary": {
           "aaxis": {
            "gridcolor": "white",
            "linecolor": "white",
            "ticks": ""
           },
           "baxis": {
            "gridcolor": "white",
            "linecolor": "white",
            "ticks": ""
           },
           "bgcolor": "#E5ECF6",
           "caxis": {
            "gridcolor": "white",
            "linecolor": "white",
            "ticks": ""
           }
          },
          "title": {
           "x": 0.05
          },
          "xaxis": {
           "automargin": true,
           "gridcolor": "white",
           "linecolor": "white",
           "ticks": "",
           "title": {
            "standoff": 15
           },
           "zerolinecolor": "white",
           "zerolinewidth": 2
          },
          "yaxis": {
           "automargin": true,
           "gridcolor": "white",
           "linecolor": "white",
           "ticks": "",
           "title": {
            "standoff": 15
           },
           "zerolinecolor": "white",
           "zerolinewidth": 2
          }
         }
        },
        "title": {
         "text": "Scatter Plot of First Two Principal Components after Truncated SVD"
        },
        "xaxis": {
         "anchor": "y",
         "domain": [
          0,
          1
         ],
         "title": {
          "text": "Principal Component 1"
         }
        },
        "yaxis": {
         "anchor": "x",
         "domain": [
          0,
          1
         ],
         "title": {
          "text": "Principal Component 2"
         }
        }
       }
      }
     },
     "metadata": {},
     "output_type": "display_data"
    }
   ],
   "source": [
    "from sklearn.decomposition import TruncatedSVD\n",
    "svd = TruncatedSVD(n_components=2)\n",
    "TSVD = svd.fit_transform(cleaned_normalize)\n",
    "\n",
    "TSVDfig = px.scatter(\n",
    "    TSVD,\n",
    "    x=0,\n",
    "    y=1,\n",
    "    title='Scatter Plot of First Two Principal Components after Truncated SVD',\n",
    "    labels={'0': 'Principal Component 1', '1': 'Principal Component 2'}\n",
    ")\n",
    "\n",
    "TSVDfig.show()\n"
   ]
  }
 ],
 "metadata": {
  "kernelspec": {
   "display_name": "Python 3 (ipykernel)",
   "language": "python",
   "name": "python3"
  },
  "language_info": {
   "codemirror_mode": {
    "name": "ipython",
    "version": 3
   },
   "file_extension": ".py",
   "mimetype": "text/x-python",
   "name": "python",
   "nbconvert_exporter": "python",
   "pygments_lexer": "ipython3",
   "version": "3.12.1"
  }
 },
 "nbformat": 4,
 "nbformat_minor": 5
}
